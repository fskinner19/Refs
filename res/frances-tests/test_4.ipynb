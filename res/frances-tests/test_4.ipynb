{
 "cells": [
  {
   "cell_type": "code",
   "execution_count": 2,
   "metadata": {},
   "outputs": [],
   "source": [
    "import os\n",
    "import sys\n",
    "#webapp_path = os.path.join('/Users/name/www/pyref')\n",
    "webapp_path = os.path.join('../pyref')\n",
    "sys.path.append(webapp_path)"
   ]
  },
  {
   "cell_type": "code",
   "execution_count": 3,
   "metadata": {},
   "outputs": [],
   "source": [
    "os.environ['DJANGO_SETTINGS_MODULE'] = 'pyref.settings'\n",
    "import django"
   ]
  },
  {
   "cell_type": "code",
   "execution_count": 4,
   "metadata": {},
   "outputs": [],
   "source": [
    "django.setup()"
   ]
  },
  {
   "cell_type": "code",
   "execution_count": 5,
   "metadata": {},
   "outputs": [],
   "source": [
    "from refs.models import Ref, get_ref_from_doi"
   ]
  },
  {
   "cell_type": "code",
   "execution_count": 6,
   "metadata": {},
   "outputs": [],
   "source": [
    "doi = '10.1103/PhysRevA.85.032515'"
   ]
  },
  {
   "cell_type": "code",
   "execution_count": 7,
   "metadata": {},
   "outputs": [
    {
     "name": "stdout",
     "output_type": "stream",
     "text": [
      "None: S. Bin Zhang, D. L. Yeager, Complex-scaled multireference configuration-interaction method to study Be and Be-like cations' (B, C, N, O, Mg) Auger resonances1s2s22p1,3Po\n"
     ]
    }
   ],
   "source": [
    "ref = get_ref_from_doi(doi)\n",
    "print(ref)"
   ]
  },
  {
   "cell_type": "code",
   "execution_count": 8,
   "metadata": {},
   "outputs": [],
   "source": [
    "import requests\n",
    "import json"
   ]
  },
  {
   "cell_type": "code",
   "execution_count": 26,
   "metadata": {},
   "outputs": [],
   "source": [
    "token=\ads_token\n",
    "payload = {\"bibcode\": [\"2019MNRAS.488.2332L\"],\n",
    "           \"sort\": \"first_author asc\",\n",
    "           \"format\":\n",
    "           '''{\"ref_json\": {\"authors\": \"%I\",\n",
    "              \"title\": \"%T\",\n",
    "              \"journal\": \"%J\",\n",
    "              \"volume\": \"%V\",\n",
    "              \"start-page\": \"%p\",\n",
    "              \"end-page\": \"%P\",\n",
    "              \"year\": %Y,\n",
    "              \"doi\": \"%d\",\n",
    "              \"bibcode\": \"%u\"}}'''\n",
    "              }\n",
    "r = requests.post(\"https://api.adsabs.harvard.edu/v1/export/custom\", \\\n",
    "                 headers={\"Authorization\": \"Bearer \" + token, \"Content-type\": \"application/json\"}, \\\n",
    "                 data=json.dumps(payload))\n",
    "response_json = r.json()\n",
    "ref_json = json.loads(response_json['export'])['ref_json']"
   ]
  },
  {
   "cell_type": "code",
   "execution_count": 30,
   "metadata": {},
   "outputs": [
    {
     "name": "stdout",
     "output_type": "stream",
     "text": [
      "authors: Langleben, J., J. Tennyson, S. N. Yurchenko, and P. Bernath\n",
      "title: ExoMol line list - XXXIV. A rovibrational line list for phosphinidene (PH) in its X {}^3Σ ^- and a {}^1∆ electronic states\n",
      "journal: Monthly Notices of the Royal Astronomical Society\n",
      "volume: 488\n",
      "start-page: 2332\n",
      "end-page: 2342\n",
      "year: 2019\n",
      "doi: 10.1093/mnras/stz1856\n",
      "bibcode: https://ui.adsabs.harvard.edu/abs/2019MNRAS.488.2332L\n"
     ]
    }
   ],
   "source": [
    "print('authors:', ref_json['authors'])\n",
    "print('title:', ref_json['title'])\n",
    "print('journal:', ref_json['journal'])\n",
    "print('volume:', ref_json['volume'])\n",
    "print('start-page:', ref_json['start-page'])\n",
    "print('end-page:', ref_json['end-page'])\n",
    "print('year:', ref_json['year'])\n",
    "print('doi:', ref_json['doi'])\n",
    "print('bibcode:', ref_json['bibcode'])"
   ]
  },
  {
   "cell_type": "code",
   "execution_count": 20,
   "metadata": {},
   "outputs": [
    {
     "data": {
      "text/plain": [
       "'{\"ref_json\": {\"authors\": \"Langleben, J., J. Tennyson, S. N. Yurchenko, and P. Bernath\",\\n              \"title\": \"ExoMol line list - XXXIV. A rovibrational line list for phosphinidene (PH) in its X {}^3Σ ^- and a {}^1∆ electronic states\",\\n              \"journal\": \"Monthly Notices of the Royal Astronomical Society\",\\n              \"volume\": \"488\",\\n              \"start-page\": \"2332\",\\n              \"end-page\": \"2342\",\\n              \"year\": 2019,\\n              \"doi\": \"10.1093/mnras/stz1856\",\\n              \"bibcode\": \"https://ui.adsabs.harvard.edu/abs/2019MNRAS.488.2332L\"}}'"
      ]
     },
     "execution_count": 20,
     "metadata": {},
     "output_type": "execute_result"
    }
   ],
   "source": [
    "response_json['export']"
   ]
  },
  {
   "cell_type": "code",
   "execution_count": null,
   "metadata": {},
   "outputs": [],
   "source": []
  }
 ],
 "metadata": {
  "kernelspec": {
   "display_name": "Python 3",
   "language": "python",
   "name": "python3"
  },
  "language_info": {
   "codemirror_mode": {
    "name": "ipython",
    "version": 3
   },
   "file_extension": ".py",
   "mimetype": "text/x-python",
   "name": "python",
   "nbconvert_exporter": "python",
   "pygments_lexer": "ipython3",
   "version": "3.6.9"
  }
 },
 "nbformat": 4,
 "nbformat_minor": 2
}
