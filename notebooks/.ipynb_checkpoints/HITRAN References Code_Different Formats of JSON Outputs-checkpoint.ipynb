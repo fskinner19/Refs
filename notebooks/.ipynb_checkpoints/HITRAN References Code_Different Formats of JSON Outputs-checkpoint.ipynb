{
 "cells": [
  {
   "cell_type": "markdown",
   "metadata": {},
   "source": [
    "Explanation of Contents\n",
    "\n",
    "  1. Exporting using bibcodes require two things. 1.Bibcode Number 2.Token \n",
    "  2. I provided several options to test the json output, the two main methods is by exporting and then requesting\n",
    "  3. The first option is a custom exportation of a reference using bibcodes, the html for the doi begins with https://doi.org/\n",
    "  4. Next I provided a similar option but this time with an html for the doi that begins with http://dx.doi.org/\n",
    "  5. I noticed that most references in HITRAN have three options, regular text, html or latex fields for entering information, therefore I provide options for encoding references in html and latex as well as regular text (if needed)\n",
    "  6. The second option is to encode the output in html format, this method still uses 'exportation' from ADS\n",
    "  7. The third option is to encode the output in latex format, this method still uses 'exportation' from ADS\n",
    "  8. The fourth option is to encode using requests, which pulls information using an encoded DOI\n",
    "  9. If you would like to test the json output then simply copy the json output and paste it in a text file, then change the .txt part of the file name to .html and save it. Then open the document (which should now be an html document) and click on the hyperlinks and review the output format"
   ]
  },
  {
   "cell_type": "markdown",
   "metadata": {},
   "source": [
    "*** You will need to know what a Token is. It must be used whenever you want to access the ADS database.\n",
    "A token can only be used once you have an account on NASA/ADS https://ui.adsabs.harvard.edu/.\n",
    "Once you have an account click on 'Account' in the top right hand corner, then click on 'Customize Settings' on the dropdown menu.\n",
    "In 'Customize Settings' there is a panel to the left of the screen, if you scroll down that panel you will see 'API Token'.\n",
    "Click on 'API Token' and then click on 'generate a new key', if you want to use this notebook you may also use the token that is provided. \n",
    "\n",
    "*** This is the link to the NASA/ADS API Information tool on GitHub https://github.com/adsabs/adsabs-dev-api#access-settings"
   ]
  },
  {
   "cell_type": "markdown",
   "metadata": {},
   "source": [
    "### Exporting using BibCodes"
   ]
  },
  {
   "cell_type": "code",
   "execution_count": 16,
   "metadata": {},
   "outputs": [
    {
     "name": "stdout",
     "output_type": "stream",
     "text": [
      "{'msg': 'Retrieved 1 abstracts, starting with number 1.', 'export': '%Z:H2O-nu-0: Kurtz, M. J., G. Eichhorn, A. Accomazzi, C. S. Grant, S. S. Murray, and J. M. Watson,\"The NASA Astrophysics Data System: Overview\", <i>Astronomy and Astrophysics Supplement Series</i>, <b>143</b>, 41-59, (2000), <a href=\"https:\\\\doi.org\\\\10.1051/aas:2000170\">DOI</a>}, <a href=\"https://ui.adsabs.harvard.edu/abs/2000A&AS..143...41K\">Bibcode</a>'}\n"
     ]
    }
   ],
   "source": [
    "# Before each exporting option it should always start with 'import requests' and 'import json'\n",
    "\n",
    "import requests\n",
    "import json\n",
    "\n",
    "# This is where the token goes, between the \"\" \n",
    "token=\"gx43LyUuTTD0zoTWx8qKpWbWi3euTmx7FCM3fJjY\"\n",
    "# In the [] is where the bibcode(s) is/are entered, yes you can enter more than one bibcode at a time using this method\n",
    "# If you want to enter more than one bibcode just put a \\ inbetween them to seperate them\n",
    "payload = {\"bibcode\":[\"2000A&AS..143...41K\"],\\\n",
    "           \"sort\": \"first_author asc\",\\\n",
    "          'format':\\\n",
    "           '%Z:H2O-nu-0: %I,\"%T\", <i>%J</i>, <b>%V</b>, %p-%P, (%Y), <a href=\"https:\\\\doi.org\\%d\">DOI</a>}, <a href=\"%u\">Bibcode</a>'}\n",
    "# Above in payload, is the code for the format. I will explain what everything means in notes here.\n",
    "# %Z allows us to give the reference an identifer, here thats H2O-nu-0\n",
    "# %I is a custom output for the authors, they generate the authors names as f. i. lastname with commas in between each author\n",
    "# \"%T\" gives the Title of the article and puts the title in quotes\n",
    "# <i>%J</i> this gives the journal name and italisizes it \n",
    "# <b>%V</b> this gives the volume number for the article and bolds it\n",
    "# %p-%P this gives the first page to the last page for the article\n",
    "# (%Y) this gives the year of the article and puts it in parenthasis\n",
    "# hyperlinks only work with the format <a href=\"ENTER HYPERLINK HERE\">LINK IDENTIFIER</a>\n",
    "# %d in the first hyperlink grabs the DOI for the article, therefore this is in the hyperlink portion so the output is https://doi.org/doi_number (labeled as DOI)\n",
    "# %u in the second hyperlink, it grabs the bibcode only(%u), no need to add an https portion, then the identifer is Bibcode\n",
    "r = requests.post(\"https://api.adsabs.harvard.edu/v1/export/custom\", \\\n",
    "                 headers={\"Authorization\": \"Bearer \" + token, \"Content-type\": \"application/json\"}, \\\n",
    "                 data=json.dumps(payload))\n",
    "# above we are requesting ads for permission to access this information, then we ask it to provide an output for our reference\n",
    "# below is we print the reference in json format\n",
    "print(r.json())"
   ]
  },
  {
   "cell_type": "markdown",
   "metadata": {},
   "source": [
    "### Below is almost exactly the same as the one above, except here the hyperlink for the doi has the url 'http://dx.doi.org/"
   ]
  },
  {
   "cell_type": "code",
   "execution_count": 1,
   "metadata": {},
   "outputs": [
    {
     "name": "stdout",
     "output_type": "stream",
     "text": [
      "{'msg': 'Retrieved 1 abstracts, starting with number 1.', 'export': '%Z:H2O-nu-0: Kurtz, M. J., G. Eichhorn, A. Accomazzi, C. S. Grant, S. S. Murray, and J. M. Watson,\"The NASA Astrophysics Data System: Overview\", <i>Astronomy and Astrophysics Supplement Series</i>, <b>143</b>, 41-59, (2000), <a href=\"http://dx.doi.org/10.1051/aas:2000170\">DOI</a>}, <a href=\"https://ui.adsabs.harvard.edu/abs/2000A&AS..143...41K\">Bibcode</a>'}\n"
     ]
    }
   ],
   "source": [
    "import requests\n",
    "import json\n",
    "\n",
    "token=\"gx43LyUuTTD0zoTWx8qKpWbWi3euTmx7FCM3fJjY\"\n",
    "payload = {\"bibcode\":[\"2000A&AS..143...41K\"],\\\n",
    "           \"sort\": \"first_author asc\",\\\n",
    "          'format':\\\n",
    "           '%Z:H2O-nu-0: %I,\"%T\", <i>%J</i>, <b>%V</b>, %p-%P, (%Y), <a href=\"http://dx.doi.org/%d\">DOI</a>}, <a href=\"%u\">Bibcode</a>'}\n",
    "r = requests.post(\"https://api.adsabs.harvard.edu/v1/export/custom\", \\\n",
    "                 headers={\"Authorization\": \"Bearer \" + token, \"Content-type\": \"application/json\"}, \\\n",
    "                 data=json.dumps(payload))\n",
    "print(r.json())"
   ]
  },
  {
   "cell_type": "markdown",
   "metadata": {},
   "source": [
    "### Below is the Prompt for adding references"
   ]
  },
  {
   "cell_type": "code",
   "execution_count": null,
   "metadata": {},
   "outputs": [],
   "source": [
    "# DO not run this cell, it is incomplete and is only to be used as a template\n",
    "# Prompt (only change in ENTER HERE PORTIONS)\n",
    "# I provided this prompt to make it easier to see the coding without all the notes\n",
    "# Also note that there is only two 'enter here options', thats where the token and bibcode(s) go, those should be the only two parts that need to be added\n",
    "import requests\n",
    "import json\n",
    "\n",
    "token=\"ENTER TOKEN HERE\"\n",
    "payload = {\"bibcode\":[\"ENTER BIBCODE(S) HERE\"],\\\n",
    "           \"sort\": \"first_author asc\",\\\n",
    "          'format': \\\n",
    "           '%Z:ENTER IDENTIFIER NAME HERE, %I, \"%T\", <i>%J</i>, <b>%V</b>, %p-%P, (%Y), DOI:<a href=\"https:\\\\doi.org\\%d\">DOI</a>}, <a href=\"%u\">Bibcode</a>'}\n",
    "r = requests.post(\"https://api.adsabs.harvard.edu/v1/export/custom\", \\\n",
    "                 headers={\"Authorization\": \"Bearer \" + token, \"Content-type\": \"application/json\"}, \\\n",
    "                 data=json.dumps(payload))\n",
    "print(r.json())"
   ]
  },
  {
   "cell_type": "markdown",
   "metadata": {},
   "source": [
    "### Encoding in HTML"
   ]
  },
  {
   "cell_type": "code",
   "execution_count": 19,
   "metadata": {},
   "outputs": [
    {
     "name": "stdout",
     "output_type": "stream",
     "text": [
      "{'msg': 'Retrieved 1 abstracts, starting with number 1.', 'export': '<p> %Z:H2O-nu-0, Kurtz, M. J., G. Eichhorn, A. Accomazzi, C. S. Grant, S. S. Murray, and J. M. Watson, \"The NASA Astrophysics Data System: Overview\", <i>Astronomy and Astrophysics Supplement Series</i>, <b>143</b>, 41-59, (2000), <a href=\"https:\\\\doi.org\\\\10.1051/aas:2000170\">DOI</a>, <a href=\"https://ui.adsabs.harvard.edu/abs/2000A&amp;AS..143...41K\">Bibcode</a>'}\n"
     ]
    }
   ],
   "source": [
    "# I provided this as a second option, it is exactly the same as the first except there is an %Encoding:html<p> portion\n",
    "# this portion converts characters in URLs to hex notation, and & to &. Outside URLs, the characters &, <, >, and “ are converted to &, <, >, and \", respectively.\n",
    "# in simple terms this helps encode the output to be html formatted\n",
    "\n",
    "import requests\n",
    "import json\n",
    "\n",
    "token=\"gx43LyUuTTD0zoTWx8qKpWbWi3euTmx7FCM3fJjY\"\n",
    "payload = {\"bibcode\":[\"2000A&AS..143...41K\"],\\\n",
    "          \"sort\": \"first_author asc\",\\\n",
    "          'format': '%ZEncoding:html<p> %Z:H2O-nu-0, %I, \"%T\", <i>%J</i>, <b>%V</b>, %p-%P, (%Y), <a href=\"https:\\\\doi.org\\%d\">DOI</a>, <a href=\"%u\">Bibcode</a>'}\n",
    "r = requests.post(\"https://api.adsabs.harvard.edu/v1/export/custom\", \\\n",
    "                 headers={\"Authorization\": \"Bearer \" + token, \"Content-type\": \"application/json\"}, \\\n",
    "                 data=json.dumps(payload))\n",
    "print(r.json())"
   ]
  },
  {
   "cell_type": "markdown",
   "metadata": {},
   "source": [
    "### Encoding in Latex"
   ]
  },
  {
   "cell_type": "code",
   "execution_count": 3,
   "metadata": {},
   "outputs": [
    {
     "name": "stdout",
     "output_type": "stream",
     "text": [
      "{'msg': 'Retrieved 1 abstracts, starting with number 1.', 'export': '\\\\item \\textit Kurtz, M.~J., G. Eichhorn, A. Accomazzi, C.~S. Grant, S.~S. Murray, and J.~M. Watson, \"The NASA Astrophysics Data System: Overview\", Astronomy and Astrophysics Supplement Series, 143, 41-59, (2000), \\\\href{https://ui.adsabs.harvard.edu/abs/2000A\\\\&AS..143...41K}:'}\n"
     ]
    }
   ],
   "source": [
    "# I provided this as a third option, it is exactly the same as the first except there is an %Encoding:latex\\\\item portion and a differnt format code\n",
    "# This encoding converts all special Tex characters into their Tex escape sequences\n",
    "# For instance ‘\\’ is converted to ‘$\\backslash $’, ‘$’ is converted into ‘\\$’, ‘^’ is converted into ‘\\^{}’, etc.\n",
    "# The format is also latex encoded too, the first change starts with \\textit{%J} which italisizes the journal name\n",
    "# \\textbf{%V} bolds the volume number\n",
    "# and finally \\href{%u}: is the way to call a hyperlink in latex format\n",
    "\n",
    "import requests\n",
    "import json\n",
    "\n",
    "payload = {\"bibcode\":[\"2000A&AS..143...41K\"],\\\n",
    "          \"sort\": \"first_author asc\",\\\n",
    "          'format': '%ZEncoding:latex\\\\item %I, \"%T\", \\textit{%J}, \\textbf{%V}, %p-%P, (%Y), \\href{%u}:'}\n",
    "r = requests.post(\"https://api.adsabs.harvard.edu/v1/export/custom\", \\\n",
    "                 headers={\"Authorization\": \"Bearer \" + token, \"Content-type\": \"application/json\"}, \\\n",
    "                 data=json.dumps(payload))\n",
    "print(r.json())"
   ]
  },
  {
   "cell_type": "markdown",
   "metadata": {},
   "source": [
    "### Requests, Note that the reference information such as author/ journal etc. is not printed here, which is why Requests may not work, We can check with Kelly if we want to pursue this option further."
   ]
  },
  {
   "cell_type": "code",
   "execution_count": 4,
   "metadata": {
    "scrolled": true
   },
   "outputs": [
    {
     "name": "stdout",
     "output_type": "stream",
     "text": [
      "{'responseHeader': {'status': 0, 'QTime': 9, 'params': {'q': 'identifier=10.1006/jmsp.1997.7483', 'x-amzn-trace-id': 'Root=1-5d2dc07c-d0eec72083c073f6f2be2604', 'fl': 'id', 'start': '0', 'rows': '10', 'wt': 'json'}}, 'response': {'numFound': 0, 'start': 0, 'docs': []}}\n"
     ]
    }
   ],
   "source": [
    "# This is the fourth option, requesting from ADS.\n",
    "# All that needs to be entered is the token and the coded DOI number in the url. \n",
    "# You enter the coded DOI number after 'https://api.adsabs.harvard.edu/v1/search/query?q=' thereofore it goes right after the q=\n",
    "# There is an example of how to code the DOI correctly at the end of this notebook.\n",
    "# The json output using this method seems to generate little information on the article, this is why exportation is recommended\n",
    "\n",
    "import requests\n",
    "import json\n",
    "\n",
    "token=\"gx43LyUuTTD0zoTWx8qKpWbWi3euTmx7FCM3fJjY\"\n",
    "r = requests.get(\"https://api.adsabs.harvard.edu/v1/search/query?q=identifier=10.1006%2Fjmsp.1997.7483\",\\\n",
    "                headers={'Authorization': 'Bearer ' + token})\n",
    "\n",
    "print(r.json())"
   ]
  },
  {
   "cell_type": "markdown",
   "metadata": {},
   "source": [
    "### Prompt for Requesting: Note you must code your 'search parameter' first: i.e. code your DOI in UTF-8 and URL which I show below "
   ]
  },
  {
   "cell_type": "code",
   "execution_count": null,
   "metadata": {},
   "outputs": [],
   "source": [
    "# DO not run this cell, it is incomplete and is only to be used as a template\n",
    "# This is the prompt for requesting articles using DOI's \n",
    "# You only change the token information as well as the ENTER CODED DOI HERE portion\n",
    "# Therefore there are two prompts total in this notebook, one for retrieving referencees using 'export' and one for 'requests'\n",
    "# You may note here that the main difference between the two prompts is the payload option that includes the format of our search when referencing the article\n",
    "\n",
    "import requests\n",
    "import json\n",
    "\n",
    "token=\"ENTER TOKEN HERE\"\n",
    "r = requests.get(\"https://api.adsabs.harvard.edu/v1/search/query?q=ENTER CODED DOI HERE\",\\\n",
    "                headers={'Authorization': 'Bearer ' + token})\n",
    "\n",
    "print(r.json())"
   ]
  },
  {
   "cell_type": "markdown",
   "metadata": {},
   "source": [
    "### coding search parameters"
   ]
  },
  {
   "cell_type": "markdown",
   "metadata": {},
   "source": [
    "UTF-8 and URL encoded search parameters, Python has a package for this, though the functionality is slightly different between python 2 and python 3"
   ]
  },
  {
   "cell_type": "code",
   "execution_count": 5,
   "metadata": {},
   "outputs": [
    {
     "name": "stdout",
     "output_type": "stream",
     "text": [
      "identifier=10.1006%2Fjmsp.1997.7483\n"
     ]
    }
   ],
   "source": [
    "# This is how a DOI is encoded into UTF-8 and URL\n",
    "# There are many different options for encoding in UTF-8 and URL, but this is the one that is provided by ADS\n",
    "# However from my tests any type of preferred method of encoding to UTF-8 and URL works just as well \n",
    "# The output from this cell gives an encoded DOI number that is used in the first 'requests' cell (which is just one cell above this one)\n",
    "\n",
    "import sys\n",
    "\n",
    "v = sys.version\n",
    "\n",
    "if int(v[0]) == 2:\n",
    "    import urllib\n",
    "    query = {'identifier':'10.1006/jmsp.1997.7483'} #a doi wont work but the author did??\n",
    "    encoded_query = urllib.quote(query)\n",
    "else:\n",
    "    from urllib.parse import urlencode, quote_plus\n",
    "    query = {\"identifier\":\"10.1006/jmsp.1997.7483\"}\n",
    "    encoded_query = urlencode(query,quote_via=quote_plus)\n",
    "print(encoded_query)"
   ]
  }
 ],
 "metadata": {
  "kernelspec": {
   "display_name": "Python 3",
   "language": "python",
   "name": "python3"
  },
  "language_info": {
   "codemirror_mode": {
    "name": "ipython",
    "version": 3
   },
   "file_extension": ".py",
   "mimetype": "text/x-python",
   "name": "python",
   "nbconvert_exporter": "python",
   "pygments_lexer": "ipython3",
   "version": "3.6.9"
  }
 },
 "nbformat": 4,
 "nbformat_minor": 2
}
