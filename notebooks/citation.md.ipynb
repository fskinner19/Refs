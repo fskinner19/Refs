{
 "cells": [
  {
   "cell_type": "markdown",
   "metadata": {},
   "source": [
    "# Citation"
   ]
  },
  {
   "cell_type": "markdown",
   "metadata": {},
   "source": [
    "## The following may be used to cite the source of this work:"
   ]
  },
  {
   "cell_type": "markdown",
   "metadata": {},
   "source": [
    "### BibTeX"
   ]
  },
  {
   "cell_type": "markdown",
   "metadata": {},
   "source": [
    "@article{skinner2020referencing, <br>\n",
    "  title={Referencing Sources of Molecular Spectroscopic Data in the Era of Data Science: Application to the HITRAN and AMBDAS Databases}, <br>\n",
    "  author={Skinner, Frances M and Gordon, Iouli E and Hill, Christian and Hargreaves, Robert J and Lockhart, Kelly E and Rothman, Laurence S}, <br>\n",
    "  journal={Atoms}, <br>\n",
    "  volume={8}, <br>\n",
    "  number={2}, <br>\n",
    "  pages={16}, <br>\n",
    "  year={2020}, <br>\n",
    "  arxiv={2005.07544}, <br>\n",
    "  doi={10.3390/atoms8020016},<br>\n",
    "  url={https://doi.org/10.3390/atoms8020016},<br>\n",
    "  publisher={Multidisciplinary Digital Publishing Institute}<br>\n",
    "}"
   ]
  },
  {
   "cell_type": "markdown",
   "metadata": {},
   "source": [
    "### JSON"
   ]
  },
  {
   "cell_type": "markdown",
   "metadata": {},
   "source": [
    "Authors: F. M. Skinner, I. E. Gordon, C. Hill, R. J. Hargreaves, K. E. Lockhart, L. S. Rothman  <br>\n",
    "Title: Referencing Sources of Molecular Spectroscopic Data in the Era of Data Science: Application to the HITRAN and AMBDAS Databases <br>\n",
    "Journal: Atoms <br>\n",
    "Volume: 8 <br>\n",
    "Year: 2020 <br>\n",
    "Article Number: 16 <br>\n",
    "arXiv: 2005.07544 <br>\n",
    "DOI: 10.3390/atoms8020016 <br>\n",
    "URL: http://dx.doi.org/10.3390/atoms8020016"
   ]
  },
  {
   "cell_type": "markdown",
   "metadata": {},
   "source": [
    "### HTML"
   ]
  },
  {
   "cell_type": "markdown",
   "metadata": {},
   "source": [
    "&#x27;F. M. Skinner, I. E. Gordon, C. Hill, R. J. Hargreaves, K. E. Lockhart, L. S. Rothman&#x27;, &#x27;Referencing Sources of Molecular Spectroscopic Data in the Era of Data Science: Application to the HITRAN and AMBDAS Databases&#x27;, &#x27;Atoms&#x27;, &#x27;8&#x27;, 2020, &#x27;16&#x27;, &#x27;&#x27;, &#x27;10.3390/atoms8020016&#x27;, &#x27;http://dx.doi.org/10.3390/atoms8020016&#x27;, &#x27;&#x27;"
   ]
  },
  {
   "cell_type": "markdown",
   "metadata": {},
   "source": [
    "### MDPI and ACS Style"
   ]
  },
  {
   "cell_type": "markdown",
   "metadata": {},
   "source": [
    "Skinner, F.M.; Gordon, I.E.; Hill, C.; Hargreaves, R.J.; Lockhart, K.E.; Rothman, L.S.\n",
    "Referencing Sources of Molecular Spectroscopic Data in the Era of Data Science: \n",
    "Application to the HITRAN and AMBDAS Databases. \n",
    "*Atoms* **2020**, *8*, 16."
   ]
  },
  {
   "cell_type": "markdown",
   "metadata": {},
   "source": [
    "### *Note*"
   ]
  },
  {
   "cell_type": "markdown",
   "metadata": {},
   "source": [
    "Note that from the first issue of 2016, MDPI journals use article numbers instead of page numbers. See further details at (https://www.mdpi.com/about/announcements/784). "
   ]
  }
 ],
 "metadata": {
  "kernelspec": {
   "display_name": "Python 3",
   "language": "python",
   "name": "python3"
  },
  "language_info": {
   "codemirror_mode": {
    "name": "ipython",
    "version": 3
   },
   "file_extension": ".py",
   "mimetype": "text/x-python",
   "name": "python",
   "nbconvert_exporter": "python",
   "pygments_lexer": "ipython3",
   "version": "3.7.4"
  }
 },
 "nbformat": 4,
 "nbformat_minor": 2
}
