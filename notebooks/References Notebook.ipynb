{
 "cells": [
  {
   "cell_type": "markdown",
   "metadata": {},
   "source": [
    "## <font color=mediumpurple>Before Doing Anything Import the Necessary Modules"
   ]
  },
  {
   "cell_type": "code",
   "execution_count": 24,
   "metadata": {},
   "outputs": [],
   "source": [
    "# Import these modules\n",
    "#import gscholar \n",
    "import requests\n",
    "import json\n",
    "import html\n",
    "import urllib.request\n",
    "\n",
    "from urllib import request, parse  \n",
    "from bs4 import BeautifulSoup  \n",
    "from html.entities import html5 as _html5\n",
    "from urllib.error import HTTPError"
   ]
  },
  {
   "cell_type": "markdown",
   "metadata": {},
   "source": [
    "# **A Guide to creating citations using only a DOI**\n",
    "*Note: This Notebook seeks to retrieve citations for papers as 3 outputs; JSON, BibTeX and HTML. The citations in this notebook are retrieving the following information on a paper: Title, Authors, Journal Name, Volume Number, Page Range, Year, Hyperlink(s) to the Article and DOI of the Article. If you are looking for more detailed citations or other outputs then please refer to step 3 after completing steps 1 & 2!*\n",
    "\n",
    "<font color=blue>Step 1. Get DOI of the paper you want to cite</font> <br>\n",
    "<font color=red>Step 2. Use DOI to search in GScholar method -- Enter DOI in prompt provided -- Output will be the Bibcode for the paper</font> <br>\n",
    "<font color=green>Step 3. The Bibcode will automatically be populated for you to search in ADS method. The Output is customizable, all formats possible. This method includes links to paper by DOI url & ADS url</font> <br>\n",
    "<font color=magenta>Note. (This May Happen to Some Users) Error! My paper was not in ADS! There is no Bibcode for the paper! -- First make sure that the join section at the end of step 1 displays the full citation, this means that the join section at the end of the first cell in step one reads [5:-1]. Then double check in the output that there is no Bibcode at the top of the section above authors. If there is no Bibcode and you dont want the populated BibTeX reference then please Move to Step 4</font> <br>\n",
    "<font color=purple>Step 4. Use DOI to search in Urllib method -- your DOI is already populated from step 1 in Urllib Method -- Output will be the full citation as a plain text/JSON output. Output is customizable as HTML through Step 5, or in BibTeX format through Step 6</font> <br>\n",
    "<font color=teal>Step 5. The full JSON output will be populated from the Urllib method to encode it as HTML</font> <br>\n",
    "<font color=maroon>Step 6. The DOI is already populated and you will recieve the full BibTeX citation for the paper as long as the join section at the end of the first cell in step one is [5:-1]</font> <br>\n",
    "\n",
    "### *All Done!* Now you have the citation for your paper in 3 different formats!"
   ]
  },
  {
   "cell_type": "markdown",
   "metadata": {},
   "source": [
    "## <font color=blue>Step 1.</font>\n",
    "\n",
    "<font color=blue>You can retrieve the DOI for your paper in many different ways.\n",
    "1. The DOI is a unique alphanumeric string assigned by the International DOI Foundation, to identify content and provide a persistent link to its location on the Internet. It is written in the general format of '10.1000/xyz123'\n",
    "2. The DOI should be written on the top left or top right corner of your paper, it is written as 'DOI:10.1000/xyz123'\n",
    "3. The DOI should be listed in the details or citation section on the publishers website where you have found your paper\n",
    "4. The DOI may also be written as a link, next to the papers information on the publishers website, the link is written as https://doi.org/10.1000/xyz123 or https://dx.doi.org/10.1000/xyz123\n",
    "5. In order to use this notebook please type in \"ENTER HERE\" spots the DOI in the '10.1000/xyz123' format, *NOT* as hyperlink</font>"
   ]
  },
  {
   "cell_type": "markdown",
   "metadata": {},
   "source": [
    "## <font color=red>Step 2. GScholar Method</font> "
   ]
  },
  {
   "cell_type": "code",
   "execution_count": 46,
   "metadata": {},
   "outputs": [],
   "source": [
    "# Run this cell as is, the only section you change is at the end where it reads: self.ast = '\\n'.join(bib[5:-1])\n",
    "# As it is now you will recieve the full citation\n",
    "# You only want the bibcode to populate so change the join format to either: self.ast = '\\n'.join(bib[5:-16])\n",
    "# Or change the format to self.ast = '\\n'.join(bib[5:-14]) etc. whatever works for you to retrieve just the bibcode alone\n",
    "class Bibtex(object):\n",
    "    \"\"\" Convert doi number to get bibtex entries.\"\"\"\n",
    "    def __init__(self, doi=None, title=None):\n",
    "        \"\"\"Input doi number-- Returns doi, encoded doi, and doi url.\"\"\"\n",
    "        _base_url = \"http://dx.doi.org/\"\n",
    "        self.doi = doi\n",
    "        self.title = title\n",
    "        self.bibtex = None\n",
    "        if doi:\n",
    "            self._edoi = parse.quote(doi)\n",
    "            self.url = _base_url + self._edoi  \n",
    "        else:\n",
    "            self.url = None    \n",
    "\n",
    "# Beautiful Soup is a Python library for pulling data out of HTML and XML files\n",
    "    def _soupfy(self, url):\n",
    "        \"\"\"Returns a soup object.\"\"\"\n",
    "        html = request.urlopen(url).read()\n",
    "        self.soup = BeautifulSoup(html)\n",
    "        return self.soup                \n",
    "\n",
    "# Get the ADS link for the paper   \n",
    "    def getADS(self):\n",
    "        \"\"\"Get bibtex entry from doi using ADS database.\"\"\"\n",
    "        uri = \"http://adsabs.harvard.edu/cgi-bin/basic_connect?qsearch=\"\n",
    "        url = uri + self._edoi\n",
    "        print('*'*72)\n",
    "        print(url)\n",
    "        print('*'*72)\n",
    "\n",
    "# Make Beautiful Soup look for ADS Bibcode (which is necessary for retrieving the ADS link)\n",
    "        soup = self._soupfy(url)\n",
    "        try:\n",
    "            tag = soup.findAll('input', attrs={\"name\": \"bibcode\"})[0]\n",
    "        except IndexError:\n",
    "            print(\"\\nADS failed\\n\")\n",
    "        else:\n",
    "            bibcode = tag.get('value') if tag.get('value') else None\n",
    "            uri = 'http://adsabs.harvard.edu/cgi-bin/nph-bib_query?bibcode='\n",
    "            end = '&data_type=BIBTEX&db_key=AST%26nocookieset=1'\n",
    "            url = uri + bibcode + end\n",
    "            bib = request.urlopen(url).read().decode('utf-8')\n",
    "            bib = bib.split('\\n')\n",
    "# If you dont get a single bibcode then change the join format below on the right side of the : \n",
    "# change this number either higher or lower until you see your authors list or a bibcode\n",
    "# A number like -16 gives you less information populated\n",
    "# A number like -12 gives you more information populated\n",
    "# A number like -1 populates the entire references in BibTeX format\n",
    "            # Dont forget, we only want the single bibcode to be populated!\n",
    "            print(bib)\n",
    "            self.ast = '\\n'.join(bib[5:-16]) #[5:-14] #[5:-16]\n",
    "        finally:\n",
    "            return bib\n",
    "            return self.ast"
   ]
  },
  {
   "cell_type": "code",
   "execution_count": 47,
   "metadata": {},
   "outputs": [
    {
     "name": "stdout",
     "output_type": "stream",
     "text": [
      "************************************************************************\n",
      "http://adsabs.harvard.edu/cgi-bin/basic_connect?qsearch=10.1103/PhysRevA.85.032515\n",
      "************************************************************************\n",
      "['Query Results from the ADS Database', '', '', 'Retrieved 1 abstracts, starting with number 1.  Total number selected: 1.', '', '@ARTICLE{2012PhRvA..85c2515Z,', '   author = {{Zhang}, S.~B. and {Yeager}, D.~L.},', '    title = \"{Complex-scaled multireference configuration-interaction method to study Be and Be-like cations\\' (B, C, N, O, Mg) Auger resonances 1s2s$^{2}$2p $^{1,3}$P$^{o}$}\",', '  journal = {\\\\pra},', ' keywords = {Calculations and mathematical techniques in atomic and molecular physics, Other topics in the theory of the electronic structure of atoms and molecules, Auger effect and inner-shell excitation or ionization, Autoionization},', '     year = 2012,', '    month = mar,', '   volume = 85,', '   number = 3,', '      eid = {032515},', '    pages = {032515},', '      doi = {10.1103/PhysRevA.85.032515},', '   adsurl = {https://ui.adsabs.harvard.edu/abs/2012PhRvA..85c2515Z},', '  adsnote = {Provided by the SAO/NASA Astrophysics Data System}', '}', '', '']\n"
     ]
    }
   ],
   "source": [
    "doi = '10.1103/PhysRevA.85.032515'\n",
    "bib = Bibtex(doi)\n",
    "bib_response = bib.getADS()"
   ]
  },
  {
   "cell_type": "code",
   "execution_count": 45,
   "metadata": {},
   "outputs": [
    {
     "data": {
      "text/plain": [
       "['<!DOCTYPE HTML PUBLIC \"-//W3C//DTD HTML 4.0 Transitional//EN\"',\n",
       " '\"http://www.w3.org/TR/REC-html40/loose.dtd\">',\n",
       " '<HTML>',\n",
       " '<!--RAW FILE-->',\n",
       " '<head>',\n",
       " '<base href=\"http://adsabs.harvard.edu/cgi-bin/nph-bib_query?bibcode=2012PhRvA..85c2515Z&amp;data_type=HTML&amp;db_key=AST%26nocookieset=1\" />',\n",
       " '<meta name=\"viewport\" content=\"width=device-width, initial-scale=1\">',\n",
       " '<link rel=\"canonical\" href=\"http://adsabs.harvard.edu/abs/2012PhRvA..85c2515Z\" />',\n",
       " '<meta name=\"robots\" content=\"noarchive\" />',\n",
       " '<meta http-equiv=\"Content-Type\" content=\"text/html; charset=iso-8859-1\" />',\n",
       " '<TITLE>Complex-scaled multireference configuration-interaction method to study Be and B</TITLE>',\n",
       " '<meta name=\"citation_language\" content=\"en\" />',\n",
       " '<meta name=\"citation_doi\" content=\"10.1103/PhysRevA.85.032515\" />',\n",
       " '<meta name=\"citation_abstract_html_url\" content=\"http://adsabs.harvard.edu/abs/2012PhRvA..85c2515Z\" />',\n",
       " '<meta name=\"citation_title\" content=\"Complex-scaled multireference configuration-interaction method to study Be and Be-like cations\\' (B, C, N, O, Mg) Auger resonances 1s2s22p 1,3Po\" />',\n",
       " '<meta name=\"citation_authors\" content=\"Zhang, Song Bin; Yeager, Danny L.\" />',\n",
       " '<meta name=\"citation_keywords\" content=\"Calculations and mathematical techniques in atomic and molecular physics, Other topics in the theory of the electronic structure of atoms and molecules, Auger effect and inner-shell excitation or ionization, Autoionization\" />',\n",
       " '<meta name=\"citation_issn\" content=\"1050-2947\" />',\n",
       " '<meta name=\"citation_date\" content=\"03/2012\" />',\n",
       " '<meta name=\"citation_journal_title\" content=\"Physical Review A\" />',\n",
       " '<meta name=\"citation_volume\" content=\"85\" />',\n",
       " '<meta name=\"citation_issue\" content=\"3\" />',\n",
       " '<link title=\"schema(PRISM)\" rel=\"schema.prism\" href=\"http://prismstandard.org/namespaces/1.2/basic/\" />',\n",
       " '<meta name=\"prism.publicationName\" content=\"Physical Review A\" />',\n",
       " '<meta name=\"prism.issn\" content=\"1050-2947\" />',\n",
       " '<meta name=\"prism.volume\" content=\"85\" />',\n",
       " '<meta name=\"prism.startingPage\" content=\"\" />',\n",
       " '<meta name=\"prism.endingPage\" content=\"\" />',\n",
       " '<link title=\"schema(DC)\" rel=\"schema.dc\" href=\"http://purl.org/dc/elements/1.1/\" />',\n",
       " '<meta name=\"dc.language\" content=\"en\" />',\n",
       " '<meta name=\"dc.identifier\" content=\"doi:10.1103/PhysRevA.85.032515\" />',\n",
       " '<meta name=\"dc.date\" content=\"2012-03\" />',\n",
       " '<meta name=\"dc.source\" content=\"Physical Review A, vol. 85, Issue 3, id. 032515\" />',\n",
       " '<meta name=\"dc.title\" content=\"Complex-scaled multireference configuration-interaction method to study Be and Be-like cations\\' (B, C, N, O, Mg) Auger resonances 1s2s22p 1,3Po\" />',\n",
       " '<meta name=\"dc.creator\" content=\"Zhang, Song Bin\" />',\n",
       " '<meta name=\"dc.creator\" content=\"Yeager, Danny L.\" />',\n",
       " '<link rel=\"icon\" href=\"/favicon.ico\" type=\"image/x-icon\" />',\n",
       " '<link rel=\"shortcut icon\" href=\"/favicon.ico\" type=\"image/x-icon\" />',\n",
       " '<SCRIPT language=\"JavaScript\" type=\"text/javascript\">',\n",
       " '<!-- Begin',\n",
       " 'function mkemail(parts) {',\n",
       " '    var sep = \".\";',\n",
       " '    var str = arguments[0];',\n",
       " '    for ( var i = 1 ; i < arguments.length ; i++ ) {',\n",
       " '        if ( arguments[i] == \"\" ) {',\n",
       " '            sep = String.fromCharCode(29+35) ;',\n",
       " '           continue ;',\n",
       " '        } else {',\n",
       " '            str = str.concat ( sep ) ;',\n",
       " '            str = str.concat ( arguments[i] ) ;',\n",
       " '            sep = \".\";',\n",
       " '        }',\n",
       " '    }',\n",
       " '    return(str);',\n",
       " '}',\n",
       " 'var toggle = 0 ;',\n",
       " 'function t(){',\n",
       " 'if ( toggle == 0 ) {',\n",
       " 'setStyleByClass(\"span\",\"a\",\"backgroundColor\",\"#ffffff\");',\n",
       " 'setStyleByClass(\"div\",\"h\",\"backgroundColor\",\"#ffffff\");',\n",
       " 'setStyleByClass(\"div\",\"h\",\"opacity\",\"0\");',\n",
       " 'setStyleByClass(\"div\",\"h\",\"filter\",\"alpha(opacity=0)\");',\n",
       " 'setStyleByClass(\"span\",\"b\",\"backgroundColor\",\"#ffffff\");',\n",
       " 'setStyleByClass(\"div\",\"i\",\"backgroundColor\",\"#ffffff\");',\n",
       " 'setStyleByClass(\"div\",\"i\",\"opacity\",\"0\");',\n",
       " 'setStyleByClass(\"div\",\"i\",\"filter\",\"alpha(opacity=0)\");',\n",
       " 'setStyleByClass(\"span\",\"c\",\"backgroundColor\",\"#ffffff\");',\n",
       " 'setStyleByClass(\"div\",\"j\",\"backgroundColor\",\"#ffffff\");',\n",
       " 'setStyleByClass(\"div\",\"j\",\"opacity\",\"0\");',\n",
       " 'setStyleByClass(\"div\",\"j\",\"filter\",\"alpha(opacity=0)\");',\n",
       " 'setStyleByClass(\"span\",\"d\",\"backgroundColor\",\"#ffffff\");',\n",
       " 'setStyleByClass(\"div\",\"k\",\"backgroundColor\",\"#ffffff\");',\n",
       " 'setStyleByClass(\"div\",\"k\",\"opacity\",\"0\");',\n",
       " 'setStyleByClass(\"div\",\"k\",\"filter\",\"alpha(opacity=0)\");',\n",
       " 'setStyleByClass(\"span\",\"e\",\"backgroundColor\",\"#ffffff\");',\n",
       " 'setStyleByClass(\"div\",\"l\",\"backgroundColor\",\"#ffffff\");',\n",
       " 'setStyleByClass(\"div\",\"l\",\"opacity\",\"0\");',\n",
       " 'setStyleByClass(\"div\",\"l\",\"filter\",\"alpha(opacity=0)\");',\n",
       " 'setStyleByClass(\"span\",\"f\",\"backgroundColor\",\"#ffffff\");',\n",
       " 'setStyleByClass(\"div\",\"m\",\"backgroundColor\",\"#ffffff\");',\n",
       " 'setStyleByClass(\"div\",\"m\",\"opacity\",\"0\");',\n",
       " 'setStyleByClass(\"div\",\"m\",\"filter\",\"alpha(opacity=0)\");',\n",
       " 'setStyleByClass(\"span\",\"g\",\"backgroundColor\",\"#ffffff\");',\n",
       " 'setStyleByClass(\"div\",\"n\",\"backgroundColor\",\"#ffffff\");',\n",
       " 'setStyleByClass(\"div\",\"n\",\"opacity\",\"0\");',\n",
       " 'setStyleByClass(\"div\",\"n\",\"filter\",\"alpha(opacity=0)\");',\n",
       " 'toggle = 1 ;',\n",
       " '} else {',\n",
       " 'setStyleByClass(\"span\",\"a\",\"backgroundColor\",\"#ffff88\");',\n",
       " 'setStyleByClass(\"div\",\"h\",\"backgroundColor\",\"#ffff00\");',\n",
       " 'setStyleByClass(\"div\",\"h\",\"opacity\",\"0.3\");',\n",
       " 'setStyleByClass(\"div\",\"h\",\"filter\",\"alpha(opacity=30)\");',\n",
       " 'setStyleByClass(\"span\",\"b\",\"backgroundColor\",\"#ccccff\");',\n",
       " 'setStyleByClass(\"div\",\"i\",\"backgroundColor\",\"#3333ff\");',\n",
       " 'setStyleByClass(\"div\",\"i\",\"opacity\",\"0.3\");',\n",
       " 'setStyleByClass(\"div\",\"i\",\"filter\",\"alpha(opacity=30)\");',\n",
       " 'setStyleByClass(\"span\",\"c\",\"backgroundColor\",\"#ffcccc\");',\n",
       " 'setStyleByClass(\"div\",\"j\",\"backgroundColor\",\"#ff3333\");',\n",
       " 'setStyleByClass(\"div\",\"j\",\"opacity\",\"0.3\");',\n",
       " 'setStyleByClass(\"div\",\"j\",\"filter\",\"alpha(opacity=30)\");',\n",
       " 'setStyleByClass(\"span\",\"d\",\"backgroundColor\",\"#bbffff\");',\n",
       " 'setStyleByClass(\"div\",\"k\",\"backgroundColor\",\"#00ffff\");',\n",
       " 'setStyleByClass(\"div\",\"k\",\"opacity\",\"0.3\");',\n",
       " 'setStyleByClass(\"div\",\"k\",\"filter\",\"alpha(opacity=30)\");',\n",
       " 'setStyleByClass(\"span\",\"e\",\"backgroundColor\",\"#ffdd77\");',\n",
       " 'setStyleByClass(\"div\",\"l\",\"backgroundColor\",\"#ff6600\");',\n",
       " 'setStyleByClass(\"div\",\"l\",\"opacity\",\"0.3\");',\n",
       " 'setStyleByClass(\"div\",\"l\",\"filter\",\"alpha(opacity=30)\");',\n",
       " 'setStyleByClass(\"span\",\"f\",\"backgroundColor\",\"#ccffaa\");',\n",
       " 'setStyleByClass(\"div\",\"m\",\"backgroundColor\",\"#33ff00\");',\n",
       " 'setStyleByClass(\"div\",\"m\",\"opacity\",\"0.3\");',\n",
       " 'setStyleByClass(\"div\",\"m\",\"filter\",\"alpha(opacity=30)\");',\n",
       " 'setStyleByClass(\"span\",\"g\",\"backgroundColor\",\"#ffccff\");',\n",
       " 'setStyleByClass(\"div\",\"n\",\"backgroundColor\",\"#ff00ff\");',\n",
       " 'setStyleByClass(\"div\",\"n\",\"opacity\",\"0.3\");',\n",
       " 'setStyleByClass(\"div\",\"n\",\"filter\",\"alpha(opacity=30)\");',\n",
       " 'toggle = 0 ;',\n",
       " '}',\n",
       " '}',\n",
       " 'var ie = (document.all) ? true : false;',\n",
       " '',\n",
       " 'function setStyleByClass(t,c,p,v){',\n",
       " '\\tvar elements;',\n",
       " \"\\tif(t == '*') {\",\n",
       " \"\\t\\telements = (ie) ? document.all : document.getElementsByTagName('*');\",\n",
       " '\\t} else {',\n",
       " '\\t\\telements = document.getElementsByTagName(t);',\n",
       " '\\t}',\n",
       " '\\tfor (var i = 0; i < elements.length; i++)',\n",
       " '    {',\n",
       " '\\t\\tvar node = elements.item(i);',\n",
       " '\\t\\tfor(var j = 0; j < node.attributes.length; j++)',\n",
       " '\\t\\t{',\n",
       " \"\\t\\t\\tif(node.attributes.item(j).nodeName == 'class')\",\n",
       " '\\t\\t\\t{',\n",
       " '\\t\\t\\t\\tif(node.attributes.item(j).nodeValue == c)',\n",
       " '\\t\\t\\t\\t{',\n",
       " '\\t\\t\\t\\teval(\\'node.style.\\' + p + \" = \\'\" +v + \"\\'\");',\n",
       " '\\t\\t\\t\\t}',\n",
       " '\\t\\t\\t}',\n",
       " '\\t\\t}',\n",
       " '\\t}',\n",
       " '}',\n",
       " '//  End -->',\n",
       " '</SCRIPT>',\n",
       " '<style>.a{background-color: #ffff88}</style>',\n",
       " '<style>.h{background-color: #ffff00}</style>',\n",
       " '<style>.b{background-color: #ccccff}</style>',\n",
       " '<style>.i{background-color: #3333ff}</style>',\n",
       " '<style>.c{background-color: #ffcccc}</style>',\n",
       " '<style>.j{background-color: #ff3333}</style>',\n",
       " '<style>.d{background-color: #bbffff}</style>',\n",
       " '<style>.k{background-color: #00ffff}</style>',\n",
       " '<style>.e{background-color: #ffdd77}</style>',\n",
       " '<style>.l{background-color: #ff6600}</style>',\n",
       " '<style>.f{background-color: #ccffaa}</style>',\n",
       " '<style>.m{background-color: #33ff00}</style>',\n",
       " '<style>.g{background-color: #ffccff}</style>',\n",
       " '<style>.n{background-color: #ff00ff}</style>',\n",
       " '<style type=\"text/css\">',\n",
       " '@media (max-width : 980px) {',\n",
       " '* {',\n",
       " '  font-size: 18px !important;',\n",
       " '}',\n",
       " 'a {',\n",
       " '  margin: 8px !important;',\n",
       " '  display:inline-block;',\n",
       " '}',\n",
       " 'td:first-of-type {',\n",
       " '   white-space: normal !important;',\n",
       " '}',\n",
       " 'td:first-of-type {',\n",
       " '   white-space: nowrap;',\n",
       " '}',\n",
       " '}',\n",
       " '</style>',\n",
       " '<style id=\"style-1-cropbar-clipper\">/* Copyright 2014 Evernote Corporation. All rights reserved. */',\n",
       " '.en-markup-crop-options {',\n",
       " '    top: 18px !important;',\n",
       " '    left: 50% !important;',\n",
       " '    margin-left: -100px !important;',\n",
       " '    width: 200px !important;',\n",
       " '    border: 2px rgba(255,255,255,.38) solid !important;',\n",
       " '    border-radius: 4px !important;',\n",
       " '}',\n",
       " '.en-markup-crop-options div div:first-of-type {',\n",
       " '    margin-left: 0px !important;',\n",
       " '}',\n",
       " '</style>',\n",
       " '<style type=\"text/css\">',\n",
       " 'a:link {color: #0000ff}',\n",
       " 'a.oa:link {color: #00a000}',\n",
       " 'a:visited {color: #4000a0}',\n",
       " 'a.oa:visited {color: #006666}',\n",
       " 'a:hover {color: #ff0000}',\n",
       " 'a.oa:hover {color: #cc33cc}',\n",
       " '</style>',\n",
       " '</head>',\n",
       " '<body bgcolor=\"#ffffff\"  text=\"#000000\" link=\"#0000ff\" alink=\"#ff0000\" vlink=\"#4000a0\">',\n",
       " '<div align=\"right\" style=\"font-size:84%;padding-bottom:4px\"><a href=\"http://adsabs.harvard.edu/cgi-bin/nph-manage_account?man_cmd=login&amp;man_url=http://adsabs.harvard.edu/cgi-bin/nph-bib%5fquery%3fbibcode%3d2012PhRvA..85c2515Z%26data%5ftype%3dHTML%26db%5fkey%3dAST%2526nocookieset%3d1\">Sign on</a></div>',\n",
       " '<div style=\"background-color:#ff9900;padding:10px 30px;text-align:center;font-weight:bold\">ADS Classic is now <a href=\"https://adsabs.github.io/blog/ave-atque-vale\" style=\"color:blue\" target=\"_blank\">deprecated.</a>  It will be completely retired in October 2019. This page will automatically redirect to <a href=\"https://ui.adsabs.harvard.edu/abs/2012PhRvA..85c2515Z\" style=\"color:blue\">the new ADS interface</a> at that point.</div></p><p><h3><A HREF=\"http://adsabs.harvard.edu/\">SAO/NASA ADS</a> <a href=\"http://adsabs.harvard.edu/options/nocookieset/physics_service.html\">Physics Abstract Service</A></h3>',\n",
       " '<hr>',\n",
       " '<p>',\n",
       " '<dl>',\n",
       " '<dt><table width=\"100%\"><tbody><tr><td align=\"left\"><strong>&#183; <a href=\"http://adsabs.harvard.edu/cgi-bin/nph-abs_connect?return_req=no_params&amp;arxiv_sel=ALL&amp;db_key=PHY&amp;text=A%20complex-scaled%20multireference%20configuration%20interaction%20method%0a%28CMR-CI%29%20is%20proposed,%20which%20employs%20the%20multireference%20orbitals%0aoptimized%20with%20complex-scaled%20multiconfiguration%20self-consistent%20field%0afor%20the%20specific%20state.%20First%20applications%20for%20the%201s2s%3cSUP%3e2%3c/SUP%3e2p%0a%3cSUP%3e1,3%3c/SUP%3eP%3cSUP%3eo%3c/SUP%3e%20Auger%20resonances%20of%20Be%20and%20Be-like%20cations%0a%28B,%20C,%20N,%20O,%20Mg%29%20show%20that%20present%20results%20agree%20very%20well%20with%20the%0aavailable%20experimental%20and%20theoretical%20results.%20For%20example,%20our%20CMR-CI%0a1s2s%3cSUP%3e2%3c/SUP%3e2p%20%3cSUP%3e1%3c/SUP%3eP%3cSUP%3eo%3c/SUP%3e%20resonance%20position%20and%0alinewidth%20for%20C%3cSUP%3e2%2b%3c/SUP%3e%20are%20%28294.031%20eV,%2061.5%20meV%29,%20which%20is%20in%0aexcellent%20agreement%20with%20the%20high-resolution%20advanced%20light%20source%0alatest%20experiment%20result%20%28293.94%20%26plusmn%3b%200.03%20eV,%2065%20%26plusmn%3b%2012%20meV%29%0a%5bScully%20,%20J.%20Phys.%20BJPAMA40022-370010.1088/0953-4075/38/12/011%2038,%201967%0a%282005%29%5d.%20Our%20calculations%20show%20that%20this%20CMR-CI%20method%20is%20a%20practical%0aand%20important%20tool%20to%20study%20resonant%20states.%0a+Calculations%20and%20mathematical%20techniques%20in%20atomic%20and%20molecular%20physics,%20Other%20topics%20in%20the%20theory%20of%20the%20electronic%20structure%20of%20atoms%20and%20molecules,%20Auger%20effect%20and%20inner-shell%20excitation%20or%20ionization,%20Autoionization+&amp;title=Complex-scaled%20multireference%20configuration-interaction%20method%20to%20study%20Be%20and%20Be-like%20cations%27%20%28B,%20C,%20N,%20O,%20Mg%29%20Auger%20resonances%201s2s%3cSUP%3e2%3c/SUP%3e2p%20%3cSUP%3e1,3%3c/SUP%3eP%3cSUP%3eo%3c/SUP%3e\">Find Similar Abstracts</a> (with <a href=\"#feedback\">default settings below</a>)</strong></td>',\n",
       " '</tr></tbody></table>',\n",
       " '<dt><strong>&#183; <a  href=\"http://adsabs.harvard.edu/cgi-bin/nph-data_query?bibcode=2012PhRvA..85c2515Z&#38;link_type=EJOURNAL&#38;db_key=PHY&#38;high=&#38;nocookieset=1\">Electronic Refereed Journal Article (HTML)</a></strong>',\n",
       " '<dt><strong>&#183; <a  href=\"http://adsabs.harvard.edu/cgi-bin/nph-data_query?bibcode=2012PhRvA..85c2515Z&#38;link_type=REFERENCES&#38;db_key=PHY&#38;high=&#38;nocookieset=1\">References in the article</a></strong>',\n",
       " '<dt><strong>&#183; <a href=\"http://adsabs.harvard.edu/cgi-bin/nph-data_query?bibcode=2012PhRvA..85c2515Z&#38;link_type=CITATIONS&#38;db_key=PHY&#38;nocookieset=1\">Citations to the Article (15)</strong></a> (<a href=\"http://adsabs.harvard.edu/cgi-bin/nph-ref_history?refs=CITATIONS&#38;bibcode=2012PhRvA..85c2515Z\">Citation History</a>)',\n",
       " '<dt><strong>&#183; <a  href=\"http://adsabs.harvard.edu/cgi-bin/nph-data_query?bibcode=2012PhRvA..85c2515Z&#38;link_type=REFCIT&#38;db_key=PHY&#38;high=&#38;nocookieset=1\">Refereed Citations to the Article</a></strong>',\n",
       " '<dt><strong>&#183; <a href=\"http://adsabs.harvard.edu/cgi-bin/nph-ref_history?refs=AR&#38;bibcode=2012PhRvA..85c2515Z\">Reads History</a></strong>',\n",
       " '<dt>&#183;',\n",
       " '<dt><strong>&#183; <a href=\"http://www.microsofttranslator.com/BV.aspx?from=en&amp;a=http://adsabs.harvard.edu/abs/2012PhRvA..85c2515Z\">Translate This Page</a></strong>',\n",
       " '',\n",
       " '</dl>',\n",
       " '<table><tbody>',\n",
       " '<tr><td valign=\"top\" align=\"left\"><b>Title:</b></td><td><br></td><td align=\"left\" valign=\"top\">Complex-scaled multireference configuration-interaction method to study Be and Be-like cations\\' (B, C, N, O, Mg) Auger resonances 1s2s<SUP>2</SUP>2p <SUP>1,3</SUP>P<SUP>o</SUP></td></tr>',\n",
       " '<tr><td valign=\"top\" align=\"left\"><b>Authors:</b></td><td><br></td><td align=\"left\" valign=\"top\"><a href=\"http://adsabs.harvard.edu/cgi-bin/author_form?author=Zhang,+S&#38;fullauthor=Zhang,%20Song%20Bin&#38;charset=ISO-8859-1&#38;db_key=PHY\">Zhang,&#160;Song&#160;Bin</a>; <a href=\"http://adsabs.harvard.edu/cgi-bin/author_form?author=Yeager,+D&#38;fullauthor=Yeager,%20Danny%20L.&#38;charset=ISO-8859-1&#38;db_key=PHY\">Yeager,&#160;Danny&#160;L.</a></td></tr>',\n",
       " '<tr><td valign=\"top\" align=\"left\"><b>Affiliation:</b></td><td><br></td><td align=\"left\" valign=\"top\">AA(Department of Chemistry, MS-3255, Texas A &#38; M University, College Station, Texas 77843-1372, USA), AB(Department of Chemistry, MS-3255, Texas A &#38; M University, College Station, Texas 77843-1372, USA)</td></tr>',\n",
       " '<tr><td valign=\"top\" align=\"left\"><b>Publication:</b></td><td><br></td><td align=\"left\" valign=\"top\">Physical Review A, vol. 85, Issue 3, id. 032515 (<A href=\"http://pra.aps.org\">PhRvA Homepage</a>)</td></tr>',\n",
       " '<tr><td valign=\"top\" align=\"left\"><b>Publication Date:</b></td><td><br></td><td align=\"left\" valign=\"top\">03/2012</td></tr>',\n",
       " '<tr><td valign=\"top\" align=\"left\"><b>Origin:</b></td><td><br></td><td align=\"left\" valign=\"top\"><a href=\"http://www.aps.org\">APS</a></td></tr>',\n",
       " '<tr><td valign=\"top\" align=\"left\"><b>PACS Keywords:</b></td><td><br></td><td align=\"left\" valign=\"top\">Calculations and mathematical techniques in atomic and molecular physics, Other topics in the theory of the electronic structure of atoms and molecules, Auger effect and inner-shell excitation or ionization, Autoionization</td></tr>',\n",
       " '<tr><td valign=\"top\" align=\"left\"><b>DOI:</b></td><td><br></td><td align=\"left\" valign=\"top\"><A href=\"https://doi.org/10.1103/PhysRevA.85.032515\">10.1103/PhysRevA.85.032515</a></td></tr>',\n",
       " '<tr><td valign=\"top\" align=\"left\"><b>Bibliographic Code:</b></td><td><br></td><td align=\"left\" valign=\"top\"><A href=\"http://adsabs.harvard.edu/abs/2012PhRvA..85c2515Z\">2012PhRvA..85c2515Z</a></td></tr>',\n",
       " '</tbody></table>',\n",
       " '<h3 align=\"center\">                               Abstract</h3>',\n",
       " 'A complex-scaled multireference configuration interaction method',\n",
       " '(CMR-CI) is proposed, which employs the multireference orbitals',\n",
       " 'optimized with complex-scaled multiconfiguration self-consistent field',\n",
       " 'for the specific state. First applications for the 1s2s<SUP>2</SUP>2p',\n",
       " '<SUP>1,3</SUP>P<SUP>o</SUP> Auger resonances of Be and Be-like cations',\n",
       " '(B, C, N, O, Mg) show that present results agree very well with the',\n",
       " 'available experimental and theoretical results. For example, our CMR-CI',\n",
       " '1s2s<SUP>2</SUP>2p <SUP>1</SUP>P<SUP>o</SUP> resonance position and',\n",
       " 'linewidth for C<SUP>2+</SUP> are (294.031 eV, 61.5 meV), which is in',\n",
       " 'excellent agreement with the high-resolution advanced light source',\n",
       " 'latest experiment result (293.94 &#177; 0.03 eV, 65 &#177; 12 meV)',\n",
       " '[Scully , J. Phys. BJPAMA40022-370010.1088/0953-4075/38/12/011 38, 1967',\n",
       " '(2005)]. Our calculations show that this CMR-CI method is a practical',\n",
       " 'and important tool to study resonant states.',\n",
       " '<hr>',\n",
       " '<table width=100%><tbody><tr><td align=\"left\"><b><a href=\"http://adsabs.harvard.edu/cgi-bin/nph-bib_query?bibcode=2012PhRvA..85c2515Z&amp;data_type=BIBTEX&amp;db_key=PHY&amp;nocookieset=1\">Bibtex entry for this abstract</a></b>&nbsp;&nbsp;&nbsp;<b><a href=\"http://adsabs.harvard.edu/cgi-bin/nph-abs_connect?bibcode=2012PhRvA..85c2515Z&amp;data_type=Custom&amp;format=%25z0%5c%5cbibitem%5b%25%5c2m%25%28y%29%5d%25%7bR%7d%20%25%5c5.3l%20%25%5cY,%25%5cj,%25%5cV,%25%5cp%5cn&amp;return_fmt=LONG&amp;db_key=PHY&amp;nocookieset=1\">Preferred format for this abstract</a></b> (see <a href=\"http://adsabs.harvard.edu/cgi-bin/pref_set\">Preferences</a>)</td>',\n",
       " '</tr></tbody></table>',\n",
       " '<hr>',\n",
       " '<div style=\"display: table\">',\n",
       " '<div style=\"display: table-row; float: left;\">',\n",
       " '<div style=\"display: table-cell; float: left; padding: 5px\">',\n",
       " '<form method=\"POST\" action=\"http://adsabs.harvard.edu/cgi-bin/nph-abs_connect\"><a name=\"private\"></a>',\n",
       " '<input type=\"hidden\" name=\"bibcode\" value=\"2012PhRvA..85c2515Z\">',\n",
       " '<input type=\"submit\" name=\"library\" value=\" Add this article to private library \">',\n",
       " '</form>',\n",
       " '</div>',\n",
       " '<div style=\"display: table-cell; float: left; padding: 5px\">',\n",
       " '<form method=\"POST\" action=\"http://adsabs.harvard.edu/cgi-bin/nph-abs_connect\"><a name=\"private\"></a>',\n",
       " '<input type=\"hidden\" name=\"bibcode\" value=\"2012PhRvA..85c2515Z\">',\n",
       " '<input type=\"submit\" name=\"library\" value=\" Remove from private library \">',\n",
       " '</form>',\n",
       " '</div>',\n",
       " '</div>',\n",
       " '<div style=\"display: table-row; clear: left;\">',\n",
       " '<div style=\"display: table-cell; float: left; padding: 5px;\">',\n",
       " '<form method=\"GET\" action=\"http://adsabs.harvard.edu/adsfeedback/submit_abstract.php\"><input type=\"submit\" name=\"submit\" value=\" Submit corrections to this record \"><input type=\"hidden\" name=\"bibcode\" value=\"2012PhRvA..85c2515Z\"><input type=\"hidden\" name=\"db_key\" value=\"PHY\"></form>',\n",
       " '</div>',\n",
       " '<div  style=\"display: table-cell; float: left; padding: 5px;\">',\n",
       " '<form method=\"GET\" action=\"https://ui.adsabs.harvard.edu/#abs/2012PhRvA..85c2515Z\"><input type=\"submit\" style=\"background-color: #6084D9; color: #ffffff; border: 2px solid #ff9900\" value=\" View record in the new ADS \"></form>',\n",
       " '</div>',\n",
       " '</div>',\n",
       " '<div style=\"clear: both;\"></div>',\n",
       " '</div>',\n",
       " '<hr>',\n",
       " '<form method=\"POST\" action=\"http://adsabs.harvard.edu/cgi-bin/nph-abs_connect\"><a name=\"feedback\"></a>',\n",
       " '<h3>Find Similar Abstracts:</h3>',\n",
       " '',\n",
       " '<input type=\"hidden\" name=\"return_req\" value=\"no_params\">',\n",
       " '<table>',\n",
       " '<tr><td>Use:</td><td>      <input type=\"checkbox\" name=\"use_auth\" value=\"YES\"></td><td>  Authors</td></tr>',\n",
       " '<tr><td></td><td>          <input type=\"checkbox\" checked name=\"use_title\" value=\"YES\"></td><td>  Title</td></tr>',\n",
       " '<tr><td></td><td>          <input type=\"checkbox\" checked name=\"use_kwds\" value=\"YES\"></td><td>  Keywords (in text query field)</td></tr>',\n",
       " '<tr><td></td><td>          <input type=\"checkbox\" checked name=\"use_text\" value=\"YES\"></td><td>  Abstract Text</td></tr>',\n",
       " '',\n",
       " '<tr><td>Return:</td><td>   <input type=\"radio\" checked name=\"return_req\" value=\"feedback\"></td><td>  Query Results</td><td>   Return <input name=\"nr_to_return\" size=\"5\" value=\"100\">&nbsp;&nbsp;&nbsp;items starting with number <input name=\"start_nr\" size=\"5\" value=\"1\"></td></tr>',\n",
       " '<tr><td></td><td>          <input type=\"radio\" name=\"return_req\" value=\"form\"></td><td>  Query Form</td></tr>',\n",
       " '',\n",
       " '<tr><td>Database:</td><td> <input type=\"checkbox\"  name=\"db_key\" value=\"AST\"></td><td>  Astronomy</td></tr>',\n",
       " '<tr><td></td><td>          <input type=\"checkbox\" checked name=\"db_key\" value=\"PHY\"></td><td>  Physics</td></tr>',\n",
       " '<tr><td></td><td>          <input type=\"checkbox\"  name=\"db_key\" value=\"PRE\"></td><td>  arXiv e-prints</td></tr>',\n",
       " '',\n",
       " '</table>',\n",
       " '',\n",
       " '<input type=\"hidden\" name=\"arxiv_sel\" value=\"ALL\">',\n",
       " '<input type=\"hidden\" name=\"bib_dbkey\" value=\"PHY\">',\n",
       " '<input type=\"submit\" name=\"selfeedback\" value=\"      Send Query     \">&nbsp;&nbsp;&nbsp;&nbsp;<input type=\"reset\" value=\"      Reset      \">',\n",
       " '<input type=\"hidden\" name=\"bibcode\" value=\"2012PhRvA..85c2515Z\">',\n",
       " '<input type=\"hidden\" name=\"nocookieset\" value=\"1\">',\n",
       " '</form>',\n",
       " '<br><hr><br>',\n",
       " '<script>',\n",
       " \"  (function(i,s,o,g,r,a,m){i['GoogleAnalyticsObject']=r;i[r]=i[r]||function(){\",\n",
       " '  (i[r].q=i[r].q||[]).push(arguments)},i[r].l=1*new Date();a=s.createElement(o),',\n",
       " '  m=s.getElementsByTagName(o)[0];a.async=1;a.src=g;m.parentNode.insertBefore(a,m)',\n",
       " \"  })(window,document,'script','//www.google-analytics.com/analytics.js','ga');\",\n",
       " '',\n",
       " \"  ga('create', 'UA-37369750-3', 'harvard.edu');\",\n",
       " \"  ga('send', 'pageview');\",\n",
       " '',\n",
       " '</script>',\n",
       " '<!-- ADS_MIRROR: CFA -->',\n",
       " '</body>',\n",
       " '</html>',\n",
       " '']"
      ]
     },
     "execution_count": 45,
     "metadata": {},
     "output_type": "execute_result"
    }
   ],
   "source": [
    "bib_response"
   ]
  },
  {
   "cell_type": "code",
   "execution_count": 39,
   "metadata": {},
   "outputs": [
    {
     "data": {
      "text/plain": [
       "list"
      ]
     },
     "execution_count": 39,
     "metadata": {},
     "output_type": "execute_result"
    }
   ],
   "source": [
    "type(bib_response)"
   ]
  },
  {
   "cell_type": "code",
   "execution_count": 31,
   "metadata": {
    "scrolled": true
   },
   "outputs": [
    {
     "name": "stdout",
     "output_type": "stream",
     "text": [
      "Enter doi Here: 10.1103/PhysRevA.85.032515\n",
      "************************************************************************\n",
      "http://adsabs.harvard.edu/cgi-bin/basic_connect?qsearch=10.1103/PhysRevA.85.032515\n",
      "************************************************************************\n",
      "['Query Results from the ADS Database', '', '', 'Retrieved 1 abstracts, starting with number 1.  Total number selected: 1.', '', '@ARTICLE{2012PhRvA..85c2515Z,', '   author = {{Zhang}, S.~B. and {Yeager}, D.~L.},', '    title = \"{Complex-scaled multireference configuration-interaction method to study Be and Be-like cations\\' (B, C, N, O, Mg) Auger resonances 1s2s$^{2}$2p $^{1,3}$P$^{o}$}\",', '  journal = {\\\\pra},', ' keywords = {Calculations and mathematical techniques in atomic and molecular physics, Other topics in the theory of the electronic structure of atoms and molecules, Auger effect and inner-shell excitation or ionization, Autoionization},', '     year = 2012,', '    month = mar,', '   volume = 85,', '   number = 3,', '      eid = {032515},', '    pages = {032515},', '      doi = {10.1103/PhysRevA.85.032515},', '   adsurl = {https://ui.adsabs.harvard.edu/abs/2012PhRvA..85c2515Z},', '  adsnote = {Provided by the SAO/NASA Astrophysics Data System}', '}', '', '']\n",
      "2012PhRvA..85c2515Z\n"
     ]
    }
   ],
   "source": [
    "# DOI Example: 10.1103/PhysRevA.85.032515 \n",
    "# To get just the bibcode from this DOI example make the: self.ast = '\\n'.join(bib[5:-16]) instead of [5:-1]\n",
    "# Enter DOI then you will recieve the bibcode for that paper\n",
    "# If no bibcode is populated and you dont want the full BibTeX reference populated then please move unto step 4\n",
    "doi = input(\"Enter doi Here: \")       \n",
    "bib = Bibtex(doi)\n",
    "bibcode2 = bib.getADS()\n",
    "Bibcode = bibcode2.strip('[@ARTICLE{,]')\n",
    "print(Bibcode)"
   ]
  },
  {
   "cell_type": "code",
   "execution_count": 29,
   "metadata": {},
   "outputs": [
    {
     "name": "stdout",
     "output_type": "stream",
     "text": [
      "************************************************************************\n",
      "http://adsabs.harvard.edu/cgi-bin/basic_connect?qsearch=10.1103/PhysRevA.85.032515\n",
      "************************************************************************\n"
     ]
    },
    {
     "data": {
      "text/plain": [
       "'@ARTICLE{2012PhRvA..85c2515Z,'"
      ]
     },
     "execution_count": 29,
     "metadata": {},
     "output_type": "execute_result"
    }
   ],
   "source": [
    "bib.getADS()"
   ]
  },
  {
   "cell_type": "markdown",
   "metadata": {},
   "source": [
    "## <font color=green>Step 3. ADS Method</font>"
   ]
  },
  {
   "cell_type": "markdown",
   "metadata": {},
   "source": [
    "### <font color=green>Note before using ADS Method</font>\n",
    "  1. Exporting using bibcodes require two things.\n",
    "       - A Bibcode Number (which you got from step 2)<br>\n",
    "       - A Token--You will need to know what a Token is. It must be used whenever you want to access the ADS database. A token can only be used once you have an account on NASA/ADS https://ui.adsabs.harvard.edu/. Once you have an account click on 'Account' in the top right hand corner, then click on 'Customize Settings' on the dropdown menu. In 'Customize Settings' there is a panel to the left of the screen, if you scroll down that panel you will see 'API Token'. Click on 'API Token' and then click on 'generate a new key'. <br>\n",
    "         - You are technically using ADS's API when you are using this method. So for any questions/concerns please refer to the NASA/ADS API Information tool on GitHub https://github.com/adsabs/adsabs-dev-api#access-settings <br>\n",
    "  2. The benefits of this method are the endless choices to customize your citation output.\n",
    "     - You can get more information such as... the abstract, copyright, citation count, author affiliation, keywords, publication category and arXiv e-print number, etc.<br>\n",
    "     - You can search more than 1 bibcode at a time<br>\n",
    "     - You have more output options such as... EndNote, ProCite, RIS (Refman), RefWorks, MEDLARS, AASTeX, Icarus, MNRAS, Solar Physics (SoPh), DC (Dublin Core) XML, REF-XML, REFABS-XML, VOTables and RSS<br>\n",
    "     - This notebook does not display examples of all of these output format options, if you are interested in any of these choices or extra features please refer to http://adsabs.github.io/help/actions/export <br>\n",
    "  3. The first option is to retrieve a citation where the output is in JSON format<br>\n",
    "  4. The second option is to retrieve a citation where the output is in html format<br>\n",
    "  6. The third option is to retrieve a citation where the output is in LaTeX format</font>\n",
    "  \n",
    "*<font color=green>Overall you need to make an account on ADS in order to use this method. </font>*\n",
    "\n",
    "*<font color=green>If you do not want to make an account then use the BibTeX citation from step 6 and if you want, use steps 4 & 5 to retrieve html and JSON citation formats, in steps 4 & 5 you only need to enter the DOI to retrieve citations </font>*\n",
    "\n",
    "*<font color=green>However there are many benefits to using the ADS method, your citation output is completely customizable! So if your willing and you have your Bibcode then its recommended to use this method!</font>*"
   ]
  },
  {
   "cell_type": "code",
   "execution_count": 7,
   "metadata": {},
   "outputs": [],
   "source": [
    "# Enter your token here: You need this for using step 3\n",
    "# This is where the token goes, between the \"\" \n",
    "token=\"gx43LyUuTTD0zoTWx8qKpWbWi3euTmx7FCM3fJjY\""
   ]
  },
  {
   "cell_type": "markdown",
   "metadata": {},
   "source": [
    "<font color=green>After running the cell below and then the print cell you will recieve an HTML reference with the characters &, <, >, and “ included"
   ]
  },
  {
   "cell_type": "code",
   "execution_count": 18,
   "metadata": {},
   "outputs": [],
   "source": [
    "Bibcode = '2012PhRvA..85c2515Z'"
   ]
  },
  {
   "cell_type": "code",
   "execution_count": 49,
   "metadata": {},
   "outputs": [],
   "source": [
    "# HTML with the characters &, <, >, and “ included\n",
    "payload = {\"bibcode\": [\"{}\".format(Bibcode)],\n",
    "           # \"doi\": \"10.1103/PhysRevA.85.032515\",\n",
    "           \"sort\": \"first_author asc\",\n",
    "           \"format\":\n",
    "           '''{\"ref_json\": {\"authors\": \"%I\",\n",
    "              \"title\": \"%T\",\n",
    "              \"journal\": \"%J\",\n",
    "              \"volume\": \"%V\",\n",
    "              \"start-page\": \"%p\",\n",
    "              \"end-page\": \"%P\",\n",
    "              \"year\": %Y,\n",
    "              \"doi\": \"%d\",\n",
    "              \"bibcode\": \"%u\"}}'''\n",
    "              }\n",
    "r = requests.post(\"https://api.adsabs.harvard.edu/v1/export/custom\", \\\n",
    "                 headers={\"Authorization\": \"Bearer \" + token, \"Content-type\": \"application/json\"}, \\\n",
    "                 data=json.dumps(payload))\n",
    "response_json = r.json()\n",
    "ref_json = json.loads(response_json['export'])['ref_json']"
   ]
  },
  {
   "cell_type": "code",
   "execution_count": 50,
   "metadata": {},
   "outputs": [
    {
     "data": {
      "text/plain": [
       "{'msg': 'Retrieved 1 abstracts, starting with number 1.',\n",
       " 'export': '{\"ref_json\": {\"authors\": \"Zhang, S. B. and D. L. Yeager\",\\n              \"title\": \"Complex-scaled multireference configuration-interaction method to study Be and Be-like cations\\' (B, C, N, O, Mg) Auger resonances 1s2s<SUP>2</SUP>2p <SUP>1,3</SUP>P<SUP>o</SUP>\",\\n              \"journal\": \"Physical Review A\",\\n              \"volume\": \"85\",\\n              \"start-page\": \"032515\",\\n              \"end-page\": \"%P\",\\n              \"year\": 2012,\\n              \"doi\": \"10.1103/PhysRevA.85.032515\",\\n              \"bibcode\": \"https://ui.adsabs.harvard.edu/abs/2012PhRvA..85c2515Z\"}}'}"
      ]
     },
     "execution_count": 50,
     "metadata": {},
     "output_type": "execute_result"
    }
   ],
   "source": [
    "response_json"
   ]
  },
  {
   "cell_type": "code",
   "execution_count": 20,
   "metadata": {},
   "outputs": [
    {
     "name": "stdout",
     "output_type": "stream",
     "text": [
      "authors: Zhang, S. B. and D. L. Yeager\n",
      "title: Complex-scaled multireference configuration-interaction method to study Be and Be-like cations' (B, C, N, O, Mg) Auger resonances 1s2s<SUP>2</SUP>2p <SUP>1,3</SUP>P<SUP>o</SUP>\n",
      "journal: Physical Review A\n",
      "volume: 85\n",
      "start-page: 032515\n",
      "end-page: %P\n",
      "year: 2012\n",
      "doi: 10.1103/PhysRevA.85.032515\n",
      "bibcode: https://ui.adsabs.harvard.edu/abs/2012PhRvA..85c2515Z\n"
     ]
    }
   ],
   "source": [
    "print('authors:', ref_json['authors'])\n",
    "print('title:', ref_json['title'])\n",
    "print('journal:', ref_json['journal'])\n",
    "print('volume:', ref_json['volume'])\n",
    "print('start-page:', ref_json['start-page'])\n",
    "print('end-page:', ref_json['end-page'])\n",
    "print('year:', ref_json['year'])\n",
    "print('doi:', ref_json['doi'])\n",
    "print('bibcode:', ref_json['bibcode'])"
   ]
  },
  {
   "cell_type": "markdown",
   "metadata": {},
   "source": [
    "<font color=green>After running the cell below and then the print cell you will recieve a BibTeX reference"
   ]
  },
  {
   "cell_type": "code",
   "execution_count": 12,
   "metadata": {},
   "outputs": [],
   "source": [
    "# BibTeX Reference\n",
    "payload = {\"bibcode\": [\"{}\".format(Bibcode)],\n",
    "           \"sort\": \"first_author asc\",\n",
    "           \"format\": \n",
    "           '''{\"ref_json\": {\"encoder\": \"%ZEncoding:latex\\\\bibitem\",\n",
    "              \"authors\": \"%I\",\n",
    "              \"title\": \"%T\",\n",
    "              \"journal\": \"%J\",\n",
    "              \"volume\": \"%V\",\n",
    "              \"start-page\": \"%p\",\n",
    "              \"end-page\": \"%P\",\n",
    "              \"year\": %Y,\n",
    "              \"doi\": \"%d\",\n",
    "              \"bibcode\": \"%u\"}}'''\n",
    "              }\n",
    "r = requests.post(\"https://api.adsabs.harvard.edu/v1/export/custom\", \\\n",
    "                 headers={\"Authorization\": \"Bearer \" + token, \"Content-type\": \"application/json\"}, \\\n",
    "                 data=json.dumps(payload))\n",
    "response_json = r.json()\n",
    "ref_json = json.loads(response_json['export'])['ref_json']"
   ]
  },
  {
   "cell_type": "code",
   "execution_count": 13,
   "metadata": {},
   "outputs": [
    {
     "name": "stdout",
     "output_type": "stream",
     "text": [
      "authors: Sand, A.~E., S.~L. Dudarev, and K. Nordlund\n",
      "title: High-energy collision cascades in tungsten: Dislocation loops structure and clustering scaling laws\n",
      "journal: EPL (Europhysics Letters)\n",
      "volume: 103\n",
      "start-page: 46003\n",
      "end-page: %P\n",
      "year: 2013\n",
      "doi: 10.1209/0295-5075/103/46003\n",
      "bibcode: https://ui.adsabs.harvard.edu/abs/2013EL....10346003S\n"
     ]
    }
   ],
   "source": [
    "print('authors:', ref_json['authors'])\n",
    "print('title:', ref_json['title'])\n",
    "print('journal:', ref_json['journal'])\n",
    "print('volume:', ref_json['volume'])\n",
    "print('start-page:', ref_json['start-page'])\n",
    "print('end-page:', ref_json['end-page'])\n",
    "print('year:', ref_json['year'])\n",
    "print('doi:', ref_json['doi'])\n",
    "print('bibcode:', ref_json['bibcode'])"
   ]
  },
  {
   "cell_type": "markdown",
   "metadata": {},
   "source": [
    "<font color=green>After running the cell below and then the print cell you will recieve an HTML reference with the characters &, <, >, and “ converted to & amp; & lt; & gt; and & quot; respectively."
   ]
  },
  {
   "cell_type": "code",
   "execution_count": 14,
   "metadata": {},
   "outputs": [],
   "source": [
    "# HTML with the characters &, <, >, and “ are converted to &amp;, &lt;, &gt;, and &quot;, respectively.\n",
    "payload = {\"bibcode\": [\"{}\".format(Bibcode)],\n",
    "           \"sort\": \"first_author asc\",\n",
    "           \"format\": \n",
    "           '''{\"ref_json\": {\"encoder\": \"%ZEncoding:html<P>\",\n",
    "              \"authors\": \"%I\",\n",
    "              \"title\": \"%T\",\n",
    "              \"journal\": \"%J\",\n",
    "              \"volume\": \"%V\",\n",
    "              \"start-page\": \"%p\",\n",
    "              \"end-page\": \"%P\",\n",
    "              \"year\": %Y,\n",
    "              \"doi\": \"%d\",\n",
    "              \"bibcode\": \"%u\"}}'''\n",
    "              }\n",
    "r = requests.post(\"https://api.adsabs.harvard.edu/v1/export/custom\", \\\n",
    "                 headers={\"Authorization\": \"Bearer \" + token, \"Content-type\": \"application/json\"}, \\\n",
    "                 data=json.dumps(payload))\n",
    "response_json = r.json()\n",
    "ref_json = json.loads(response_json['export'])['ref_json']"
   ]
  },
  {
   "cell_type": "code",
   "execution_count": 15,
   "metadata": {},
   "outputs": [
    {
     "name": "stdout",
     "output_type": "stream",
     "text": [
      "authors: Sand, A. E., S. L. Dudarev, and K. Nordlund\n",
      "title: High-energy collision cascades in tungsten: Dislocation loops structure and clustering scaling laws\n",
      "journal: EPL (Europhysics Letters)\n",
      "volume: 103\n",
      "start-page: 46003\n",
      "end-page: %P\n",
      "year: 2013\n",
      "doi: 10.1209/0295-5075/103/46003\n",
      "bibcode: https://ui.adsabs.harvard.edu/abs/2013EL....10346003S\n"
     ]
    }
   ],
   "source": [
    "print('authors:', ref_json['authors'])\n",
    "print('title:', ref_json['title'])\n",
    "print('journal:', ref_json['journal'])\n",
    "print('volume:', ref_json['volume'])\n",
    "print('start-page:', ref_json['start-page'])\n",
    "print('end-page:', ref_json['end-page'])\n",
    "print('year:', ref_json['year'])\n",
    "print('doi:', ref_json['doi'])\n",
    "print('bibcode:', ref_json['bibcode'])"
   ]
  },
  {
   "cell_type": "markdown",
   "metadata": {},
   "source": [
    "## <font color=purple>Step 4. Urllib method\n",
    " <font color=purple>If you did not have a bibcode or you want a plain text reference then use this method "
   ]
  },
  {
   "cell_type": "code",
   "execution_count": 10,
   "metadata": {},
   "outputs": [],
   "source": [
    "# This is the code to retrieve the plain text citation. \n",
    "def get_citeproc_authors(cpd_author):\n",
    "    if cpd_author is None:\n",
    "        return None\n",
    "    names = []\n",
    "    for author in cpd_author:\n",
    "        try:\n",
    "            family = author['family'].title()\n",
    "        except KeyError:\n",
    "            # Occasionally an author isn't a single person,\n",
    "            # e.g. \"JET contributors\", so do what we can here:\n",
    "            name = author['name']\n",
    "            names.append(name)\n",
    "            continue\n",
    "        try:\n",
    "            given = author['given']\n",
    "        except KeyError:\n",
    "            # This author has a first name\n",
    "            names.append(family)\n",
    "            continue\n",
    "        initials = given.split()\n",
    "        initials[0] = '{}.'.format(initials[0][0])\n",
    "        initials = ' '.join(initials)\n",
    "        names.append('{} {}'.format(initials, family))\n",
    "    return ', '.join(names)\n",
    "\n",
    "def parse_citeproc_json(citeproc_json):\n",
    "    \"\"\"Parse the provided JSON into a Ref object.\"\"\"\n",
    "\n",
    "    cpd = json.loads(citeproc_json)\n",
    "    try:\n",
    "        if cpd['type'] != 'article-journal':\n",
    "            return None\n",
    "    except KeyError:\n",
    "        return None\n",
    "\n",
    "    authors = get_citeproc_authors(cpd.get('author', ''))\n",
    "    title = cpd.get('title', '').replace('\\n', '')\n",
    "    journal = cpd.get('container-title', '')\n",
    "    volume = cpd.get('volume', '')\n",
    "    page_start, page_end = cpd.get('page', ''), ''\n",
    "    if page_start and '-' in page_start:\n",
    "        page_start, page_end = page_start.split('-')\n",
    "    article_number = cpd.get('article-number', '')\n",
    "    doi = cpd.get('DOI', '')\n",
    "    url = cpd.get('URL', '')\n",
    "    try:\n",
    "        year = cpd['issued']['date-parts'][0][0]\n",
    "    except (KeyError, IndexError):\n",
    "        year = None\n",
    "# # =============================================================================\n",
    "# #   OUTPUT\n",
    "# # =============================================================================\n",
    "    ref = [authors, \n",
    "        title, \n",
    "        journal, \n",
    "        volume,\n",
    "        year, \n",
    "        page_start, \n",
    "        page_end, \n",
    "        doi,\n",
    "        url, \n",
    "        article_number,\n",
    "        citeproc_json]\n",
    "\n",
    "    # ref = Ref(authors=authors, title=title, journal=journal, volume=volume,\n",
    "              # year=year, page_start=page_start, page_end=page_end, doi=doi,\n",
    "              # url=url, article_number=article_number,\n",
    "              # citeproc_json=citeproc_json)\n",
    "    return ref \n",
    "\n",
    "def get_citeproc_json_from_doi(doi):\n",
    "    base_url = 'http://dx.doi.org/'\n",
    "    url = base_url + doi\n",
    "    req = urllib.request.Request(url)\n",
    "    req.add_header('Accept', 'application/citeproc+json')\n",
    "    try:\n",
    "        with urllib.request.urlopen(req) as f:\n",
    "            citeproc_json = f.read().decode()\n",
    "    except HTTPError as e:\n",
    "        if e.code == 404:\n",
    "            raise ValueError('DOI not found.')\n",
    "        raise\n",
    "    return citeproc_json\n",
    "\n",
    "def get_source_from_doi(doi):\n",
    "    citeproc_json = get_citeproc_json_from_doi(doi)\n",
    "    ref = parse_citeproc_json(citeproc_json)\n",
    "    return ref"
   ]
  },
  {
   "cell_type": "code",
   "execution_count": 33,
   "metadata": {},
   "outputs": [
    {
     "name": "stdout",
     "output_type": "stream",
     "text": [
      "Authors: S. Bin Zhang, D. L. Yeager \n",
      "Title: Complex-scaled multireference configuration-interaction method to study Be and Be-like cations' (B, C, N, O, Mg) Auger resonances1s2s22p1,3Po \n",
      "Journal: Physical Review A \n",
      "Volume: 85 \n",
      "Year: 2012 \n",
      "Page Start:  \n",
      "Page End:  \n",
      "DOI: 10.1103/physreva.85.032515 \n",
      "URL: http://dx.doi.org/10.1103/PhysRevA.85.032515 \n"
     ]
    }
   ],
   "source": [
    "#doi = input(\"Enter doi Here: \")\n",
    "doi_fetched = get_source_from_doi('{}'.format(doi))\n",
    "\n",
    "# Below are the parameters for searching your citation\n",
    "# if you would like to add or change anything then refer to the initial code above to make your changes\n",
    "reference = (doi_fetched[0],doi_fetched[1],doi_fetched[2],doi_fetched[3],doi_fetched[4],doi_fetched[5],doi_fetched[6],doi_fetched[7],doi_fetched[8])\n",
    "\n",
    "print ('Authors:', doi_fetched[0], '')\n",
    "print ('Title:', doi_fetched[1], '')\n",
    "print ('Journal:', doi_fetched[2], '')\n",
    "print ('Volume:', doi_fetched[3], '')\n",
    "print ('Year:', doi_fetched[4], '')\n",
    "print ('Page Start:', doi_fetched[5], '')\n",
    "print ('Page End:', doi_fetched[6], '')\n",
    "print ('DOI:', doi_fetched[7], '')\n",
    "print ('URL:', doi_fetched[8], '')"
   ]
  },
  {
   "cell_type": "markdown",
   "metadata": {},
   "source": [
    "## <font color=teal>Step 5. Encoding JSON in HTML <br>\n",
    "<font color=teal>Reference is populated from the Urllib Method"
   ]
  },
  {
   "cell_type": "code",
   "execution_count": 35,
   "metadata": {},
   "outputs": [
    {
     "data": {
      "text/plain": [
       "'(&#x27;S. Bin Zhang, D. L. Yeager&#x27;, &quot;Complex-scaled multireference configuration-interaction method to study Be and Be-like cations&#x27; (B, C, N, O, Mg) Auger resonances1s2s22p1,3Po&quot;, &#x27;Physical Review A&#x27;, &#x27;85&#x27;, 2012, &#x27;&#x27;, &#x27;&#x27;, &#x27;10.1103/physreva.85.032515&#x27;, &#x27;http://dx.doi.org/10.1103/PhysRevA.85.032515&#x27;)'"
      ]
     },
     "execution_count": 35,
     "metadata": {},
     "output_type": "execute_result"
    }
   ],
   "source": [
    "# I am populating our output from the urllib method\n",
    "s = html.escape( \"\"\"& < \" '> \"\"\" )   # s = '&amp; &lt; &quot; &#x27; &gt;'\n",
    "html.escape(s, quote=True)\n",
    "html.escape(\"{}\".format(reference))"
   ]
  },
  {
   "cell_type": "markdown",
   "metadata": {},
   "source": [
    "## <font color=maroon>Step 6. BibTeX citation</font>\n",
    "<font color=maroon>If you would like the full BibTeX reference without using ADS then run the first cell again, and change the last parameter self.ast = '\\n'.join(bib[5:-16]) to self.ast = '\\n'.join(bib[5:-1])"
   ]
  },
  {
   "cell_type": "code",
   "execution_count": 7,
   "metadata": {},
   "outputs": [
    {
     "name": "stdout",
     "output_type": "stream",
     "text": [
      "Enter doi Here: 10.1103/PhysRevA.85.032515\n",
      "@ARTICLE{2012PhRvA..85c2515Z,\n",
      "   author = {{Zhang}, S.~B. and {Yeager}, D.~L.},\n",
      "    title = \"{Complex-scaled multireference configuration-interaction method to study Be and Be-like cations' (B, C, N, O, Mg) Auger resonances 1s2s$^{2}$2p $^{1,3}$P$^{o}$}\",\n",
      "  journal = {\\pra},\n",
      " keywords = {Calculations and mathematical techniques in atomic and molecular physics, Other topics in the theory of the electronic structure of atoms and molecules, Auger effect and inner-shell excitation or ionization, Autoionization},\n",
      "     year = 2012,\n",
      "    month = mar,\n",
      "   volume = 85,\n",
      "   number = 3,\n",
      "      eid = {032515},\n",
      "    pages = {032515},\n",
      "      doi = {10.1103/PhysRevA.85.032515},\n",
      "   adsurl = {https://ui.adsabs.harvard.edu/abs/2012PhRvA..85c2515Z},\n",
      "  adsnote = {Provided by the SAO/NASA Astrophysics Data System}\n",
      "}\n",
      "\n"
     ]
    }
   ],
   "source": [
    "# DOI Example: 10.1103/PhysRevA.85.032515\n",
    "# Enter DOI then you will recieve the bibcode for that paper\n",
    "doi = input(\"Enter doi Here: \")       \n",
    "print(bib.getADS())"
   ]
  },
  {
   "cell_type": "markdown",
   "metadata": {},
   "source": [
    "#  <font color=orange> Authors List Fix\n",
    "<font color=orange>This last part is in case you would like to change the authors list generated from ADS. ADS provides many options for formatting the authors list but HITRAN has a specific format that ADS does not provide. The next cell fixes the first name from the ADS output to what HITRAN uses"
   ]
  },
  {
   "cell_type": "code",
   "execution_count": 1,
   "metadata": {},
   "outputs": [
    {
     "name": "stdout",
     "output_type": "stream",
     "text": [
      "Enter First Author Name Here: {Yeager}, D.~L.\n",
      " D.~L. {Yeager}\n"
     ]
    }
   ],
   "source": [
    "#s = \"de Ghellinck d'Elseghem Vaernewijck, X.\"\n",
    "#s = \"Zhang, S. B.\"\n",
    "#s = \"Zhang-Zow, Sh.\"\n",
    "s = input(\"Enter First Author Name Here: \")\n",
    "words = s.split(',') \n",
    "string =[] \n",
    "for word in words: \n",
    "    string.insert(-1, word) \n",
    "print(\" \".join(string)) "
   ]
  },
  {
   "cell_type": "markdown",
   "metadata": {},
   "source": [
    "## Xn proposal"
   ]
  },
  {
   "cell_type": "code",
   "execution_count": 3,
   "metadata": {},
   "outputs": [
    {
     "ename": "ModuleNotFoundError",
     "evalue": "No module named 'pyref.settings'",
     "output_type": "error",
     "traceback": [
      "\u001b[0;31m---------------------------------------------------------------------------\u001b[0m",
      "\u001b[0;31mModuleNotFoundError\u001b[0m                       Traceback (most recent call last)",
      "\u001b[0;32m<ipython-input-3-8271dcc4e474>\u001b[0m in \u001b[0;36m<module>\u001b[0;34m\u001b[0m\n\u001b[1;32m      8\u001b[0m \u001b[0;31m# Prepare the Django models\u001b[0m\u001b[0;34m\u001b[0m\u001b[0;34m\u001b[0m\u001b[0;34m\u001b[0m\u001b[0m\n\u001b[1;32m      9\u001b[0m \u001b[0;32mimport\u001b[0m \u001b[0mdjango\u001b[0m\u001b[0;34m\u001b[0m\u001b[0;34m\u001b[0m\u001b[0m\n\u001b[0;32m---> 10\u001b[0;31m \u001b[0mdjango\u001b[0m\u001b[0;34m.\u001b[0m\u001b[0msetup\u001b[0m\u001b[0;34m(\u001b[0m\u001b[0;34m)\u001b[0m\u001b[0;34m\u001b[0m\u001b[0;34m\u001b[0m\u001b[0m\n\u001b[0m",
      "\u001b[0;32m~/anaconda/envs/pyref/lib/python3.6/site-packages/django/__init__.py\u001b[0m in \u001b[0;36msetup\u001b[0;34m(set_prefix)\u001b[0m\n\u001b[1;32m     20\u001b[0m     \u001b[0;32mfrom\u001b[0m \u001b[0mdjango\u001b[0m\u001b[0;34m.\u001b[0m\u001b[0mutils\u001b[0m\u001b[0;34m.\u001b[0m\u001b[0mlog\u001b[0m \u001b[0;32mimport\u001b[0m \u001b[0mconfigure_logging\u001b[0m\u001b[0;34m\u001b[0m\u001b[0;34m\u001b[0m\u001b[0m\n\u001b[1;32m     21\u001b[0m \u001b[0;34m\u001b[0m\u001b[0m\n\u001b[0;32m---> 22\u001b[0;31m     \u001b[0mconfigure_logging\u001b[0m\u001b[0;34m(\u001b[0m\u001b[0msettings\u001b[0m\u001b[0;34m.\u001b[0m\u001b[0mLOGGING_CONFIG\u001b[0m\u001b[0;34m,\u001b[0m \u001b[0msettings\u001b[0m\u001b[0;34m.\u001b[0m\u001b[0mLOGGING\u001b[0m\u001b[0;34m)\u001b[0m\u001b[0;34m\u001b[0m\u001b[0;34m\u001b[0m\u001b[0m\n\u001b[0m\u001b[1;32m     23\u001b[0m     \u001b[0;32mif\u001b[0m \u001b[0mset_prefix\u001b[0m\u001b[0;34m:\u001b[0m\u001b[0;34m\u001b[0m\u001b[0;34m\u001b[0m\u001b[0m\n\u001b[1;32m     24\u001b[0m         set_script_prefix(\n",
      "\u001b[0;32m~/anaconda/envs/pyref/lib/python3.6/site-packages/django/conf/__init__.py\u001b[0m in \u001b[0;36m__getattr__\u001b[0;34m(self, name)\u001b[0m\n\u001b[1;32m     54\u001b[0m         \"\"\"\n\u001b[1;32m     55\u001b[0m         \u001b[0;32mif\u001b[0m \u001b[0mself\u001b[0m\u001b[0;34m.\u001b[0m\u001b[0m_wrapped\u001b[0m \u001b[0;32mis\u001b[0m \u001b[0mempty\u001b[0m\u001b[0;34m:\u001b[0m\u001b[0;34m\u001b[0m\u001b[0;34m\u001b[0m\u001b[0m\n\u001b[0;32m---> 56\u001b[0;31m             \u001b[0mself\u001b[0m\u001b[0;34m.\u001b[0m\u001b[0m_setup\u001b[0m\u001b[0;34m(\u001b[0m\u001b[0mname\u001b[0m\u001b[0;34m)\u001b[0m\u001b[0;34m\u001b[0m\u001b[0;34m\u001b[0m\u001b[0m\n\u001b[0m\u001b[1;32m     57\u001b[0m         \u001b[0mval\u001b[0m \u001b[0;34m=\u001b[0m \u001b[0mgetattr\u001b[0m\u001b[0;34m(\u001b[0m\u001b[0mself\u001b[0m\u001b[0;34m.\u001b[0m\u001b[0m_wrapped\u001b[0m\u001b[0;34m,\u001b[0m \u001b[0mname\u001b[0m\u001b[0;34m)\u001b[0m\u001b[0;34m\u001b[0m\u001b[0;34m\u001b[0m\u001b[0m\n\u001b[1;32m     58\u001b[0m         \u001b[0mself\u001b[0m\u001b[0;34m.\u001b[0m\u001b[0m__dict__\u001b[0m\u001b[0;34m[\u001b[0m\u001b[0mname\u001b[0m\u001b[0;34m]\u001b[0m \u001b[0;34m=\u001b[0m \u001b[0mval\u001b[0m\u001b[0;34m\u001b[0m\u001b[0;34m\u001b[0m\u001b[0m\n",
      "\u001b[0;32m~/anaconda/envs/pyref/lib/python3.6/site-packages/django/conf/__init__.py\u001b[0m in \u001b[0;36m_setup\u001b[0;34m(self, name)\u001b[0m\n\u001b[1;32m     39\u001b[0m                 % (desc, ENVIRONMENT_VARIABLE))\n\u001b[1;32m     40\u001b[0m \u001b[0;34m\u001b[0m\u001b[0m\n\u001b[0;32m---> 41\u001b[0;31m         \u001b[0mself\u001b[0m\u001b[0;34m.\u001b[0m\u001b[0m_wrapped\u001b[0m \u001b[0;34m=\u001b[0m \u001b[0mSettings\u001b[0m\u001b[0;34m(\u001b[0m\u001b[0msettings_module\u001b[0m\u001b[0;34m)\u001b[0m\u001b[0;34m\u001b[0m\u001b[0;34m\u001b[0m\u001b[0m\n\u001b[0m\u001b[1;32m     42\u001b[0m \u001b[0;34m\u001b[0m\u001b[0m\n\u001b[1;32m     43\u001b[0m     \u001b[0;32mdef\u001b[0m \u001b[0m__repr__\u001b[0m\u001b[0;34m(\u001b[0m\u001b[0mself\u001b[0m\u001b[0;34m)\u001b[0m\u001b[0;34m:\u001b[0m\u001b[0;34m\u001b[0m\u001b[0;34m\u001b[0m\u001b[0m\n",
      "\u001b[0;32m~/anaconda/envs/pyref/lib/python3.6/site-packages/django/conf/__init__.py\u001b[0m in \u001b[0;36m__init__\u001b[0;34m(self, settings_module)\u001b[0m\n\u001b[1;32m    108\u001b[0m         \u001b[0mself\u001b[0m\u001b[0;34m.\u001b[0m\u001b[0mSETTINGS_MODULE\u001b[0m \u001b[0;34m=\u001b[0m \u001b[0msettings_module\u001b[0m\u001b[0;34m\u001b[0m\u001b[0;34m\u001b[0m\u001b[0m\n\u001b[1;32m    109\u001b[0m \u001b[0;34m\u001b[0m\u001b[0m\n\u001b[0;32m--> 110\u001b[0;31m         \u001b[0mmod\u001b[0m \u001b[0;34m=\u001b[0m \u001b[0mimportlib\u001b[0m\u001b[0;34m.\u001b[0m\u001b[0mimport_module\u001b[0m\u001b[0;34m(\u001b[0m\u001b[0mself\u001b[0m\u001b[0;34m.\u001b[0m\u001b[0mSETTINGS_MODULE\u001b[0m\u001b[0;34m)\u001b[0m\u001b[0;34m\u001b[0m\u001b[0;34m\u001b[0m\u001b[0m\n\u001b[0m\u001b[1;32m    111\u001b[0m \u001b[0;34m\u001b[0m\u001b[0m\n\u001b[1;32m    112\u001b[0m         tuple_settings = (\n",
      "\u001b[0;32m~/anaconda/envs/pyref/lib/python3.6/importlib/__init__.py\u001b[0m in \u001b[0;36mimport_module\u001b[0;34m(name, package)\u001b[0m\n\u001b[1;32m    124\u001b[0m                 \u001b[0;32mbreak\u001b[0m\u001b[0;34m\u001b[0m\u001b[0;34m\u001b[0m\u001b[0m\n\u001b[1;32m    125\u001b[0m             \u001b[0mlevel\u001b[0m \u001b[0;34m+=\u001b[0m \u001b[0;36m1\u001b[0m\u001b[0;34m\u001b[0m\u001b[0;34m\u001b[0m\u001b[0m\n\u001b[0;32m--> 126\u001b[0;31m     \u001b[0;32mreturn\u001b[0m \u001b[0m_bootstrap\u001b[0m\u001b[0;34m.\u001b[0m\u001b[0m_gcd_import\u001b[0m\u001b[0;34m(\u001b[0m\u001b[0mname\u001b[0m\u001b[0;34m[\u001b[0m\u001b[0mlevel\u001b[0m\u001b[0;34m:\u001b[0m\u001b[0;34m]\u001b[0m\u001b[0;34m,\u001b[0m \u001b[0mpackage\u001b[0m\u001b[0;34m,\u001b[0m \u001b[0mlevel\u001b[0m\u001b[0;34m)\u001b[0m\u001b[0;34m\u001b[0m\u001b[0;34m\u001b[0m\u001b[0m\n\u001b[0m\u001b[1;32m    127\u001b[0m \u001b[0;34m\u001b[0m\u001b[0m\n\u001b[1;32m    128\u001b[0m \u001b[0;34m\u001b[0m\u001b[0m\n",
      "\u001b[0;32m~/anaconda/envs/pyref/lib/python3.6/importlib/_bootstrap.py\u001b[0m in \u001b[0;36m_gcd_import\u001b[0;34m(name, package, level)\u001b[0m\n",
      "\u001b[0;32m~/anaconda/envs/pyref/lib/python3.6/importlib/_bootstrap.py\u001b[0m in \u001b[0;36m_find_and_load\u001b[0;34m(name, import_)\u001b[0m\n",
      "\u001b[0;32m~/anaconda/envs/pyref/lib/python3.6/importlib/_bootstrap.py\u001b[0m in \u001b[0;36m_find_and_load_unlocked\u001b[0;34m(name, import_)\u001b[0m\n",
      "\u001b[0;31mModuleNotFoundError\u001b[0m: No module named 'pyref.settings'"
     ]
    }
   ],
   "source": [
    "import os                                                                       \n",
    "import sys                                                                      \n",
    "\n",
    "www_pyref_path = os.path.abspath('/Users/christian/www/pyref/pyref')                                             \n",
    "sys.path.append(www_pyref_path)                                                   \n",
    "os.environ['DJANGO_SETTINGS_MODULE'] = 'pyref.settings'\n",
    "os.environ['PYTHONPATH'] = '/Users/christian/www/pyref/pyref'\n",
    "# Prepare the Django models                                                     \n",
    "import django                                                                   \n",
    "django.setup() "
   ]
  },
  {
   "cell_type": "code",
   "execution_count": 16,
   "metadata": {},
   "outputs": [
    {
     "data": {
      "text/plain": [
       "['/Users/christian/anaconda/envs/pyref/lib/python36.zip',\n",
       " '/Users/christian/anaconda/envs/pyref/lib/python3.6',\n",
       " '/Users/christian/anaconda/envs/pyref/lib/python3.6/lib-dynload',\n",
       " '',\n",
       " '/Users/christian/anaconda/envs/pyref/lib/python3.6/site-packages',\n",
       " '/Users/christian/anaconda/envs/pyref/lib/python3.6/site-packages/django_refs-0.1-py3.6.egg',\n",
       " '/Users/christian/anaconda/envs/pyref/lib/python3.6/site-packages/IPython/extensions',\n",
       " '/Users/christian/.ipython',\n",
       " '/Users/christian/www/pyref',\n",
       " '/Users/christian/www/pyref/pyref',\n",
       " '/Users/christian/www/pyref/pyref',\n",
       " '/Users/christian/www/pyref',\n",
       " '/Users/christian/www/pyref/pyref',\n",
       " '/Users/christian/www/pyref/pyref',\n",
       " '/Users/christian/www/pyref/pyref',\n",
       " '/Users/christian/www/pyref/pyref',\n",
       " '/Users/christian/www/pyref/pyref',\n",
       " '/Users/christian/www/pyref']"
      ]
     },
     "execution_count": 16,
     "metadata": {},
     "output_type": "execute_result"
    }
   ],
   "source": [
    "sys.path"
   ]
  },
  {
   "cell_type": "code",
   "execution_count": 17,
   "metadata": {},
   "outputs": [
    {
     "data": {
      "text/plain": [
       "'pyref.settings'"
      ]
     },
     "execution_count": 17,
     "metadata": {},
     "output_type": "execute_result"
    }
   ],
   "source": [
    "os.environ['DJANGO_SETTINGS_MODULE']"
   ]
  },
  {
   "cell_type": "code",
   "execution_count": 27,
   "metadata": {},
   "outputs": [
    {
     "ename": "ModuleNotFoundError",
     "evalue": "No module named 'pyref.settings'",
     "output_type": "error",
     "traceback": [
      "\u001b[0;31m---------------------------------------------------------------------------\u001b[0m",
      "\u001b[0;31mModuleNotFoundError\u001b[0m                       Traceback (most recent call last)",
      "\u001b[0;32m<ipython-input-27-0dcb144c18d8>\u001b[0m in \u001b[0;36m<module>\u001b[0;34m\u001b[0m\n\u001b[0;32m----> 1\u001b[0;31m \u001b[0;32mimport\u001b[0m \u001b[0mpyref\u001b[0m\u001b[0;34m.\u001b[0m\u001b[0msettings\u001b[0m\u001b[0;34m\u001b[0m\u001b[0;34m\u001b[0m\u001b[0m\n\u001b[0m",
      "\u001b[0;31mModuleNotFoundError\u001b[0m: No module named 'pyref.settings'"
     ]
    }
   ],
   "source": [
    "import pyref.settings"
   ]
  },
  {
   "cell_type": "code",
   "execution_count": 25,
   "metadata": {},
   "outputs": [
    {
     "data": {
      "text/plain": [
       "'/Users/christian/www/pyref/pyref'"
      ]
     },
     "execution_count": 25,
     "metadata": {},
     "output_type": "execute_result"
    }
   ],
   "source": [
    "os.environ['PYTHONPATH']"
   ]
  },
  {
   "cell_type": "code",
   "execution_count": 24,
   "metadata": {},
   "outputs": [],
   "source": [
    "os.environ['PYTHONPATH'] = '/Users/christian/www/pyref/pyref'"
   ]
  },
  {
   "cell_type": "code",
   "execution_count": null,
   "metadata": {},
   "outputs": [],
   "source": []
  }
 ],
 "metadata": {
  "kernelspec": {
   "display_name": "Python 3",
   "language": "python",
   "name": "python3"
  },
  "language_info": {
   "codemirror_mode": {
    "name": "ipython",
    "version": 3
   },
   "file_extension": ".py",
   "mimetype": "text/x-python",
   "name": "python",
   "nbconvert_exporter": "python",
   "pygments_lexer": "ipython3",
   "version": "3.6.9"
  }
 },
 "nbformat": 4,
 "nbformat_minor": 2
}
