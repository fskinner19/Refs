{
 "cells": [
  {
   "cell_type": "markdown",
   "metadata": {},
   "source": [
    "## <font color=mediumpurple>Before Doing Anything, Import the Necessary Modules"
   ]
  },
  {
   "cell_type": "code",
   "execution_count": 6,
   "metadata": {},
   "outputs": [],
   "source": [
    "# Import these modules\n",
    "\n",
    "# Step 2 Bibcode\n",
    "import requests\n",
    "import json\n",
    "\n",
    "# Step 4 urllib\n",
    "import urllib.request\n",
    "from urllib.error import HTTPError\n",
    "\n",
    "#Step 5 html encoder\n",
    "import html\n",
    "\n",
    "# Step 6 bibtex\n",
    "import re\n",
    "import logging\n",
    "from bs4 import BeautifulSoup  \n",
    "from html.entities import name2codepoint  \n",
    "from urllib.request import quote, Request, urlopen"
   ]
  },
  {
   "cell_type": "markdown",
   "metadata": {},
   "source": [
    "# **A Guide to creating citations using only a DOI**\n",
    "*Note: This Notebook seeks to retrieve citations for papers as 3 outputs; JSON, BibTeX and HTML. The citations in this notebook are retrieving the following information on a paper: Title, Authors, Journal Name, Volume Number, Page Range, Year, Hyperlink(s) to the Article and DOI of the Article. If you are looking for more detailed citations or other outputs then please refer to step 3 after completing steps 1 & 2!*\n",
    "\n",
    "<font color=blue>Step 1. Get DOI of the paper you want to cite</font> <br>\n",
    "<font color=red>Step 2. Use DOI to search for the Bibcode -- Enter DOI in prompt provided -- Output will be the Bibcode for the paper</font> <br>\n",
    "<font color=green>Step 3. The Bibcode will automatically be populated for you to search in ADS method. The Output is customizable, all formats possible. This method includes links to paper by DOI url & ADS url</font> <br>\n",
    "<font color=magenta>Note. (This May Happen to Some Users) Error! My paper was not in ADS! There is no Bibcode for the paper! -- If there is no Bibcode then please Move to Step 4</font> <br>\n",
    "<font color=purple>Step 4. Use DOI to search in Urllib method -- your DOI is already populated from step 1 in Urllib Method -- Output will be the full citation as a plain text/JSON output. Output is customizable as HTML through Step 5, or in BibTeX format through Step 6</font> <br>\n",
    "<font color=teal>Step 5. The full JSON output will be populated from the Urllib method to encode it as HTML</font> <br>\n",
    "<font color=maroon>Step 6. The DOI is already populated and you will recieve the full BibTeX citation for the paper using the GScholar Method</font> <br>\n",
    "\n",
    "### *All Done!* Now you have the citation for your paper in 3 different formats!"
   ]
  },
  {
   "cell_type": "markdown",
   "metadata": {},
   "source": [
    "## <font color=blue>Step 1.</font>\n",
    "\n",
    "<font color=blue>You can retrieve the DOI for your paper in many different ways.\n",
    "1. The DOI is a unique alphanumeric string assigned by the International DOI Foundation, to identify content and provide a persistent link to its location on the Internet. It is written in the general format of '10.1000/xyz123'\n",
    "2. The DOI should be written on the top left or top right corner of your paper, it is written as 'DOI:10.1000/xyz123'\n",
    "3. The DOI should be listed in the details or citation section on the publishers website where you have found your paper\n",
    "4. The DOI may also be written as a link, next to the papers information on the publishers website, the link is written as https://doi.org/10.1000/xyz123 or https://dx.doi.org/10.1000/xyz123\n",
    "5. In order to use this notebook please type in \"ENTER HERE\" spots the DOI in the '10.1000/xyz123' format, *NOT* as hyperlink</font>"
   ]
  },
  {
   "cell_type": "code",
   "execution_count": 7,
   "metadata": {},
   "outputs": [],
   "source": [
    "# Enter your token here: You need this for using step 3\n",
    "# This is where the token goes, between the \"\" \n",
    "token=\"gx43LyUuTTD0zoTWx8qKpWbWi3euTmx7FCM3fJjY\""
   ]
  },
  {
   "cell_type": "markdown",
   "metadata": {},
   "source": [
    "## <font color=red>Step 2. Retrive Bibcode</font> "
   ]
  },
  {
   "cell_type": "code",
   "execution_count": 35,
   "metadata": {},
   "outputs": [],
   "source": [
    "def get_citeproc_authors(cpd_author):\n",
    "    if cpd_author is None:\n",
    "        return None\n",
    "    names = []\n",
    "    for author in cpd_author:\n",
    "        try:\n",
    "            family = author['family'].title()\n",
    "        except KeyError:\n",
    "            name = author['name']\n",
    "            names.append(name)\n",
    "            continue\n",
    "        try:\n",
    "            given = author['given']\n",
    "        except KeyError:\n",
    "            # This author has first name\n",
    "            names.append(family)\n",
    "            continue\n",
    "        initials = given.split()\n",
    "        initials[0] = '{}.'.format(initials[0][0])\n",
    "        initials = ' '.join(initials)\n",
    "        names.append('{} {}'.format(initials, family))\n",
    "    return ', '.join(names)\n",
    "\n",
    "def parse_citeproc_json(citeproc_json):\n",
    "    \"\"\"Parse the provided JSON into a Ref object.\"\"\"\n",
    "    \n",
    "    cpd = json.loads(citeproc_json)\n",
    "    try:\n",
    "        if cpd['type'] != 'article-journal':\n",
    "            return None\n",
    "    except KeyError:\n",
    "        return None\n",
    "\n",
    "    authors = get_citeproc_authors(cpd.get('author', ''))\n",
    "    title = cpd.get('title', '').replace('\\n', '')\n",
    "    journal = cpd.get('container-title', '')\n",
    "    volume = cpd.get('volume', '')\n",
    "    page_start, page_end = cpd.get('page', ''), ''\n",
    "    if page_start and '-' in page_start:\n",
    "        page_start, page_end = page_start.split('-')\n",
    "    article_number = cpd.get('article-number', '')\n",
    "    doi = cpd.get('DOI', '')\n",
    "    url = cpd.get('URL', '')\n",
    "    try:\n",
    "        year = cpd['issued']['date-parts'][0][0]\n",
    "    except (KeyError, IndexError):\n",
    "        year = None\n",
    "        \n",
    "    try:\n",
    "        bibcode = cpd.get('bibcode', '')\n",
    "    except (KeyError, IndexError):\n",
    "        bibcode = None\n",
    "        \n",
    "# # =============================================================================\n",
    "# #   OUTPUT\n",
    "# # =============================================================================\n",
    "    ref = [authors, \n",
    "        title, \n",
    "        journal, \n",
    "        volume,\n",
    "        year, \n",
    "        page_start, \n",
    "        page_end, \n",
    "        doi,\n",
    "        url, \n",
    "        article_number,\n",
    "        citeproc_json]\n",
    "    return ref \n",
    "\n",
    "def get_citeproc_json_from_doi(doi):\n",
    "    base_url = 'http://dx.doi.org/'\n",
    "    url = base_url + doi\n",
    "    req = urllib.request.Request(url)\n",
    "    req.add_header('Accept', 'application/citeproc+json')\n",
    "    try:\n",
    "        with urllib.request.urlopen(req) as f:\n",
    "            citeproc_json = f.read().decode()\n",
    "    except HTTPError as e:\n",
    "        if e.code == 404:\n",
    "            raise ValueError('DOI not found.')\n",
    "        raise\n",
    "    return citeproc_json\n",
    "\n",
    "def get_source_from_doi(doi):\n",
    "    citeproc_json = get_citeproc_json_from_doi(doi)\n",
    "    ref = parse_citeproc_json(citeproc_json)\n",
    "    return ref"
   ]
  },
  {
   "cell_type": "code",
   "execution_count": 36,
   "metadata": {},
   "outputs": [
    {
     "name": "stdout",
     "output_type": "stream",
     "text": [
      "Enter DOI Here: fwejf\n"
     ]
    },
    {
     "ename": "ValueError",
     "evalue": "DOI not found.",
     "output_type": "error",
     "traceback": [
      "\u001b[0;31m---------------------------------------------------------------------------\u001b[0m",
      "\u001b[0;31mHTTPError\u001b[0m                                 Traceback (most recent call last)",
      "\u001b[0;32m<ipython-input-35-2bbc485c821c>\u001b[0m in \u001b[0;36mget_citeproc_json_from_doi\u001b[0;34m(doi)\u001b[0m\n\u001b[1;32m     75\u001b[0m     \u001b[0;32mtry\u001b[0m\u001b[0;34m:\u001b[0m\u001b[0;34m\u001b[0m\u001b[0;34m\u001b[0m\u001b[0m\n\u001b[0;32m---> 76\u001b[0;31m         \u001b[0;32mwith\u001b[0m \u001b[0murllib\u001b[0m\u001b[0;34m.\u001b[0m\u001b[0mrequest\u001b[0m\u001b[0;34m.\u001b[0m\u001b[0murlopen\u001b[0m\u001b[0;34m(\u001b[0m\u001b[0mreq\u001b[0m\u001b[0;34m)\u001b[0m \u001b[0;32mas\u001b[0m \u001b[0mf\u001b[0m\u001b[0;34m:\u001b[0m\u001b[0;34m\u001b[0m\u001b[0;34m\u001b[0m\u001b[0m\n\u001b[0m\u001b[1;32m     77\u001b[0m             \u001b[0mciteproc_json\u001b[0m \u001b[0;34m=\u001b[0m \u001b[0mf\u001b[0m\u001b[0;34m.\u001b[0m\u001b[0mread\u001b[0m\u001b[0;34m(\u001b[0m\u001b[0;34m)\u001b[0m\u001b[0;34m.\u001b[0m\u001b[0mdecode\u001b[0m\u001b[0;34m(\u001b[0m\u001b[0;34m)\u001b[0m\u001b[0;34m\u001b[0m\u001b[0;34m\u001b[0m\u001b[0m\n",
      "\u001b[0;32m~/anaconda/envs/pyref/lib/python3.6/urllib/request.py\u001b[0m in \u001b[0;36murlopen\u001b[0;34m(url, data, timeout, cafile, capath, cadefault, context)\u001b[0m\n\u001b[1;32m    222\u001b[0m         \u001b[0mopener\u001b[0m \u001b[0;34m=\u001b[0m \u001b[0m_opener\u001b[0m\u001b[0;34m\u001b[0m\u001b[0;34m\u001b[0m\u001b[0m\n\u001b[0;32m--> 223\u001b[0;31m     \u001b[0;32mreturn\u001b[0m \u001b[0mopener\u001b[0m\u001b[0;34m.\u001b[0m\u001b[0mopen\u001b[0m\u001b[0;34m(\u001b[0m\u001b[0murl\u001b[0m\u001b[0;34m,\u001b[0m \u001b[0mdata\u001b[0m\u001b[0;34m,\u001b[0m \u001b[0mtimeout\u001b[0m\u001b[0;34m)\u001b[0m\u001b[0;34m\u001b[0m\u001b[0;34m\u001b[0m\u001b[0m\n\u001b[0m\u001b[1;32m    224\u001b[0m \u001b[0;34m\u001b[0m\u001b[0m\n",
      "\u001b[0;32m~/anaconda/envs/pyref/lib/python3.6/urllib/request.py\u001b[0m in \u001b[0;36mopen\u001b[0;34m(self, fullurl, data, timeout)\u001b[0m\n\u001b[1;32m    531\u001b[0m             \u001b[0mmeth\u001b[0m \u001b[0;34m=\u001b[0m \u001b[0mgetattr\u001b[0m\u001b[0;34m(\u001b[0m\u001b[0mprocessor\u001b[0m\u001b[0;34m,\u001b[0m \u001b[0mmeth_name\u001b[0m\u001b[0;34m)\u001b[0m\u001b[0;34m\u001b[0m\u001b[0;34m\u001b[0m\u001b[0m\n\u001b[0;32m--> 532\u001b[0;31m             \u001b[0mresponse\u001b[0m \u001b[0;34m=\u001b[0m \u001b[0mmeth\u001b[0m\u001b[0;34m(\u001b[0m\u001b[0mreq\u001b[0m\u001b[0;34m,\u001b[0m \u001b[0mresponse\u001b[0m\u001b[0;34m)\u001b[0m\u001b[0;34m\u001b[0m\u001b[0;34m\u001b[0m\u001b[0m\n\u001b[0m\u001b[1;32m    533\u001b[0m \u001b[0;34m\u001b[0m\u001b[0m\n",
      "\u001b[0;32m~/anaconda/envs/pyref/lib/python3.6/urllib/request.py\u001b[0m in \u001b[0;36mhttp_response\u001b[0;34m(self, request, response)\u001b[0m\n\u001b[1;32m    641\u001b[0m             response = self.parent.error(\n\u001b[0;32m--> 642\u001b[0;31m                 'http', request, response, code, msg, hdrs)\n\u001b[0m\u001b[1;32m    643\u001b[0m \u001b[0;34m\u001b[0m\u001b[0m\n",
      "\u001b[0;32m~/anaconda/envs/pyref/lib/python3.6/urllib/request.py\u001b[0m in \u001b[0;36merror\u001b[0;34m(self, proto, *args)\u001b[0m\n\u001b[1;32m    563\u001b[0m         \u001b[0margs\u001b[0m \u001b[0;34m=\u001b[0m \u001b[0;34m(\u001b[0m\u001b[0mdict\u001b[0m\u001b[0;34m,\u001b[0m \u001b[0mproto\u001b[0m\u001b[0;34m,\u001b[0m \u001b[0mmeth_name\u001b[0m\u001b[0;34m)\u001b[0m \u001b[0;34m+\u001b[0m \u001b[0margs\u001b[0m\u001b[0;34m\u001b[0m\u001b[0;34m\u001b[0m\u001b[0m\n\u001b[0;32m--> 564\u001b[0;31m         \u001b[0mresult\u001b[0m \u001b[0;34m=\u001b[0m \u001b[0mself\u001b[0m\u001b[0;34m.\u001b[0m\u001b[0m_call_chain\u001b[0m\u001b[0;34m(\u001b[0m\u001b[0;34m*\u001b[0m\u001b[0margs\u001b[0m\u001b[0;34m)\u001b[0m\u001b[0;34m\u001b[0m\u001b[0;34m\u001b[0m\u001b[0m\n\u001b[0m\u001b[1;32m    565\u001b[0m         \u001b[0;32mif\u001b[0m \u001b[0mresult\u001b[0m\u001b[0;34m:\u001b[0m\u001b[0;34m\u001b[0m\u001b[0;34m\u001b[0m\u001b[0m\n",
      "\u001b[0;32m~/anaconda/envs/pyref/lib/python3.6/urllib/request.py\u001b[0m in \u001b[0;36m_call_chain\u001b[0;34m(self, chain, kind, meth_name, *args)\u001b[0m\n\u001b[1;32m    503\u001b[0m             \u001b[0mfunc\u001b[0m \u001b[0;34m=\u001b[0m \u001b[0mgetattr\u001b[0m\u001b[0;34m(\u001b[0m\u001b[0mhandler\u001b[0m\u001b[0;34m,\u001b[0m \u001b[0mmeth_name\u001b[0m\u001b[0;34m)\u001b[0m\u001b[0;34m\u001b[0m\u001b[0;34m\u001b[0m\u001b[0m\n\u001b[0;32m--> 504\u001b[0;31m             \u001b[0mresult\u001b[0m \u001b[0;34m=\u001b[0m \u001b[0mfunc\u001b[0m\u001b[0;34m(\u001b[0m\u001b[0;34m*\u001b[0m\u001b[0margs\u001b[0m\u001b[0;34m)\u001b[0m\u001b[0;34m\u001b[0m\u001b[0;34m\u001b[0m\u001b[0m\n\u001b[0m\u001b[1;32m    505\u001b[0m             \u001b[0;32mif\u001b[0m \u001b[0mresult\u001b[0m \u001b[0;32mis\u001b[0m \u001b[0;32mnot\u001b[0m \u001b[0;32mNone\u001b[0m\u001b[0;34m:\u001b[0m\u001b[0;34m\u001b[0m\u001b[0;34m\u001b[0m\u001b[0m\n",
      "\u001b[0;32m~/anaconda/envs/pyref/lib/python3.6/urllib/request.py\u001b[0m in \u001b[0;36mhttp_error_302\u001b[0;34m(self, req, fp, code, msg, headers)\u001b[0m\n\u001b[1;32m    755\u001b[0m \u001b[0;34m\u001b[0m\u001b[0m\n\u001b[0;32m--> 756\u001b[0;31m         \u001b[0;32mreturn\u001b[0m \u001b[0mself\u001b[0m\u001b[0;34m.\u001b[0m\u001b[0mparent\u001b[0m\u001b[0;34m.\u001b[0m\u001b[0mopen\u001b[0m\u001b[0;34m(\u001b[0m\u001b[0mnew\u001b[0m\u001b[0;34m,\u001b[0m \u001b[0mtimeout\u001b[0m\u001b[0;34m=\u001b[0m\u001b[0mreq\u001b[0m\u001b[0;34m.\u001b[0m\u001b[0mtimeout\u001b[0m\u001b[0;34m)\u001b[0m\u001b[0;34m\u001b[0m\u001b[0;34m\u001b[0m\u001b[0m\n\u001b[0m\u001b[1;32m    757\u001b[0m \u001b[0;34m\u001b[0m\u001b[0m\n",
      "\u001b[0;32m~/anaconda/envs/pyref/lib/python3.6/urllib/request.py\u001b[0m in \u001b[0;36mopen\u001b[0;34m(self, fullurl, data, timeout)\u001b[0m\n\u001b[1;32m    531\u001b[0m             \u001b[0mmeth\u001b[0m \u001b[0;34m=\u001b[0m \u001b[0mgetattr\u001b[0m\u001b[0;34m(\u001b[0m\u001b[0mprocessor\u001b[0m\u001b[0;34m,\u001b[0m \u001b[0mmeth_name\u001b[0m\u001b[0;34m)\u001b[0m\u001b[0;34m\u001b[0m\u001b[0;34m\u001b[0m\u001b[0m\n\u001b[0;32m--> 532\u001b[0;31m             \u001b[0mresponse\u001b[0m \u001b[0;34m=\u001b[0m \u001b[0mmeth\u001b[0m\u001b[0;34m(\u001b[0m\u001b[0mreq\u001b[0m\u001b[0;34m,\u001b[0m \u001b[0mresponse\u001b[0m\u001b[0;34m)\u001b[0m\u001b[0;34m\u001b[0m\u001b[0;34m\u001b[0m\u001b[0m\n\u001b[0m\u001b[1;32m    533\u001b[0m \u001b[0;34m\u001b[0m\u001b[0m\n",
      "\u001b[0;32m~/anaconda/envs/pyref/lib/python3.6/urllib/request.py\u001b[0m in \u001b[0;36mhttp_response\u001b[0;34m(self, request, response)\u001b[0m\n\u001b[1;32m    641\u001b[0m             response = self.parent.error(\n\u001b[0;32m--> 642\u001b[0;31m                 'http', request, response, code, msg, hdrs)\n\u001b[0m\u001b[1;32m    643\u001b[0m \u001b[0;34m\u001b[0m\u001b[0m\n",
      "\u001b[0;32m~/anaconda/envs/pyref/lib/python3.6/urllib/request.py\u001b[0m in \u001b[0;36merror\u001b[0;34m(self, proto, *args)\u001b[0m\n\u001b[1;32m    569\u001b[0m             \u001b[0margs\u001b[0m \u001b[0;34m=\u001b[0m \u001b[0;34m(\u001b[0m\u001b[0mdict\u001b[0m\u001b[0;34m,\u001b[0m \u001b[0;34m'default'\u001b[0m\u001b[0;34m,\u001b[0m \u001b[0;34m'http_error_default'\u001b[0m\u001b[0;34m)\u001b[0m \u001b[0;34m+\u001b[0m \u001b[0morig_args\u001b[0m\u001b[0;34m\u001b[0m\u001b[0;34m\u001b[0m\u001b[0m\n\u001b[0;32m--> 570\u001b[0;31m             \u001b[0;32mreturn\u001b[0m \u001b[0mself\u001b[0m\u001b[0;34m.\u001b[0m\u001b[0m_call_chain\u001b[0m\u001b[0;34m(\u001b[0m\u001b[0;34m*\u001b[0m\u001b[0margs\u001b[0m\u001b[0;34m)\u001b[0m\u001b[0;34m\u001b[0m\u001b[0;34m\u001b[0m\u001b[0m\n\u001b[0m\u001b[1;32m    571\u001b[0m \u001b[0;34m\u001b[0m\u001b[0m\n",
      "\u001b[0;32m~/anaconda/envs/pyref/lib/python3.6/urllib/request.py\u001b[0m in \u001b[0;36m_call_chain\u001b[0;34m(self, chain, kind, meth_name, *args)\u001b[0m\n\u001b[1;32m    503\u001b[0m             \u001b[0mfunc\u001b[0m \u001b[0;34m=\u001b[0m \u001b[0mgetattr\u001b[0m\u001b[0;34m(\u001b[0m\u001b[0mhandler\u001b[0m\u001b[0;34m,\u001b[0m \u001b[0mmeth_name\u001b[0m\u001b[0;34m)\u001b[0m\u001b[0;34m\u001b[0m\u001b[0;34m\u001b[0m\u001b[0m\n\u001b[0;32m--> 504\u001b[0;31m             \u001b[0mresult\u001b[0m \u001b[0;34m=\u001b[0m \u001b[0mfunc\u001b[0m\u001b[0;34m(\u001b[0m\u001b[0;34m*\u001b[0m\u001b[0margs\u001b[0m\u001b[0;34m)\u001b[0m\u001b[0;34m\u001b[0m\u001b[0;34m\u001b[0m\u001b[0m\n\u001b[0m\u001b[1;32m    505\u001b[0m             \u001b[0;32mif\u001b[0m \u001b[0mresult\u001b[0m \u001b[0;32mis\u001b[0m \u001b[0;32mnot\u001b[0m \u001b[0;32mNone\u001b[0m\u001b[0;34m:\u001b[0m\u001b[0;34m\u001b[0m\u001b[0;34m\u001b[0m\u001b[0m\n",
      "\u001b[0;32m~/anaconda/envs/pyref/lib/python3.6/urllib/request.py\u001b[0m in \u001b[0;36mhttp_error_default\u001b[0;34m(self, req, fp, code, msg, hdrs)\u001b[0m\n\u001b[1;32m    649\u001b[0m     \u001b[0;32mdef\u001b[0m \u001b[0mhttp_error_default\u001b[0m\u001b[0;34m(\u001b[0m\u001b[0mself\u001b[0m\u001b[0;34m,\u001b[0m \u001b[0mreq\u001b[0m\u001b[0;34m,\u001b[0m \u001b[0mfp\u001b[0m\u001b[0;34m,\u001b[0m \u001b[0mcode\u001b[0m\u001b[0;34m,\u001b[0m \u001b[0mmsg\u001b[0m\u001b[0;34m,\u001b[0m \u001b[0mhdrs\u001b[0m\u001b[0;34m)\u001b[0m\u001b[0;34m:\u001b[0m\u001b[0;34m\u001b[0m\u001b[0;34m\u001b[0m\u001b[0m\n\u001b[0;32m--> 650\u001b[0;31m         \u001b[0;32mraise\u001b[0m \u001b[0mHTTPError\u001b[0m\u001b[0;34m(\u001b[0m\u001b[0mreq\u001b[0m\u001b[0;34m.\u001b[0m\u001b[0mfull_url\u001b[0m\u001b[0;34m,\u001b[0m \u001b[0mcode\u001b[0m\u001b[0;34m,\u001b[0m \u001b[0mmsg\u001b[0m\u001b[0;34m,\u001b[0m \u001b[0mhdrs\u001b[0m\u001b[0;34m,\u001b[0m \u001b[0mfp\u001b[0m\u001b[0;34m)\u001b[0m\u001b[0;34m\u001b[0m\u001b[0;34m\u001b[0m\u001b[0m\n\u001b[0m\u001b[1;32m    651\u001b[0m \u001b[0;34m\u001b[0m\u001b[0m\n",
      "\u001b[0;31mHTTPError\u001b[0m: HTTP Error 404: ",
      "\nDuring handling of the above exception, another exception occurred:\n",
      "\u001b[0;31mValueError\u001b[0m                                Traceback (most recent call last)",
      "\u001b[0;32m<ipython-input-36-aa7177a57a05>\u001b[0m in \u001b[0;36m<module>\u001b[0;34m\u001b[0m\n\u001b[1;32m      5\u001b[0m \u001b[0;34m\u001b[0m\u001b[0m\n\u001b[1;32m      6\u001b[0m \u001b[0mdoi\u001b[0m \u001b[0;34m=\u001b[0m \u001b[0minput\u001b[0m\u001b[0;34m(\u001b[0m\u001b[0;34m\"Enter DOI Here: \"\u001b[0m\u001b[0;34m)\u001b[0m\u001b[0;34m\u001b[0m\u001b[0;34m\u001b[0m\u001b[0m\n\u001b[0;32m----> 7\u001b[0;31m \u001b[0mdoi_fetched\u001b[0m \u001b[0;34m=\u001b[0m \u001b[0mget_source_from_doi\u001b[0m\u001b[0;34m(\u001b[0m\u001b[0mdoi\u001b[0m\u001b[0;34m)\u001b[0m\u001b[0;34m\u001b[0m\u001b[0;34m\u001b[0m\u001b[0m\n\u001b[0m\u001b[1;32m      8\u001b[0m \u001b[0;34m\u001b[0m\u001b[0m\n\u001b[1;32m      9\u001b[0m \u001b[0mads_token\u001b[0m \u001b[0;34m=\u001b[0m \u001b[0;34m'4PtdkIDyxpjjZ1JDYJ4HI59VXJuJD98tACcrnfPv'\u001b[0m\u001b[0;34m\u001b[0m\u001b[0;34m\u001b[0m\u001b[0m\n",
      "\u001b[0;32m<ipython-input-35-2bbc485c821c>\u001b[0m in \u001b[0;36mget_source_from_doi\u001b[0;34m(doi)\u001b[0m\n\u001b[1;32m     83\u001b[0m \u001b[0;34m\u001b[0m\u001b[0m\n\u001b[1;32m     84\u001b[0m \u001b[0;32mdef\u001b[0m \u001b[0mget_source_from_doi\u001b[0m\u001b[0;34m(\u001b[0m\u001b[0mdoi\u001b[0m\u001b[0;34m)\u001b[0m\u001b[0;34m:\u001b[0m\u001b[0;34m\u001b[0m\u001b[0;34m\u001b[0m\u001b[0m\n\u001b[0;32m---> 85\u001b[0;31m     \u001b[0mciteproc_json\u001b[0m \u001b[0;34m=\u001b[0m \u001b[0mget_citeproc_json_from_doi\u001b[0m\u001b[0;34m(\u001b[0m\u001b[0mdoi\u001b[0m\u001b[0;34m)\u001b[0m\u001b[0;34m\u001b[0m\u001b[0;34m\u001b[0m\u001b[0m\n\u001b[0m\u001b[1;32m     86\u001b[0m     \u001b[0mref\u001b[0m \u001b[0;34m=\u001b[0m \u001b[0mparse_citeproc_json\u001b[0m\u001b[0;34m(\u001b[0m\u001b[0mciteproc_json\u001b[0m\u001b[0;34m)\u001b[0m\u001b[0;34m\u001b[0m\u001b[0;34m\u001b[0m\u001b[0m\n\u001b[1;32m     87\u001b[0m     \u001b[0;32mreturn\u001b[0m \u001b[0mref\u001b[0m\u001b[0;34m\u001b[0m\u001b[0;34m\u001b[0m\u001b[0m\n",
      "\u001b[0;32m<ipython-input-35-2bbc485c821c>\u001b[0m in \u001b[0;36mget_citeproc_json_from_doi\u001b[0;34m(doi)\u001b[0m\n\u001b[1;32m     78\u001b[0m     \u001b[0;32mexcept\u001b[0m \u001b[0mHTTPError\u001b[0m \u001b[0;32mas\u001b[0m \u001b[0me\u001b[0m\u001b[0;34m:\u001b[0m\u001b[0;34m\u001b[0m\u001b[0;34m\u001b[0m\u001b[0m\n\u001b[1;32m     79\u001b[0m         \u001b[0;32mif\u001b[0m \u001b[0me\u001b[0m\u001b[0;34m.\u001b[0m\u001b[0mcode\u001b[0m \u001b[0;34m==\u001b[0m \u001b[0;36m404\u001b[0m\u001b[0;34m:\u001b[0m\u001b[0;34m\u001b[0m\u001b[0;34m\u001b[0m\u001b[0m\n\u001b[0;32m---> 80\u001b[0;31m             \u001b[0;32mraise\u001b[0m \u001b[0mValueError\u001b[0m\u001b[0;34m(\u001b[0m\u001b[0;34m'DOI not found.'\u001b[0m\u001b[0;34m)\u001b[0m\u001b[0;34m\u001b[0m\u001b[0;34m\u001b[0m\u001b[0m\n\u001b[0m\u001b[1;32m     81\u001b[0m         \u001b[0;32mraise\u001b[0m\u001b[0;34m\u001b[0m\u001b[0;34m\u001b[0m\u001b[0m\n\u001b[1;32m     82\u001b[0m     \u001b[0;32mreturn\u001b[0m \u001b[0mciteproc_json\u001b[0m\u001b[0;34m\u001b[0m\u001b[0;34m\u001b[0m\u001b[0m\n",
      "\u001b[0;31mValueError\u001b[0m: DOI not found."
     ]
    }
   ],
   "source": [
    "# DOI Example HITRAN Paper: = 10.1016/j.jqsrt.2017.06.038\n",
    "# DOI Example Superscript Title: = 10.1103/PhysRevA.85.032515\n",
    "# NO, NO2, N2O PAPER: = 10.1016/j.jqsrt.2019.04.040\n",
    "# EAMON H2O 2020 PAPER: = 10.1016/j.jqsrt.2019.106711\n",
    "\n",
    "doi = input(\"Enter DOI Here: \")\n",
    "doi_fetched = get_source_from_doi(doi)\n",
    "\n",
    "ads_token = '4PtdkIDyxpjjZ1JDYJ4HI59VXJuJD98tACcrnfPv'\n",
    "token     = ads_token\n",
    "\n",
    "rdoi = doi\n",
    "\n",
    "rdoi_bs = rdoi.replace(\"\\\\\", \"%2F\")    # Remove backslash and replace with URL code for backslash\n",
    "rdoi_fs = rdoi_bs.replace(\"/\", \"%2F\")  # Remove forwardslash and replace with URL code for backslash\n",
    "\n",
    "rurl = requests.get(\"https://api.adsabs.harvard.edu/v1/search/query?q=doi:\"+rdoi_fs,\\\n",
    "                 params={\"q\":\"*:*\", \"fl\": \"*\", \"rows\":2000},\n",
    "                 headers={'Authorization': 'Bearer ' + token})\n",
    "\n",
    "todos          = json.loads(rurl.text)\n",
    "todos_response = todos.get('response', '')\n",
    "\n",
    "#Bibcode = (todos_response['docs']['bibcode'])\n",
    "Bibcode =  (todos_response['docs'][0]['bibcode']) \n",
    "\n",
    "print(Bibcode)"
   ]
  },
  {
   "cell_type": "markdown",
   "metadata": {},
   "source": [
    "## <font color=green>Step 3. ADS Method</font>"
   ]
  },
  {
   "cell_type": "markdown",
   "metadata": {},
   "source": [
    "### <font color=green>Note before using ADS Method</font>\n",
    "  1. Exporting using bibcodes require two things.\n",
    "       - A Bibcode Number (which you got from step 2)<br>\n",
    "       - A Token--You will need to know what a Token is. It must be used whenever you want to access the ADS database. A token can only be used once you have an account on NASA/ADS https://ui.adsabs.harvard.edu/. Once you have an account click on 'Account' in the top right hand corner, then click on 'Customize Settings' on the dropdown menu. In 'Customize Settings' there is a panel to the left of the screen, if you scroll down that panel you will see 'API Token'. Click on 'API Token' and then click on 'generate a new key'. <br>\n",
    "         - You are technically using ADS's API when you are using this method. So for any questions/concerns please refer to the NASA/ADS API Information tool on GitHub https://github.com/adsabs/adsabs-dev-api#access-settings <br>\n",
    "  2. The benefits of this method are the endless choices to customize your citation output.\n",
    "     - You can get more information such as... the abstract, copyright, citation count, author affiliation, keywords, publication category and arXiv e-print number, etc.<br>\n",
    "     - You can search more than 1 bibcode at a time<br>\n",
    "     - You have more output options such as... EndNote, ProCite, RIS (Refman), RefWorks, MEDLARS, AASTeX, Icarus, MNRAS, Solar Physics (SoPh), DC (Dublin Core) XML, REF-XML, REFABS-XML, VOTables and RSS<br>\n",
    "     - This notebook does not display examples of all of these output format options, if you are interested in any of these choices or extra features please refer to http://adsabs.github.io/help/actions/export <br>\n",
    "  3. The first option is to retrieve a citation where the output is in JSON format<br>\n",
    "  4. The second option is to retrieve a citation where the output is in html format<br>\n",
    "  6. The third option is to retrieve a citation where the output is in LaTeX format</font>\n",
    "  \n",
    "*<font color=green>Overall you need to make an account on ADS in order to use this method. </font>*\n",
    "\n",
    "*<font color=green>If you do not want to make an account then use the BibTeX citation from step 6 and if you want, use steps 4 & 5 to retrieve html and JSON citation formats, in steps 4 & 5 you only need to enter the DOI to retrieve citations </font>*\n",
    "\n",
    "*<font color=green>However there are many benefits to using the ADS method, your citation output is completely customizable! So if your willing and you have your Bibcode then its recommended to use this method!</font>*"
   ]
  },
  {
   "cell_type": "markdown",
   "metadata": {},
   "source": [
    "<font color=green>After running the cell below and then the print cell you will recieve an HTML reference with the characters &, <, >, and “ included"
   ]
  },
  {
   "cell_type": "code",
   "execution_count": 27,
   "metadata": {},
   "outputs": [],
   "source": [
    "# HTML with the characters &, <, >, and “ included\n",
    "payload = {\"bibcode\": [\"{}\".format(Bibcode)], # 2012PhRvA..85c2515Z\n",
    "           \"sort\": \"first_author asc\",\n",
    "           \"format\":\n",
    "           '''{\"ref_json\": {\"authors\": \"%I\",\n",
    "              \"title\": \"%T\",\n",
    "              \"journal\": \"%J\",\n",
    "              \"volume\": \"%V\",\n",
    "              \"start-page\": \"%p\",\n",
    "              \"end-page\": \"%P\",\n",
    "              \"year\": %Y,\n",
    "              \"doi\": \"%d\",\n",
    "              \"bibcode\": \"%u\"}}'''\n",
    "              }\n",
    "r = requests.post(\"https://api.adsabs.harvard.edu/v1/export/custom\", \\\n",
    "                 headers={\"Authorization\": \"Bearer \" + token, \"Content-type\": \"application/json\"}, \\\n",
    "                 data=json.dumps(payload))\n",
    "response_json = r.json()\n",
    "ref_json = json.loads(response_json['export'])['ref_json']"
   ]
  },
  {
   "cell_type": "code",
   "execution_count": 28,
   "metadata": {},
   "outputs": [
    {
     "name": "stdout",
     "output_type": "stream",
     "text": [
      "authors: Ulenikov, O. N., E. S. Bekhtereva, O. V. Gromova, K. B. Berezkin, V.-M. Horneman, C. Sydow, C. Maul, and S. Bauerecker\n",
      "title: First high resolution analysis of the 3ν<SUB>2</SUB> and 3ν<SUB>2</SUB> -ν<SUB>2</SUB> bands of <SUP>32</SUP>S<SUP>16</SUP>O<SUB>2</SUB>\n",
      "journal: Journal of Quantitative Spectroscopy and Radiative Transfer\n",
      "volume: 202\n",
      "start-page: 1\n",
      "end-page: 5\n",
      "year: 2017\n",
      "doi: 10.1016/j.jqsrt.2017.07.012\n",
      "bibcode: https://ui.adsabs.harvard.edu/abs/2017JQSRT.202....1U\n"
     ]
    }
   ],
   "source": [
    "authors = print('authors:', ref_json['authors'])\n",
    "print('title:', ref_json['title'])\n",
    "print('journal:', ref_json['journal'])\n",
    "print('volume:', ref_json['volume'])\n",
    "print('start-page:', ref_json['start-page'])\n",
    "print('end-page:', ref_json['end-page'])\n",
    "print('year:', ref_json['year'])\n",
    "print('doi:', ref_json['doi'])\n",
    "print('bibcode:', ref_json['bibcode'])"
   ]
  },
  {
   "cell_type": "markdown",
   "metadata": {},
   "source": [
    "<font color=green>After running the cell below and then the print cell you will recieve a BibTeX reference"
   ]
  },
  {
   "cell_type": "code",
   "execution_count": 30,
   "metadata": {},
   "outputs": [
    {
     "ename": "JSONDecodeError",
     "evalue": "Invalid \\escape: line 2 column 65 (char 101)",
     "output_type": "error",
     "traceback": [
      "\u001b[0;31m---------------------------------------------------------------------------\u001b[0m",
      "\u001b[0;31mJSONDecodeError\u001b[0m                           Traceback (most recent call last)",
      "\u001b[0;32m<ipython-input-30-fa1606a48397>\u001b[0m in \u001b[0;36m<module>\u001b[0;34m\u001b[0m\n\u001b[1;32m     18\u001b[0m                  data=json.dumps(payload))\n\u001b[1;32m     19\u001b[0m \u001b[0mresponse_json\u001b[0m \u001b[0;34m=\u001b[0m \u001b[0mr\u001b[0m\u001b[0;34m.\u001b[0m\u001b[0mjson\u001b[0m\u001b[0;34m(\u001b[0m\u001b[0;34m)\u001b[0m\u001b[0;34m\u001b[0m\u001b[0;34m\u001b[0m\u001b[0m\n\u001b[0;32m---> 20\u001b[0;31m \u001b[0mref_json\u001b[0m \u001b[0;34m=\u001b[0m \u001b[0mjson\u001b[0m\u001b[0;34m.\u001b[0m\u001b[0mloads\u001b[0m\u001b[0;34m(\u001b[0m\u001b[0mresponse_json\u001b[0m\u001b[0;34m[\u001b[0m\u001b[0;34m'export'\u001b[0m\u001b[0;34m]\u001b[0m\u001b[0;34m)\u001b[0m\u001b[0;34m[\u001b[0m\u001b[0;34m'ref_json'\u001b[0m\u001b[0;34m]\u001b[0m\u001b[0;34m\u001b[0m\u001b[0;34m\u001b[0m\u001b[0m\n\u001b[0m",
      "\u001b[0;32m~/anaconda/envs/pyref/lib/python3.6/json/__init__.py\u001b[0m in \u001b[0;36mloads\u001b[0;34m(s, encoding, cls, object_hook, parse_float, parse_int, parse_constant, object_pairs_hook, **kw)\u001b[0m\n\u001b[1;32m    352\u001b[0m             \u001b[0mparse_int\u001b[0m \u001b[0;32mis\u001b[0m \u001b[0;32mNone\u001b[0m \u001b[0;32mand\u001b[0m \u001b[0mparse_float\u001b[0m \u001b[0;32mis\u001b[0m \u001b[0;32mNone\u001b[0m \u001b[0;32mand\u001b[0m\u001b[0;34m\u001b[0m\u001b[0;34m\u001b[0m\u001b[0m\n\u001b[1;32m    353\u001b[0m             parse_constant is None and object_pairs_hook is None and not kw):\n\u001b[0;32m--> 354\u001b[0;31m         \u001b[0;32mreturn\u001b[0m \u001b[0m_default_decoder\u001b[0m\u001b[0;34m.\u001b[0m\u001b[0mdecode\u001b[0m\u001b[0;34m(\u001b[0m\u001b[0ms\u001b[0m\u001b[0;34m)\u001b[0m\u001b[0;34m\u001b[0m\u001b[0;34m\u001b[0m\u001b[0m\n\u001b[0m\u001b[1;32m    355\u001b[0m     \u001b[0;32mif\u001b[0m \u001b[0mcls\u001b[0m \u001b[0;32mis\u001b[0m \u001b[0;32mNone\u001b[0m\u001b[0;34m:\u001b[0m\u001b[0;34m\u001b[0m\u001b[0;34m\u001b[0m\u001b[0m\n\u001b[1;32m    356\u001b[0m         \u001b[0mcls\u001b[0m \u001b[0;34m=\u001b[0m \u001b[0mJSONDecoder\u001b[0m\u001b[0;34m\u001b[0m\u001b[0;34m\u001b[0m\u001b[0m\n",
      "\u001b[0;32m~/anaconda/envs/pyref/lib/python3.6/json/decoder.py\u001b[0m in \u001b[0;36mdecode\u001b[0;34m(self, s, _w)\u001b[0m\n\u001b[1;32m    337\u001b[0m \u001b[0;34m\u001b[0m\u001b[0m\n\u001b[1;32m    338\u001b[0m         \"\"\"\n\u001b[0;32m--> 339\u001b[0;31m         \u001b[0mobj\u001b[0m\u001b[0;34m,\u001b[0m \u001b[0mend\u001b[0m \u001b[0;34m=\u001b[0m \u001b[0mself\u001b[0m\u001b[0;34m.\u001b[0m\u001b[0mraw_decode\u001b[0m\u001b[0;34m(\u001b[0m\u001b[0ms\u001b[0m\u001b[0;34m,\u001b[0m \u001b[0midx\u001b[0m\u001b[0;34m=\u001b[0m\u001b[0m_w\u001b[0m\u001b[0;34m(\u001b[0m\u001b[0ms\u001b[0m\u001b[0;34m,\u001b[0m \u001b[0;36m0\u001b[0m\u001b[0;34m)\u001b[0m\u001b[0;34m.\u001b[0m\u001b[0mend\u001b[0m\u001b[0;34m(\u001b[0m\u001b[0;34m)\u001b[0m\u001b[0;34m)\u001b[0m\u001b[0;34m\u001b[0m\u001b[0;34m\u001b[0m\u001b[0m\n\u001b[0m\u001b[1;32m    340\u001b[0m         \u001b[0mend\u001b[0m \u001b[0;34m=\u001b[0m \u001b[0m_w\u001b[0m\u001b[0;34m(\u001b[0m\u001b[0ms\u001b[0m\u001b[0;34m,\u001b[0m \u001b[0mend\u001b[0m\u001b[0;34m)\u001b[0m\u001b[0;34m.\u001b[0m\u001b[0mend\u001b[0m\u001b[0;34m(\u001b[0m\u001b[0;34m)\u001b[0m\u001b[0;34m\u001b[0m\u001b[0;34m\u001b[0m\u001b[0m\n\u001b[1;32m    341\u001b[0m         \u001b[0;32mif\u001b[0m \u001b[0mend\u001b[0m \u001b[0;34m!=\u001b[0m \u001b[0mlen\u001b[0m\u001b[0;34m(\u001b[0m\u001b[0ms\u001b[0m\u001b[0;34m)\u001b[0m\u001b[0;34m:\u001b[0m\u001b[0;34m\u001b[0m\u001b[0;34m\u001b[0m\u001b[0m\n",
      "\u001b[0;32m~/anaconda/envs/pyref/lib/python3.6/json/decoder.py\u001b[0m in \u001b[0;36mraw_decode\u001b[0;34m(self, s, idx)\u001b[0m\n\u001b[1;32m    353\u001b[0m         \"\"\"\n\u001b[1;32m    354\u001b[0m         \u001b[0;32mtry\u001b[0m\u001b[0;34m:\u001b[0m\u001b[0;34m\u001b[0m\u001b[0;34m\u001b[0m\u001b[0m\n\u001b[0;32m--> 355\u001b[0;31m             \u001b[0mobj\u001b[0m\u001b[0;34m,\u001b[0m \u001b[0mend\u001b[0m \u001b[0;34m=\u001b[0m \u001b[0mself\u001b[0m\u001b[0;34m.\u001b[0m\u001b[0mscan_once\u001b[0m\u001b[0;34m(\u001b[0m\u001b[0ms\u001b[0m\u001b[0;34m,\u001b[0m \u001b[0midx\u001b[0m\u001b[0;34m)\u001b[0m\u001b[0;34m\u001b[0m\u001b[0;34m\u001b[0m\u001b[0m\n\u001b[0m\u001b[1;32m    356\u001b[0m         \u001b[0;32mexcept\u001b[0m \u001b[0mStopIteration\u001b[0m \u001b[0;32mas\u001b[0m \u001b[0merr\u001b[0m\u001b[0;34m:\u001b[0m\u001b[0;34m\u001b[0m\u001b[0;34m\u001b[0m\u001b[0m\n\u001b[1;32m    357\u001b[0m             \u001b[0;32mraise\u001b[0m \u001b[0mJSONDecodeError\u001b[0m\u001b[0;34m(\u001b[0m\u001b[0;34m\"Expecting value\"\u001b[0m\u001b[0;34m,\u001b[0m \u001b[0ms\u001b[0m\u001b[0;34m,\u001b[0m \u001b[0merr\u001b[0m\u001b[0;34m.\u001b[0m\u001b[0mvalue\u001b[0m\u001b[0;34m)\u001b[0m \u001b[0;32mfrom\u001b[0m \u001b[0;32mNone\u001b[0m\u001b[0;34m\u001b[0m\u001b[0;34m\u001b[0m\u001b[0m\n",
      "\u001b[0;31mJSONDecodeError\u001b[0m: Invalid \\escape: line 2 column 65 (char 101)"
     ]
    }
   ],
   "source": [
    "# BibTeX Reference\n",
    "payload = {\"bibcode\": [\"{}\".format(Bibcode)],\n",
    "           \"sort\": \"first_author asc\",\n",
    "           \"format\": \n",
    "           '''{\"ref_json\": {\"encoder\": \"%ZEncoding:latex\\\\bibitem\",\n",
    "              \"title\": \"%T\",\n",
    "              \"journal\": \"%J\",\n",
    "              \"volume\": \"%V\",\n",
    "              \"start-page\": \"%p\",\n",
    "              \"end-page\": \"%P\",\n",
    "              \"year\": %Y,\n",
    "              \"authors\": \"%I\",\n",
    "              \"doi\": \"%d\",\n",
    "              \"bibcode\": \"%u\"}}'''\n",
    "              }\n",
    "r = requests.post(\"https://api.adsabs.harvard.edu/v1/export/custom\", \\\n",
    "                 headers={\"Authorization\": \"Bearer \" + token, \"Content-type\": \"application/json\"}, \\\n",
    "                 data=json.dumps(payload))\n",
    "response_json = r.json()\n",
    "ref_json = json.loads(response_json['export'])['ref_json']"
   ]
  },
  {
   "cell_type": "code",
   "execution_count": null,
   "metadata": {},
   "outputs": [],
   "source": [
    "print('authors:', ref_json['authors'])\n",
    "print('title:', ref_json['title'])\n",
    "print('journal:', ref_json['journal'])\n",
    "print('volume:', ref_json['volume'])\n",
    "print('start-page:', ref_json['start-page'])\n",
    "print('end-page:', ref_json['end-page'])\n",
    "print('year:', ref_json['year'])\n",
    "print('doi:', ref_json['doi'])\n",
    "print('bibcode:', ref_json['bibcode'])"
   ]
  },
  {
   "cell_type": "markdown",
   "metadata": {},
   "source": [
    "<font color=green>After running the cell below and then the print cell you will recieve an HTML reference with the characters &, <, >, and “ converted to & amp; & lt; & gt; and & quot; respectively."
   ]
  },
  {
   "cell_type": "code",
   "execution_count": 17,
   "metadata": {},
   "outputs": [],
   "source": [
    "# HTML with the characters &, <, >, and “ are converted to &amp;, &lt;, &gt;, and &quot;, respectively.\n",
    "payload = {\"bibcode\": [\"{}\".format(Bibcode)],\n",
    "           \"sort\": \"first_author asc\",\n",
    "           \"format\": \n",
    "           '''{\"ref_json\": {\"encoder\": \"%ZEncoding:html<P>\",\n",
    "              \"authors\": \"%I\",\n",
    "              \"title\": \"%T\",\n",
    "              \"journal\": \"%J\",\n",
    "              \"volume\": \"%V\",\n",
    "              \"start-page\": \"%p\",\n",
    "              \"end-page\": \"%P\",\n",
    "              \"year\": %Y,\n",
    "              \"doi\": \"%d\",\n",
    "              \"bibcode\": \"%u\"}}'''\n",
    "              }\n",
    "r = requests.post(\"https://api.adsabs.harvard.edu/v1/export/custom\", \\\n",
    "                 headers={\"Authorization\": \"Bearer \" + token, \"Content-type\": \"application/json\"}, \\\n",
    "                 data=json.dumps(payload))\n",
    "response_json = r.json()\n",
    "ref_json = json.loads(response_json['export'])['ref_json']"
   ]
  },
  {
   "cell_type": "code",
   "execution_count": 31,
   "metadata": {},
   "outputs": [
    {
     "name": "stdout",
     "output_type": "stream",
     "text": [
      "authors: Ulenikov, O. N., E. S. Bekhtereva, O. V. Gromova, K. B. Berezkin, V.-M. Horneman, C. Sydow, C. Maul, and S. Bauerecker\n",
      "title: First high resolution analysis of the 3ν<SUB>2</SUB> and 3ν<SUB>2</SUB> -ν<SUB>2</SUB> bands of <SUP>32</SUP>S<SUP>16</SUP>O<SUB>2</SUB>\n",
      "journal: Journal of Quantitative Spectroscopy and Radiative Transfer\n",
      "volume: 202\n",
      "start-page: 1\n",
      "end-page: 5\n",
      "year: 2017\n",
      "doi: 10.1016/j.jqsrt.2017.07.012\n",
      "bibcode: https://ui.adsabs.harvard.edu/abs/2017JQSRT.202....1U\n"
     ]
    }
   ],
   "source": [
    "print('authors:', ref_json['authors'])\n",
    "print('title:', ref_json['title'])\n",
    "print('journal:', ref_json['journal'])\n",
    "print('volume:', ref_json['volume'])\n",
    "print('start-page:', ref_json['start-page'])\n",
    "print('end-page:', ref_json['end-page'])\n",
    "print('year:', ref_json['year'])\n",
    "print('doi:', ref_json['doi'])\n",
    "print('bibcode:', ref_json['bibcode'])"
   ]
  },
  {
   "cell_type": "markdown",
   "metadata": {},
   "source": [
    "## <font color=purple>Step 4. Urllib method\n",
    " <font color=purple>If you did not have a bibcode or you want a plain text reference then use this method "
   ]
  },
  {
   "cell_type": "code",
   "execution_count": 32,
   "metadata": {},
   "outputs": [
    {
     "name": "stdout",
     "output_type": "stream",
     "text": [
      "Authors: O. Ulenikov, E. Bekhtereva, O. Gromova, K. Berezkin, V. Horneman, C. Sydow, C. Maul, S. Bauerecker \n",
      "Title: First high resolution analysis of the 3ν2 and3ν2−ν2bands of 32S16O2 \n",
      "Journal: Journal of Quantitative Spectroscopy and Radiative Transfer \n",
      "Volume: 202 \n",
      "Year: 2017 \n",
      "Page Start: 1 \n",
      "Page End: 5 \n",
      "DOI: 10.1016/j.jqsrt.2017.07.012 \n",
      "URL: http://dx.doi.org/10.1016/j.jqsrt.2017.07.012 \n"
     ]
    }
   ],
   "source": [
    "#doi = input(\"Enter doi Here: \")\n",
    "doi_fetched = get_source_from_doi('{}'.format(doi))\n",
    "\n",
    "# Below are the parameters for searching your citation\n",
    "# if you would like to add or change anything then refer to the initial code above to make your changes\n",
    "reference = (doi_fetched[0],doi_fetched[1],doi_fetched[2],doi_fetched[3],doi_fetched[4],doi_fetched[5],doi_fetched[6],doi_fetched[7],doi_fetched[8])\n",
    "\n",
    "print ('Authors:', doi_fetched[0], '')\n",
    "print ('Title:', doi_fetched[1], '')\n",
    "print ('Journal:', doi_fetched[2], '')\n",
    "print ('Volume:', doi_fetched[3], '')\n",
    "print ('Year:', doi_fetched[4], '')\n",
    "print ('Page Start:', doi_fetched[5], '')\n",
    "print ('Page End:', doi_fetched[6], '')\n",
    "print ('DOI:', doi_fetched[7], '')\n",
    "print ('URL:', doi_fetched[8], '')"
   ]
  },
  {
   "cell_type": "markdown",
   "metadata": {},
   "source": [
    "## <font color=teal>Step 5. Encoding JSON in HTML <br>\n",
    "<font color=teal>Reference is populated from the Urllib Method"
   ]
  },
  {
   "cell_type": "code",
   "execution_count": 20,
   "metadata": {},
   "outputs": [
    {
     "name": "stdout",
     "output_type": "stream",
     "text": [
      "('Y. Lin, A. V. Akimov', 'Dependence of Nonadiabatic Couplings with Kohn–Sham Orbitals on the Choice of Density Functional: Pure vs Hybrid', 'The Journal of Physical Chemistry A', '120', 2016, '9028', '9041', '10.1021/acs.jpca.6b09660', 'http://dx.doi.org/10.1021/acs.jpca.6b09660')\n"
     ]
    }
   ],
   "source": [
    "# This will give you a plain text reference with no html codes\n",
    "def escape2(s, quote=True):\n",
    "    s = s.replace(\"}$\", \"</SUP>\")\n",
    "    s = s.replace(\"$^{\", \"<SUP>\") \n",
    "    s = s.replace(\"{\", \"\")\n",
    "    s = s.replace(\"}\", \"\")\n",
    "    s = s.replace(\"\\\"\", \"\")\n",
    "    #s = s.replace(\"'\", \"\")\n",
    "    s = s.replace(\"''\", \"\")\n",
    "    #s = s.replace(\" \", \"\")\n",
    "    s = s.replace(\",,\", \"\")\n",
    "    s = s.replace(\", ,\", \"\")\n",
    "    return s\n",
    "print(escape2(\"{}\".format(reference)))"
   ]
  },
  {
   "cell_type": "code",
   "execution_count": 13,
   "metadata": {},
   "outputs": [
    {
     "data": {
      "text/plain": [
       "'(&#x27;S. Bin Zhang, D. L. Yeager&#x27;, &quot;Complex-scaled multireference configuration-interaction method to study Be and Be-like cations&#x27; (B, C, N, O, Mg) Auger resonances1s2s22p1,3Po&quot;, &#x27;Physical Review A&#x27;, &#x27;85&#x27;, 2012, &#x27;&#x27;, &#x27;&#x27;, &#x27;10.1103/physreva.85.032515&#x27;, &#x27;http://dx.doi.org/10.1103/PhysRevA.85.032515&#x27;)'"
      ]
     },
     "execution_count": 13,
     "metadata": {},
     "output_type": "execute_result"
    }
   ],
   "source": [
    "# I am populating our output from the urllib method\n",
    "# This will replace (\"\"\"& < \" '> \"\"\" ) with (&amp; &lt; &quot; &#x27; &gt;)\n",
    "s = html.escape( \"\"\"& < \" '> \"\"\" ) \n",
    "html.escape(s) #(s, quote=True)\n",
    "html.escape(\"{}\".format(reference))"
   ]
  },
  {
   "cell_type": "markdown",
   "metadata": {},
   "source": [
    "## <font color=maroon>Step 6. BibTeX citation</font>"
   ]
  },
  {
   "cell_type": "code",
   "execution_count": 21,
   "metadata": {},
   "outputs": [],
   "source": [
    "\"\"\"Library to query Google Scholar.\n",
    "Call the method query with a string which contains the full search\n",
    "string. Query will return a list of citations.\n",
    "\"\"\"\n",
    "\n",
    "GOOGLE_SCHOLAR_URL = \"https://scholar.google.com\"\n",
    "HEADERS = {'User-Agent': 'Mozilla/5.0'}\n",
    "\n",
    "FORMAT_BIBTEX = 4\n",
    "FORMAT_ENDNOTE = 3\n",
    "FORMAT_REFMAN = 2\n",
    "FORMAT_WENXIANWANG = 5\n",
    "\n",
    "\n",
    "logger = logging.getLogger(__name__)\n",
    "\n",
    "# we are using query in our code\n",
    "def query(searchstr, outformat=FORMAT_BIBTEX, allresults=False):\n",
    "    \"\"\"Query google scholar.\n",
    "    This method queries google scholar and returns a list of citations.\n",
    "    Parameters\n",
    "    ----------\n",
    "    searchstr : str\n",
    "        the query\n",
    "    outformat : int, optional\n",
    "        the output format of the citations. Default is bibtex.\n",
    "    allresults : bool, optional\n",
    "        return all results or only the first (i.e. best one)\n",
    "    Returns\n",
    "    -------\n",
    "    result : list of strings\n",
    "        the list with citations\n",
    "    \"\"\"\n",
    "    logger.debug(\"Query: {sstring}\".format(sstring=searchstr))\n",
    "    searchstr = '/scholar?q='+quote(searchstr)\n",
    "    url = GOOGLE_SCHOLAR_URL + searchstr\n",
    "    header = HEADERS\n",
    "    header['Cookie'] = \"GSP=CF=%d\" % outformat\n",
    "    request = Request(url, headers=header)\n",
    "    response = urlopen(request)\n",
    "    html = response.read()\n",
    "    html = html.decode('utf8')\n",
    "    # grab the links\n",
    "    tmp = get_links(html, outformat)\n",
    "\n",
    "    # follow the bibtex links to get the bibtex entries\n",
    "    result = list()\n",
    "    if not allresults:\n",
    "        tmp = tmp[:1]\n",
    "    for link in tmp:\n",
    "        url = GOOGLE_SCHOLAR_URL+link\n",
    "        request = Request(url, headers=header)\n",
    "        response = urlopen(request)\n",
    "        bib = response.read()\n",
    "        bib = bib.decode('utf8')\n",
    "        result.append(bib)\n",
    "    return result\n",
    "\n",
    "def get_links(html, outformat):\n",
    "    \"\"\"Return a list of reference links from the html.\n",
    "    Parameters\n",
    "    ----------\n",
    "    html : str\n",
    "    outformat : int\n",
    "        the output format of the citations\n",
    "    Returns\n",
    "    -------\n",
    "    List[str]\n",
    "        the links to the references\n",
    "    \"\"\"\n",
    "    if outformat == FORMAT_BIBTEX:\n",
    "        refre = re.compile(r'<a href=\"https://scholar.googleusercontent.com(/scholar\\.bib\\?[^\"]*)')\n",
    "    elif outformat == FORMAT_ENDNOTE:\n",
    "        refre = re.compile(r'<a href=\"https://scholar.googleusercontent.com(/scholar\\.enw\\?[^\"]*)\"')\n",
    "    elif outformat == FORMAT_REFMAN:\n",
    "        refre = re.compile(r'<a href=\"https://scholar.googleusercontent.com(/scholar\\.ris\\?[^\"]*)\"')\n",
    "    elif outformat == FORMAT_WENXIANWANG:\n",
    "        refre = re.compile(r'<a href=\"https://scholar.googleusercontent.com(/scholar\\.ral\\?[^\"]*)\"')\n",
    "    reflist = refre.findall(html)\n",
    "    # escape html entities\n",
    "    reflist = [re.sub('&(%s);' % '|'.join(name2codepoint), lambda m:\n",
    "                      chr(name2codepoint[m.group(1)]), s) for s in reflist]\n",
    "    return reflist"
   ]
  },
  {
   "cell_type": "code",
   "execution_count": 23,
   "metadata": {},
   "outputs": [],
   "source": [
    "class Bibtex(object):\n",
    "    \"\"\" Convert doi number to bibtex entries.\"\"\"\n",
    "    def __init__(self, doi=None, title=None):\n",
    "        \"\"\"\n",
    "        Input doi number ou title (actually any text/keyword.)\n",
    "        Returns doi, encoded doi, and doi url or just the title.\n",
    "        \"\"\"\n",
    "        _base_url = \"http://dx.doi.org/\"\n",
    "        self.doi = doi\n",
    "        self.title = title\n",
    "        self.bibtex = None\n",
    "        #if doi:\n",
    "            #self._edoi = parse.quote(doi)\n",
    "            #self.url = _base_url + self._edoi  # Encoded doi.\n",
    "        #else:\n",
    "            #self.url = None\n",
    "# Beautiful Soup is a Python library for pulling data out of HTML and XML files\n",
    "    def _soupfy(self, url):\n",
    "        \"\"\"Returns a soup object.\"\"\"\n",
    "        html = request.urlopen(url).read()\n",
    "        self.soup = BeautifulSoup(html, 'html.parser')\n",
    "        return self.soup\n",
    "    \n",
    "    \n",
    "    def getGScholar(self):\n",
    "        \"\"\"Get bibtex entry from doi using Google database.\"\"\"\n",
    "        bib = query(self.doi, 4)[0]\n",
    "        bib = bib.split('\\n') \n",
    "        self.bibtex = '\\n'.join(bib[0:-1]) #-9\n",
    "        return self.bibtex\n",
    "\n",
    "def main(argv=None):\n",
    "    if argv is None:\n",
    "        argv = sys.argv\n",
    "\n",
    "    #args = parse_args(argv[1:])\n",
    "\n",
    "    doi = args.positional\n",
    "    method = args.method\n",
    "\n",
    "    def allfailed():\n",
    "        \"\"\"All failed message+google try.\"\"\"\n",
    "        bold, reset = \"\\033[1m\", \"\\033[0;0m\"\n",
    "        bib.getGScholar()\n",
    "        url = bold + bib.url + reset\n",
    "        msg = \"\"\"Unable to resolve this DOI using database\n",
    "        \\nTry opening, \\n\\t{0}\\nand download it manually.\n",
    "        \\n...or if you are lucky check the Google Scholar search below:\n",
    "        \\n{1}\n",
    "        \"\"\".format(url, bib.bibtex)\n",
    "        return msg\n",
    "\n",
    "    bib = Bibtex(doi=doi)"
   ]
  },
  {
   "cell_type": "code",
   "execution_count": 24,
   "metadata": {},
   "outputs": [
    {
     "name": "stdout",
     "output_type": "stream",
     "text": [
      "@article{lin2016dependence,\n",
      "  title={Dependence of Nonadiabatic Couplings with Kohn--Sham Orbitals on the Choice of Density Functional: Pure vs Hybrid},\n",
      "  author={Lin, Yuhan and Akimov, Alexey V},\n",
      "  journal={The Journal of Physical Chemistry A},\n",
      "  volume={120},\n",
      "  number={45},\n",
      "  pages={9028--9041},\n",
      "  year={2016},\n",
      "  publisher={ACS Publications}\n",
      "}\n"
     ]
    }
   ],
   "source": [
    "doi = '{}'.format(doi)       \n",
    "bib = Bibtex(doi)\n",
    "bib = bib.getGScholar()\n",
    "print(bib)"
   ]
  },
  {
   "cell_type": "markdown",
   "metadata": {},
   "source": [
    "#  <font color=orange> Authors List Fix\n",
    "<font color=orange>This last part is in case you would like to change the authors list generated from ADS. ADS provides many options for formatting the authors list but HITRAN has a specific format that ADS does not provide. The next cell fixes the first name from the ADS output to what HITRAN uses"
   ]
  },
  {
   "cell_type": "code",
   "execution_count": 25,
   "metadata": {},
   "outputs": [
    {
     "name": "stdout",
     "output_type": "stream",
     "text": [
      "Enter First Author Name Here: Akimov, Alexey V\n",
      " Alexey V Akimov\n"
     ]
    }
   ],
   "source": [
    "#s = \"de Ghellinck d'Elseghem Vaernewijck, X.\"\n",
    "#s = \"Zhang, S. B.\"\n",
    "#s = \"Zhang-Zow, Sh.\"\n",
    "s = input(\"Enter First Author Name Here: \")\n",
    "words = s.split(',') \n",
    "string =[] \n",
    "for word in words: \n",
    "    string.insert(-1, word) \n",
    "print(\" \".join(string)) "
   ]
  },
  {
   "cell_type": "code",
   "execution_count": null,
   "metadata": {},
   "outputs": [],
   "source": []
  }
 ],
 "metadata": {
  "kernelspec": {
   "display_name": "Python 3",
   "language": "python",
   "name": "python3"
  },
  "language_info": {
   "codemirror_mode": {
    "name": "ipython",
    "version": 3
   },
   "file_extension": ".py",
   "mimetype": "text/x-python",
   "name": "python",
   "nbconvert_exporter": "python",
   "pygments_lexer": "ipython3",
   "version": "3.6.9"
  }
 },
 "nbformat": 4,
 "nbformat_minor": 2
}
