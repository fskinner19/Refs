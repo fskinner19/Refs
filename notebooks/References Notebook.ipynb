{
 "cells": [
  {
   "cell_type": "markdown",
   "metadata": {},
   "source": [
    "Copyright 2019 Frances M. Skinner\n",
    "SPDX-License-Identifier: Apache-2.0\n",
    "\n",
    "Licensed under the Apache License, Version 2.0 (the \"License\");\n",
    "you may not use this file except in compliance with the License.\n",
    "You may obtain a copy of the License at\n",
    "\n",
    "    https://www.apache.org/licenses/LICENSE-2.0\n",
    "\n",
    "Unless required by applicable law or agreed to in writing, software\n",
    "distributed under the License is distributed on an \"AS IS\" BASIS,\n",
    "WITHOUT WARRANTIES OR CONDITIONS OF ANY KIND, either express or implied.\n",
    "See the License for the specific language governing permissions and\n",
    "limitations under the License."
   ]
  },
  {
   "cell_type": "markdown",
   "metadata": {},
   "source": [
    "## <font color=mediumpurple>Before Doing Anything, Import the Necessary Modules"
   ]
  },
  {
   "cell_type": "code",
   "execution_count": 38,
   "metadata": {},
   "outputs": [],
   "source": [
    "# Import these modules\n",
    "# Step 2 Bibcode\n",
    "import requests\n",
    "import json\n",
    "# ADS\n",
    "# Step 4 urllib\n",
    "import urllib.request\n",
    "from urllib.error import HTTPError\n",
    "#Step 5 html encoder\n",
    "import html\n",
    "# Step 6 bibtex\n",
    "import re\n",
    "import logging\n",
    "from bs4 import BeautifulSoup  \n",
    "from html.entities import name2codepoint  \n",
    "from urllib.request import quote, Request, urlopen"
   ]
  },
  {
   "cell_type": "markdown",
   "metadata": {},
   "source": [
    "# **A Guide to creating citations using only a DOI**\n",
    "*Note: This Notebook seeks to retrieve citations for papers as 3 outputs; JSON, BibTeX and HTML. The citations in this notebook are retrieving the following information on a paper: Title, Authors, Journal Name, Volume Number, Page Range, Year, Hyperlink(s) to the Article and DOI of the Article. If you are looking for more detailed citations or other outputs then please refer to step 3 after completing steps 1 & 2!*\n",
    "\n",
    "<font color=blue>Step 1. Get DOI of the paper you want to cite</font> <br>\n",
    "<font color=red>Step 2. Use DOI to search for the Bibcode -- Enter DOI in prompt provided -- Output will be the Bibcode for the paper</font> <br>\n",
    "<font color=green>Step 3. The Bibcode will automatically be populated for you to search in ADS method. The Output is customizable, all formats possible. This method includes links to paper by DOI url & ADS url</font> <br>\n",
    "<font color=magenta>Note. (This May Happen to Some Users) Error! My paper was not in ADS! There is no Bibcode for the paper! -- If there is no Bibcode then please Move to Step 4</font> <br>\n",
    "<font color=purple>Step 4. Use DOI to search in Urllib method -- your DOI is already populated from step 1 in Urllib Method -- Output will be the full citation as a plain text/JSON output. Output is customizable as HTML through Step 5, or in BibTeX format through Step 6</font> <br>\n",
    "<font color=teal>Step 5. The full JSON output will be populated from the Urllib method to encode it as HTML</font> <br>\n",
    "<font color=maroon>Step 6. The DOI is already populated and you will recieve the full BibTeX citation for the paper using the GScholar Method</font> <br>\n",
    "\n",
    "### *All Done!* Now you have the citation for your paper in 3 different formats!"
   ]
  },
  {
   "cell_type": "markdown",
   "metadata": {},
   "source": [
    "## <font color=blue>Step 1.</font>\n",
    "\n",
    "<font color=blue>You can retrieve the DOI for your paper in many different ways.\n",
    "1. The DOI is a unique alphanumeric string assigned by the International DOI Foundation, to identify content and provide a persistent link to its location on the Internet. It is written in the general format of '10.1000/xyz123'\n",
    "2. The DOI should be written on the top left or top right corner of your paper, it is written as 'DOI:10.1000/xyz123'\n",
    "3. The DOI should be listed in the details or citation section on the publishers website where you have found your paper\n",
    "4. The DOI may also be written as a link, next to the papers information on the publishers website, the link is written as https://doi.org/10.1000/xyz123 or https://dx.doi.org/10.1000/xyz123\n",
    "5. In order to use this notebook please type in \"ENTER HERE\" spots the DOI in the '10.1000/xyz123' format, *NOT* as hyperlink</font>"
   ]
  },
  {
   "cell_type": "code",
   "execution_count": 39,
   "metadata": {},
   "outputs": [],
   "source": [
    "# Enter your token here: You need this for using step 2 and 3\n",
    "# A token can only be used once you have an account on NASA/ADS https://ui.adsabs.harvard.edu/. \n",
    "# Once you have an account click on 'Account', then click on 'Customize Settings' on the dropdown menu. \n",
    "# In 'Customize Settings' there is a panel to the left of the screen, if you scroll down that panel you will see 'API Token'. \n",
    "# Click on 'API Token' and then click on 'generate a new key'.\n",
    "# you can also enter your token in the local settings and Import ADS_TOKEN from local_settings\n",
    "token=\"gx43LyUuTTD0zoTWx8qKpWbWi3euTmx7FCM3fJjY\""
   ]
  },
  {
   "cell_type": "markdown",
   "metadata": {},
   "source": [
    "## <font color=red>Step 2. Retrive Bibcode</font> "
   ]
  },
  {
   "cell_type": "code",
   "execution_count": 99,
   "metadata": {},
   "outputs": [
    {
     "name": "stdout",
     "output_type": "stream",
     "text": [
      "Enter DOI Here: 10.1016/j.jqsrt.2019.04.040\n",
      "2019JQSRT.232...35H\n"
     ]
    }
   ],
   "source": [
    "def get_citeproc_authors(cpd_author):\n",
    "    if cpd_author is None:\n",
    "        return None\n",
    "    names = []\n",
    "    for author in cpd_author:\n",
    "        try:\n",
    "            family = author['family'].title()\n",
    "        except KeyError:\n",
    "            name = author['name']\n",
    "            names.append(name)\n",
    "            continue\n",
    "        try:\n",
    "            given = author['given']\n",
    "        except KeyError:\n",
    "            # This author has first name\n",
    "            names.append(family)\n",
    "            continue\n",
    "        initials = given.split()\n",
    "        initials[0] = '{}.'.format(initials[0][0])\n",
    "        initials = ' '.join(initials)\n",
    "        names.append('{} {}'.format(initials, family))\n",
    "    return ', '.join(names)\n",
    "def parse_citeproc_json(citeproc_json):\n",
    "    \"\"\"Parse the provided JSON into a Ref object.\"\"\"\n",
    "    \n",
    "    cpd = json.loads(citeproc_json)\n",
    "    try:\n",
    "        if cpd['type'] != 'article-journal':\n",
    "            return None\n",
    "    except KeyError:\n",
    "        return None\n",
    "    authors = get_citeproc_authors(cpd.get('author', ''))\n",
    "    title = cpd.get('title', '').replace('\\n', '')\n",
    "    journal = cpd.get('container-title', '')\n",
    "    volume = cpd.get('volume', '')\n",
    "    page_start, page_end = cpd.get('page', ''), ''\n",
    "    if page_start and '-' in page_start:\n",
    "        page_start, page_end = page_start.split('-')\n",
    "    article_number = cpd.get('article-number', '')\n",
    "    doi = cpd.get('DOI', '')\n",
    "    url = cpd.get('URL', '')\n",
    "    try:\n",
    "        year = cpd['issued']['date-parts'][0][0]\n",
    "    except (KeyError, IndexError):\n",
    "        year = None        \n",
    "    try:\n",
    "        bibcode = cpd.get('bibcode', '')\n",
    "    except (KeyError, IndexError):\n",
    "        bibcode = None        \n",
    "# # =============================================================================\n",
    "# #   OUTPUT\n",
    "# # =============================================================================\n",
    "    ref = [authors, \n",
    "        title, \n",
    "        journal, \n",
    "        volume,\n",
    "        year, \n",
    "        page_start, \n",
    "        page_end, \n",
    "        doi,\n",
    "        url, \n",
    "        article_number,\n",
    "        citeproc_json]\n",
    "    return ref \n",
    "def get_citeproc_json_from_doi(doi):\n",
    "    base_url = 'http://dx.doi.org/'\n",
    "    url = base_url + doi\n",
    "    req = urllib.request.Request(url)\n",
    "    req.add_header('Accept', 'application/citeproc+json')\n",
    "    try:\n",
    "        with urllib.request.urlopen(req) as f:\n",
    "            citeproc_json = f.read().decode()\n",
    "    except HTTPError as e:\n",
    "        if e.code == 404:\n",
    "            raise ValueError('DOI not found.')\n",
    "        raise\n",
    "    return citeproc_json\n",
    "def get_source_from_doi(doi):\n",
    "    citeproc_json = get_citeproc_json_from_doi(doi)\n",
    "    ref = parse_citeproc_json(citeproc_json)\n",
    "    return ref\n",
    "doi = input(\"Enter DOI Here: \")\n",
    "doi_fetched = get_source_from_doi(doi)\n",
    "rdoi = doi\n",
    "rdoi_bs = rdoi.replace(\"\\\\\", \"%2F\")    # Remove backslash and replace with URL code for backslash\n",
    "rdoi_fs = rdoi_bs.replace(\"/\", \"%2F\")  # Remove forwardslash and replace with URL code for backslash\n",
    "rurl = requests.get(\"https://api.adsabs.harvard.edu/v1/search/query?q=doi:\"+rdoi_fs,\\\n",
    "                 params={\"q\":\"*:*\", \"fl\": \"*\", \"rows\":2000},\n",
    "                 headers={'Authorization': 'Bearer ' + token})\n",
    "todos          = json.loads(rurl.text)\n",
    "todos_response = todos.get('response', '')\n",
    "Bibcode =  (todos_response['docs'][0]['bibcode']) \n",
    "print(Bibcode)"
   ]
  },
  {
   "cell_type": "markdown",
   "metadata": {},
   "source": [
    "## <font color=green>Step 3. ADS Method</font>"
   ]
  },
  {
   "cell_type": "markdown",
   "metadata": {},
   "source": [
    "### <font color=green>Note before using ADS Method</font>\n",
    "  1. Exporting using bibcodes require two things.\n",
    "       - A Bibcode Number (which you got from step 2)<br>\n",
    "       - A Token--You will need to know what a Token is. It must be used whenever you want to access the ADS database. A token can only be used once you have an account on NASA/ADS https://ui.adsabs.harvard.edu/. Once you have an account click on 'Account' in the top right hand corner, then click on 'Customize Settings' on the dropdown menu. In 'Customize Settings' there is a panel to the left of the screen, if you scroll down that panel you will see 'API Token'. Click on 'API Token' and then click on 'generate a new key'. <br>\n",
    "         - You are technically using ADS's API when you are using this method. So for any questions/concerns please refer to the NASA/ADS API Information tool on GitHub https://github.com/adsabs/adsabs-dev-api#access-settings <br>\n",
    "  2. The benefits of this method are the endless choices to customize your citation output.\n",
    "     - You can get more information such as... the abstract, copyright, citation count, author affiliation, keywords, publication category and arXiv e-print number, etc.<br>\n",
    "     - You can search more than 1 bibcode at a time<br>\n",
    "     - You have more output options such as... EndNote, ProCite, RIS (Refman), RefWorks, MEDLARS, AASTeX, Icarus, MNRAS, Solar Physics (SoPh), DC (Dublin Core) XML, REF-XML, REFABS-XML, VOTables and RSS<br>\n",
    "     - This notebook does not display examples of all of these output format options, if you are interested in any of these choices or extra features please refer to http://adsabs.github.io/help/actions/export <br>\n",
    "  3. The first option is to retrieve a citation where the output is in JSON format<br>\n",
    "  4. The second option is to retrieve a citation where the output is in html format<br>\n",
    "  6. The third option is to retrieve a citation where the output is in LaTeX format</font>\n",
    "  \n",
    "*<font color=green>Overall you need to make an account on ADS in order to use this method. </font>*\n",
    "\n",
    "*<font color=green>If you do not want to make an account then use the BibTeX citation from step 6 and if you want, use steps 4 & 5 to retrieve html and JSON citation formats, in steps 4 & 5 you only need to enter the DOI to retrieve citations </font>*\n",
    "\n",
    "*<font color=green>However there are many benefits to using the ADS method, your citation output is completely customizable! So if your willing and you have your Bibcode then its recommended to use this method!</font>*"
   ]
  },
  {
   "cell_type": "markdown",
   "metadata": {},
   "source": [
    "<font color=green>After running the cell below and then the print cell you will recieve an HTML reference with the characters &, <, >, and “ included"
   ]
  },
  {
   "cell_type": "code",
   "execution_count": 100,
   "metadata": {},
   "outputs": [
    {
     "name": "stdout",
     "output_type": "stream",
     "text": [
      "authors: Hargreaves, R. J., I. E. Gordon, L. S. Rothman, S. A. Tashkun, V. I. Perevalov, A. A. Lukashevskaya, S. N. Yurchenko, J. Tennyson, and H. S. P. Müller\n",
      "title: Spectroscopic line parameters of NO, NO<SUB>2</SUB>, and N<SUB>2</SUB>O for the HITEMP database\n",
      "journal: Journal of Quantitative Spectroscopy and Radiative Transfer\n",
      "volume: 232\n",
      "start-page: 35\n",
      "end-page: 53\n",
      "year: 2019\n",
      "doi: 10.1016/j.jqsrt.2019.04.040\n",
      "bibcode: https://ui.adsabs.harvard.edu/abs/2019JQSRT.232...35H\n"
     ]
    }
   ],
   "source": [
    "# HTML with the characters &, <, >, and “ included\n",
    "payload = {\"bibcode\": [\"{}\".format(Bibcode)], # 2012PhRvA..85c2515Z\n",
    "           \"sort\": \"first_author asc\",\n",
    "           \"format\":\n",
    "           '''{\"ref_json\": {\"authors\": \"%I\",\n",
    "              \"title\": \"%T\",\n",
    "              \"journal\": \"%J\",\n",
    "              \"volume\": \"%V\",\n",
    "              \"start-page\": \"%p\",\n",
    "              \"end-page\": \"%P\",\n",
    "              \"year\": %Y,\n",
    "              \"doi\": \"%d\",\n",
    "              \"bibcode\": \"%u\"}}'''\n",
    "              }\n",
    "r = requests.post(\"https://api.adsabs.harvard.edu/v1/export/custom\", \\\n",
    "                 headers={\"Authorization\": \"Bearer \" + token, \"Content-type\": \"application/json\"}, \\\n",
    "                 data=json.dumps(payload))\n",
    "response_json = r.json()\n",
    "ref_json = json.loads(response_json['export'])['ref_json']\n",
    "print('authors:', ref_json['authors'])\n",
    "print('title:', ref_json['title'])\n",
    "print('journal:', ref_json['journal'])\n",
    "print('volume:', ref_json['volume'])\n",
    "print('start-page:', ref_json['start-page'])\n",
    "print('end-page:', ref_json['end-page'])\n",
    "print('year:', ref_json['year'])\n",
    "print('doi:', ref_json['doi'])\n",
    "print('bibcode:', ref_json['bibcode'])"
   ]
  },
  {
   "cell_type": "markdown",
   "metadata": {},
   "source": [
    "<font color=green>After running the cell below and then the print cell you will recieve a BibTeX reference"
   ]
  },
  {
   "cell_type": "code",
   "execution_count": 101,
   "metadata": {},
   "outputs": [
    {
     "name": "stdout",
     "output_type": "stream",
     "text": [
      "authors: Hargreaves, R.~J., I.~E. Gordon, L.~S. Rothman, S.~A. Tashkun, V.~I. Perevalov, A.~A. Lukashevskaya, S.~N. Yurchenko, J. Tennyson, and H.~S.~P. M{\"u}ller\n",
      "title: Spectroscopic line parameters of NO, NO$_{2}$, and N$_{2}$O for the HITEMP database\n",
      "journal: Journal of Quantitative Spectroscopy and Radiative Transfer\n",
      "volume: 232\n",
      "start-page: 35\n",
      "end-page: 53\n",
      "year: 2019\n",
      "doi: 10.1016/j.jqsrt.2019.04.040\n",
      "bibcode: https://ui.adsabs.harvard.edu/abs/2019JQSRT.232...35H\n"
     ]
    }
   ],
   "source": [
    "# BibTeX Reference\n",
    "payload = {\"bibcode\": [\"{}\".format(Bibcode)],\n",
    "           \"sort\": \"first_author asc\",\n",
    "           \"format\": \n",
    "           '''{\"ref_json\": {\"encoder\": \"%ZEncoding:latex\\\\bibitem\",\n",
    "              \"journal\": \"%J\",\n",
    "              \"title\": \"%T\",\n",
    "              \"volume\": \"%V\",\n",
    "              \"start-page\": \"%p\",\n",
    "              \"end-page\": \"%P\",\n",
    "              \"year\": %Y,\n",
    "              \"authors\": \"%I\",\n",
    "              \"doi\": \"%d\",\n",
    "              \"bibcode\": \"%u\"}}'''\n",
    "              }\n",
    "r = requests.post(\"https://api.adsabs.harvard.edu/v1/export/custom\", \\\n",
    "                 headers={\"Authorization\": \"Bearer \" + token, \"Content-type\": \"application/json\"}, \\\n",
    "                 data=json.dumps(payload))\n",
    "response_json = r.json() \n",
    "ref_json = json.loads(response_json['export'])['ref_json']\n",
    "print('authors:', ref_json['authors'])\n",
    "print('title:', ref_json['title'])\n",
    "print('journal:', ref_json['journal'])\n",
    "print('volume:', ref_json['volume'])\n",
    "print('start-page:', ref_json['start-page'])\n",
    "print('end-page:', ref_json['end-page'])\n",
    "print('year:', ref_json['year'])\n",
    "print('doi:', ref_json['doi'])\n",
    "print('bibcode:', ref_json['bibcode'])"
   ]
  },
  {
   "cell_type": "markdown",
   "metadata": {},
   "source": [
    "<font color=green>After running the cell below and then the print cell you will recieve an HTML reference with the characters &, <, >, and “ converted to & amp; & lt; & gt; and & quot; respectively."
   ]
  },
  {
   "cell_type": "code",
   "execution_count": 102,
   "metadata": {},
   "outputs": [
    {
     "name": "stdout",
     "output_type": "stream",
     "text": [
      "authors: Hargreaves, R. J., I. E. Gordon, L. S. Rothman, S. A. Tashkun, V. I. Perevalov, A. A. Lukashevskaya, S. N. Yurchenko, J. Tennyson, and H. S. P. Müller\n",
      "title: Spectroscopic line parameters of NO, NO&lt;SUB&gt;2&lt;/SUB&gt;, and N&lt;SUB&gt;2&lt;/SUB&gt;O for the HITEMP database\n",
      "journal: Journal of Quantitative Spectroscopy and Radiative Transfer\n",
      "volume: 232\n",
      "start-page: 35\n",
      "end-page: 53\n",
      "year: 2019\n",
      "doi: 10.1016/j.jqsrt.2019.04.040\n",
      "bibcode: https://ui.adsabs.harvard.edu/abs/2019JQSRT.232...35H\n"
     ]
    }
   ],
   "source": [
    "# HTML with the characters &, <, >, and “ are converted to &amp;, &lt;, &gt;, and &quot;, respectively.\n",
    "payload = {\"bibcode\": [\"{}\".format(Bibcode)],\n",
    "           \"sort\": \"first_author asc\",\n",
    "           \"format\": \n",
    "           '''{\"ref_json\": {\"encoder\": \"%ZEncoding:html<P>\",\n",
    "              \"authors\": \"%I\",\n",
    "              \"title\": \"%T\",\n",
    "              \"journal\": \"%J\",\n",
    "              \"volume\": \"%V\",\n",
    "              \"start-page\": \"%p\",\n",
    "              \"end-page\": \"%P\",\n",
    "              \"year\": %Y,\n",
    "              \"doi\": \"%d\",\n",
    "              \"bibcode\": \"%u\"}}'''\n",
    "              }\n",
    "r = requests.post(\"https://api.adsabs.harvard.edu/v1/export/custom\", \\\n",
    "                 headers={\"Authorization\": \"Bearer \" + token, \"Content-type\": \"application/json\"}, \\\n",
    "                 data=json.dumps(payload))\n",
    "response_json = r.json()\n",
    "ref_json = json.loads(response_json['export'])['ref_json']\n",
    "print('authors:', ref_json['authors'])\n",
    "print('title:', ref_json['title'])\n",
    "print('journal:', ref_json['journal'])\n",
    "print('volume:', ref_json['volume'])\n",
    "print('start-page:', ref_json['start-page'])\n",
    "print('end-page:', ref_json['end-page'])\n",
    "print('year:', ref_json['year'])\n",
    "print('doi:', ref_json['doi'])\n",
    "print('bibcode:', ref_json['bibcode'])"
   ]
  },
  {
   "cell_type": "markdown",
   "metadata": {},
   "source": [
    "## <font color=purple>Step 4. Urllib method\n",
    " <font color=purple>If you did not have a bibcode or you want a plain text reference then use this method "
   ]
  },
  {
   "cell_type": "code",
   "execution_count": 103,
   "metadata": {},
   "outputs": [
    {
     "name": "stdout",
     "output_type": "stream",
     "text": [
      "Authors: R. J. Hargreaves, I. E. Gordon, L. S. Rothman, S. A. Tashkun, V. I. Perevalov, A. A. Lukashevskaya, S. N. Yurchenko, J. Tennyson, H. S.P. Müller \n",
      "Title: Spectroscopic line parameters of NO, NO2, and N2O for the HITEMP database \n",
      "Journal: Journal of Quantitative Spectroscopy and Radiative Transfer \n",
      "Volume: 232 \n",
      "Year: 2019 \n",
      "Page Start: 35 \n",
      "Page End: 53 \n",
      "Article Number:  \n",
      "DOI: 10.1016/j.jqsrt.2019.04.040 \n",
      "URL: http://dx.doi.org/10.1016/j.jqsrt.2019.04.040 \n"
     ]
    }
   ],
   "source": [
    "#doi = input(\"Enter doi Here: \")\n",
    "doi_fetched = get_source_from_doi('{}'.format(doi))\n",
    "\n",
    "# Below are the parameters for searching your citation\n",
    "# if you would like to add or change anything then refer to the initial code above to make your changes\n",
    "reference = (doi_fetched[0],doi_fetched[1],doi_fetched[2],doi_fetched[3],doi_fetched[4],doi_fetched[5],doi_fetched[6],doi_fetched[7],doi_fetched[8],doi_fetched[9])\n",
    "\n",
    "print ('Authors:', doi_fetched[0], '')\n",
    "print ('Title:', doi_fetched[1], '')\n",
    "print ('Journal:', doi_fetched[2], '')\n",
    "print ('Volume:', doi_fetched[3], '')\n",
    "print ('Year:', doi_fetched[4], '')\n",
    "print ('Page Start:', doi_fetched[5], '')\n",
    "print ('Page End:', doi_fetched[6], '')\n",
    "print ('Article Number:', doi_fetched[9],'')\n",
    "print ('DOI:', doi_fetched[7], '')\n",
    "print ('URL:', doi_fetched[8], '')"
   ]
  },
  {
   "cell_type": "markdown",
   "metadata": {},
   "source": [
    "## <font color=teal>Step 5. Encoding JSON in HTML <br>\n",
    "<font color=teal>Reference is populated from the Urllib Method"
   ]
  },
  {
   "cell_type": "code",
   "execution_count": 104,
   "metadata": {},
   "outputs": [
    {
     "data": {
      "text/plain": [
       "'(&#x27;R. J. Hargreaves, I. E. Gordon, L. S. Rothman, S. A. Tashkun, V. I. Perevalov, A. A. Lukashevskaya, S. N. Yurchenko, J. Tennyson, H. S.P. Müller&#x27;, &#x27;Spectroscopic line parameters of NO, NO2, and N2O for the HITEMP database&#x27;, &#x27;Journal of Quantitative Spectroscopy and Radiative Transfer&#x27;, &#x27;232&#x27;, 2019, &#x27;35&#x27;, &#x27;53&#x27;, &#x27;10.1016/j.jqsrt.2019.04.040&#x27;, &#x27;http://dx.doi.org/10.1016/j.jqsrt.2019.04.040&#x27;, &#x27;&#x27;)'"
      ]
     },
     "execution_count": 104,
     "metadata": {},
     "output_type": "execute_result"
    }
   ],
   "source": [
    "# I am populating our output from the urllib method\n",
    "# This will replace (\"\"\"& < \" '> \"\"\" ) with (&amp; &lt; &quot; &#x27; &gt;)\n",
    "s = html.escape( \"\"\"& < \" '> \"\"\" ) \n",
    "html.escape(s) #(s, quote=True)\n",
    "html.escape(\"{}\".format(reference))"
   ]
  },
  {
   "cell_type": "markdown",
   "metadata": {},
   "source": [
    "## <font color=maroon>Step 6. BibTeX citation</font>"
   ]
  },
  {
   "cell_type": "code",
   "execution_count": 110,
   "metadata": {},
   "outputs": [
    {
     "name": "stdout",
     "output_type": "stream",
     "text": [
      "@article{tanintroduction,\n",
      "  title={Introduction of water-vapor broadening parameters and their temperature-dependence exponents into the HITRAN database, Part I: CO2, N2O, CO, CH4, O2, NH3, and H2S},\n",
      "  author={Tan, Y and Kochanov, RV and Rothman, LS and Gordon, IE},\n",
      "  journal={Journal of Geophysical Research: Atmospheres},\n",
      "  publisher={Wiley Online Library}\n",
      "}\n"
     ]
    }
   ],
   "source": [
    "\"\"\"Library to query Google Scholar.\n",
    "Call the method query with a string which contains the full search\n",
    "string. Query will return a list of citations.\n",
    "\"\"\"\n",
    "GOOGLE_SCHOLAR_URL = \"https://scholar.google.com\"\n",
    "HEADERS = {'User-Agent': 'Mozilla/5.0'}\n",
    "FORMAT_BIBTEX = 4\n",
    "FORMAT_ENDNOTE = 3\n",
    "FORMAT_REFMAN = 2\n",
    "FORMAT_WENXIANWANG = 5\n",
    "logger = logging.getLogger(__name__)\n",
    "# we are using query in our code\n",
    "def query(searchstr, outformat=FORMAT_BIBTEX, allresults=False):\n",
    "    \"\"\"Query google scholar.\n",
    "    This method queries google scholar and returns a list of citations.\n",
    "    Parameters\n",
    "    ----------\n",
    "    searchstr : str\n",
    "        the query\n",
    "    outformat : int, optional\n",
    "        the output format of the citations. Default is bibtex.\n",
    "    allresults : bool, optional\n",
    "        return all results or only the first (i.e. best one)\n",
    "    Returns\n",
    "    -------\n",
    "    result : list of strings\n",
    "        the list with citations\n",
    "    \"\"\"\n",
    "    logger.debug(\"Query: {sstring}\".format(sstring=searchstr))\n",
    "    searchstr = '/scholar?q='+quote(searchstr)\n",
    "    url = GOOGLE_SCHOLAR_URL + searchstr\n",
    "    header = HEADERS\n",
    "    header['Cookie'] = \"GSP=CF=%d\" % outformat\n",
    "    request = Request(url, headers=header)\n",
    "    response = urlopen(request)\n",
    "    html = response.read()\n",
    "    html = html.decode('utf8')\n",
    "    # grab the links\n",
    "    tmp = get_links(html, outformat)\n",
    "    # follow the bibtex links to get the bibtex entries\n",
    "    result = list()\n",
    "    if not allresults:\n",
    "        tmp = tmp[:1]\n",
    "    for link in tmp:\n",
    "        url = GOOGLE_SCHOLAR_URL+link\n",
    "        request = Request(url, headers=header)\n",
    "        response = urlopen(request)\n",
    "        bib = response.read()\n",
    "        bib = bib.decode('utf8')\n",
    "        result.append(bib)\n",
    "    return result\n",
    "def get_links(html, outformat):\n",
    "    \"\"\"Return a list of reference links from the html.\n",
    "    Parameters\n",
    "    ----------\n",
    "    html : str\n",
    "    outformat : int\n",
    "        the output format of the citations\n",
    "    Returns\n",
    "    -------\n",
    "    List[str]\n",
    "        the links to the references\n",
    "    \"\"\"\n",
    "    if outformat == FORMAT_BIBTEX:\n",
    "        refre = re.compile(r'<a href=\"https://scholar.googleusercontent.com(/scholar\\.bib\\?[^\"]*)')\n",
    "    elif outformat == FORMAT_ENDNOTE:\n",
    "        refre = re.compile(r'<a href=\"https://scholar.googleusercontent.com(/scholar\\.enw\\?[^\"]*)\"')\n",
    "    elif outformat == FORMAT_REFMAN:\n",
    "        refre = re.compile(r'<a href=\"https://scholar.googleusercontent.com(/scholar\\.ris\\?[^\"]*)\"')\n",
    "    elif outformat == FORMAT_WENXIANWANG:\n",
    "        refre = re.compile(r'<a href=\"https://scholar.googleusercontent.com(/scholar\\.ral\\?[^\"]*)\"')\n",
    "    reflist = refre.findall(html)\n",
    "    # escape html entities\n",
    "    reflist = [re.sub('&(%s);' % '|'.join(name2codepoint), lambda m:\n",
    "                      chr(name2codepoint[m.group(1)]), s) for s in reflist]\n",
    "    return reflist\n",
    "class Bibtex(object):\n",
    "    \"\"\" Convert doi number to bibtex entries.\"\"\"\n",
    "    def __init__(self, doi=None, title=None):\n",
    "        \"\"\"\n",
    "        Input doi number ou title (actually any text/keyword.)\n",
    "        Returns doi, encoded doi, and doi url or just the title.\n",
    "        \"\"\"\n",
    "        _base_url = \"http://dx.doi.org/\"\n",
    "        self.doi = doi\n",
    "        self.title = title\n",
    "        self.bibtex = None\n",
    "# Beautiful Soup is a Python library for pulling data out of HTML and XML files\n",
    "    def _soupfy(self, url):\n",
    "        \"\"\"Returns a soup object.\"\"\"\n",
    "        html = request.urlopen(url).read()\n",
    "        self.soup = BeautifulSoup(html, 'html.parser')\n",
    "        return self.soup   \n",
    "    def getGScholar(self):\n",
    "        \"\"\"Get bibtex entry from doi using Google database.\"\"\"\n",
    "        bib = query(self.doi, 4)[0]\n",
    "        bib = bib.split('\\n') \n",
    "        self.bibtex = '\\n'.join(bib[0:-1]) #-9\n",
    "        return self.bibtex\n",
    "def main(argv=None):\n",
    "    if argv is None:\n",
    "        argv = sys.argv\n",
    "    doi = args.positional\n",
    "    method = args.method\n",
    "    def allfailed():\n",
    "        \"\"\"All failed message+google try.\"\"\"\n",
    "        bold, reset = \"\\033[1m\", \"\\033[0;0m\"\n",
    "        bib.getGScholar()\n",
    "        url = bold + bib.url + reset\n",
    "        msg = \"\"\"Unable to resolve this DOI using database\n",
    "        \\nTry opening, \\n\\t{0}\\nand download it manually.\n",
    "        \\n...or if you are lucky check the Google Scholar search below:\n",
    "        \\n{1}\n",
    "        \"\"\".format(url, bib.bibtex)\n",
    "        return msg\n",
    "    bib = Bibtex(doi=doi)\n",
    "doi = '{}'.format(doi)       \n",
    "bib = Bibtex(doi)\n",
    "bib = bib.getGScholar()\n",
    "print(bib)"
   ]
  }
 ],
 "metadata": {
  "kernelspec": {
   "display_name": "Python 3",
   "language": "python",
   "name": "python3"
  },
  "language_info": {
   "codemirror_mode": {
    "name": "ipython",
    "version": 3
   },
   "file_extension": ".py",
   "mimetype": "text/x-python",
   "name": "python",
   "nbconvert_exporter": "python",
   "pygments_lexer": "ipython3",
   "version": "3.7.3"
  }
 },
 "nbformat": 4,
 "nbformat_minor": 2
}

