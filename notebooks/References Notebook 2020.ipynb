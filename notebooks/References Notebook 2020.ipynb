{
 "cells": [
  {
   "cell_type": "markdown",
   "metadata": {},
   "source": [
    "Copyright 2020 Frances M. Skinner\n",
    "SPDX-License-Identifier: Apache-2.0\n",
    "\n",
    "Licensed under the Apache License, Version 2.0 (the \"License\");\n",
    "you may not use this file except in compliance with the License.\n",
    "You may obtain a copy of the License at\n",
    "\n",
    "    https://www.apache.org/licenses/LICENSE-2.0\n",
    "\n",
    "Unless required by applicable law or agreed to in writing, software\n",
    "distributed under the License is distributed on an \"AS IS\" BASIS,\n",
    "WITHOUT WARRANTIES OR CONDITIONS OF ANY KIND, either express or implied.\n",
    "See the License for the specific language governing permissions and\n",
    "limitations under the License."
   ]
  },
  {
   "cell_type": "markdown",
   "metadata": {},
   "source": [
    "# **A Guide to creating citations using only a DOI**\n",
    "*Note: This Notebook seeks to retrieve citations for papers as 3 outputs; JSON, BibTeX and HTML. The citations in this notebook are retrieving the following information on a paper: Title, Authors, Journal Name, Volume Number, Page Range, Year, Hyperlink(s) to the Article and DOI of the Article. If you are looking for more detailed citations or other outputs then please refer to step 3 after completing steps 1 & 2!*\n",
    "\n",
    "### You only need to click run on each cell in this notebook and everything should populate normally!\n",
    "\n",
    "Step 1. Get DOI of the paper you want to cite<br>\n",
    "Step 2. Use DOI to search for the Bibcode -- Enter DOI in prompt provided -- Output will be the Bibcode for the paper<br>\n",
    "Step 3. The Bibcode will automatically be populated for you to search in ADS method. The Output is customizable, all formats possible. This method includes links to paper by DOI url & ADS url<br>\n",
    "Note. (This May Happen to Some Users) Error! My paper was not in ADS! There is no Bibcode for the paper! -- If there is no Bibcode then please Move to Step 4<br>\n",
    "Step 4. Use DOI to search in Urllib method -- your DOI is already populated from step 1 in Urllib Method -- Output will be the full citation as a plain text/JSON output. Output is customizable as HTML through Step 5, or in BibTeX format through Step 6<br>\n",
    "Step 5. The full JSON output will be populated from the Urllib method to encode it as HTML</font> <br>\n",
    "Step 6. The DOI is already populated and you will recieve the full BibTeX citation for the paper using the GScholar Method<br>\n",
    "\n",
    "### *All Done!* Now you have the citation for your paper in 3 different formats!"
   ]
  },
  {
   "cell_type": "markdown",
   "metadata": {},
   "source": [
    "## Before Doing Anything, Import the Necessary Modules"
   ]
  },
  {
   "cell_type": "code",
   "execution_count": 1,
   "metadata": {},
   "outputs": [],
   "source": [
    "# Import these modules\n",
    "# Step 2 Bibcode\n",
    "import requests\n",
    "import json\n",
    "# Step 4 urllib\n",
    "import urllib.request\n",
    "from urllib.error import HTTPError\n",
    "#Step 5 html encoder\n",
    "import html\n",
    "# Step 6 bibtex\n",
    "import re\n",
    "import logging\n",
    "from bs4 import BeautifulSoup  \n",
    "from html.entities import name2codepoint  \n",
    "from urllib.request import quote, Request, urlopen"
   ]
  },
  {
   "cell_type": "markdown",
   "metadata": {},
   "source": [
    "## Step 1. Enter your DOI and Token\n",
    "\n",
    "You can retrieve the DOI for your paper in many different ways.\n",
    "1. What is a DOI?\n",
    "    - The DOI is a unique alphanumeric string assigned by the International DOI Foundation, to identify content and provide a persistent link to its location on the Internet. It is written in the general format of '10.1000/xyz123'\n",
    "2. Where Can I find a DOI?\n",
    "    - The DOI should be written on the top left or top right corner of your paper, it is written as 'DOI:10.1000/xyz123'\n",
    "    - The DOI should be listed in the details or citation section on the publishers website where you have found your paper\n",
    "    - The DOI may also be written as a link, next to the papers information on the publishers website, the link is written as https://doi.org/10.1000/xyz123 or https://dx.doi.org/10.1000/xyz123\n",
    "3. How do I run this notebook?\n",
    "    - In order to use this notebook please type in \"ENTER HERE\" spots the DOI in the '10.1000/xyz123' format, *NOT* as hyperlink\n",
    "    - You only need to run each cell after entering your DOI, everything else will populate for you"
   ]
  },
  {
   "cell_type": "code",
   "execution_count": 2,
   "metadata": {},
   "outputs": [
    {
     "name": "stdout",
     "output_type": "stream",
     "text": [
      "Enter DOI Here: 10.1016/j.jqsrt.2019.106711\n"
     ]
    }
   ],
   "source": [
    "# Enter your token here: You need this for using step 2 and 3\n",
    "# A token can only be used once you have an account on NASA/ADS https://ui.adsabs.harvard.edu/. \n",
    "# Once you have an account click on 'Account', then click on 'Customize Settings' on the dropdown menu. \n",
    "# In 'Customize Settings' there is a panel to the left of the screen, if you scroll down that panel you will see 'API Token'. \n",
    "# Click on 'API Token' and then click on 'generate a new key'.\n",
    "# If your using the django application you can enter your token in the settings file and Import ADS_TOKEN from settings.py\n",
    "token=\"Enter Your Token Here\" \n",
    "doi = input(\"Enter DOI Here: \")"
   ]
  },
  {
   "cell_type": "markdown",
   "metadata": {},
   "source": [
    "## Step 2. Retrive Bibcode"
   ]
  },
  {
   "cell_type": "code",
   "execution_count": 3,
   "metadata": {},
   "outputs": [
    {
     "name": "stdout",
     "output_type": "stream",
     "text": [
      "Bibcode: 2020JQSRT.24106711C\n"
     ]
    }
   ],
   "source": [
    "def get_citeproc_authors(cpd_author):\n",
    "    if cpd_author is None:\n",
    "        return None\n",
    "    names = []\n",
    "    for author in cpd_author:\n",
    "        try:\n",
    "            family = author['family'].title()\n",
    "        except KeyError:\n",
    "            name = author['name']\n",
    "            names.append(name)\n",
    "            continue\n",
    "        try:\n",
    "            given = author['given']\n",
    "        except KeyError:\n",
    "            # This author has first name\n",
    "            names.append(family)\n",
    "            continue\n",
    "        initials = given.split()\n",
    "        initials[0] = '{}.'.format(initials[0][0])\n",
    "        initials = ' '.join(initials)\n",
    "        names.append('{} {}'.format(initials, family))\n",
    "    return ', '.join(names)\n",
    "def parse_citeproc_json(citeproc_json):\n",
    "    \"\"\"Parse the provided JSON into a Ref object.\"\"\"   \n",
    "    cpd = json.loads(citeproc_json)\n",
    "    try:\n",
    "        if cpd['type'] != 'article-journal':\n",
    "            return None\n",
    "    except KeyError:\n",
    "        return None\n",
    "    authors = get_citeproc_authors(cpd.get('author', ''))\n",
    "    title = cpd.get('title', '').replace('\\n', '')\n",
    "    journal = cpd.get('container-title', '')\n",
    "    volume = cpd.get('volume', '')\n",
    "    page_start, page_end = cpd.get('page', ''), ''\n",
    "    if page_start and '-' in page_start:\n",
    "        page_start, page_end = page_start.split('-')\n",
    "    article_number = cpd.get('article-number', '')\n",
    "    doi = cpd.get('DOI', '')\n",
    "    url = cpd.get('URL', '')\n",
    "    try:\n",
    "        year = cpd['issued']['date-parts'][0][0]\n",
    "    except (KeyError, IndexError):\n",
    "        year = None        \n",
    "    try:\n",
    "        bibcode = cpd.get('bibcode', '')\n",
    "    except (KeyError, IndexError):\n",
    "        bibcode = None        \n",
    "# # =============================================================================\n",
    "# #   OUTPUT\n",
    "# # =============================================================================\n",
    "    ref = [authors, \n",
    "        title, \n",
    "        journal, \n",
    "        volume,\n",
    "        year, \n",
    "        page_start, \n",
    "        page_end, \n",
    "        doi,\n",
    "        url, \n",
    "        article_number,\n",
    "        citeproc_json]\n",
    "    return ref \n",
    "def get_citeproc_json_from_doi(doi):\n",
    "    base_url = 'http://dx.doi.org/'\n",
    "    url = base_url + doi\n",
    "    req = urllib.request.Request(url)\n",
    "    req.add_header('Accept', 'application/citeproc+json')\n",
    "    try:\n",
    "        with urllib.request.urlopen(req) as f:\n",
    "            citeproc_json = f.read().decode()\n",
    "    except HTTPError as e:\n",
    "        if e.code == 404:\n",
    "            raise ValueError('DOI not found.')\n",
    "        raise\n",
    "    return citeproc_json\n",
    "def get_source_from_doi(doi):\n",
    "    citeproc_json = get_citeproc_json_from_doi(doi)\n",
    "    ref = parse_citeproc_json(citeproc_json)\n",
    "    return ref\n",
    "doi_fetched = get_source_from_doi(doi)\n",
    "rdoi = doi\n",
    "rdoi_bs = rdoi.replace(\"\\\\\", \"%2F\")    # Remove backslash and replace with URL code for backslash\n",
    "rdoi_fs = rdoi_bs.replace(\"/\", \"%2F\")  # Remove forwardslash and replace with URL code for backslash\n",
    "rurl = requests.get(\"https://api.adsabs.harvard.edu/v1/search/query?q=doi:\"+rdoi_fs,\\\n",
    "                 params={\"q\":\"*:*\", \"fl\": \"*\", \"rows\":2000},\n",
    "                 headers={'Authorization': 'Bearer ' + token})\n",
    "todos          = json.loads(rurl.text)\n",
    "todos_response = todos.get('response', '')\n",
    "Bibcode =  (todos_response['docs'][0]['bibcode']) \n",
    "print(\"Bibcode:\",Bibcode)"
   ]
  },
  {
   "cell_type": "markdown",
   "metadata": {},
   "source": [
    "## Step 3. ADS Method"
   ]
  },
  {
   "cell_type": "markdown",
   "metadata": {},
   "source": [
    "### Note before using ADS Method\n",
    "  1. Exporting using bibcodes require two things.\n",
    "       - A Bibcode Number (which you got from step 2)<br>\n",
    "       - A Token--You will need to know what a Token is. It must be used whenever you want to access the ADS database. A token can only be used once you have an account on NASA/ADS https://ui.adsabs.harvard.edu/. Once you have an account click on 'Account' in the top right hand corner, then click on 'Customize Settings' on the dropdown menu. In 'Customize Settings' there is a panel to the left of the screen, if you scroll down that panel you will see 'API Token'. Click on 'API Token' and then click on 'generate a new key'. <br>\n",
    "         - You are technically using ADS's API when you are using this method. So for any questions/concerns please refer to the NASA/ADS API Information tool on GitHub https://github.com/adsabs/adsabs-dev-api#access-settings <br>\n",
    "  2. The benefits of this method are the endless choices to customize your citation output.\n",
    "     - You can get more information such as... the abstract, copyright, citation count, author affiliation, keywords, publication category and arXiv e-print number, etc.<br>\n",
    "     - You can search more than 1 bibcode at a time<br>\n",
    "     - You have more output options such as... EndNote, ProCite, RIS (Refman), RefWorks, MEDLARS, AASTeX, Icarus, MNRAS, Solar Physics (SoPh), DC (Dublin Core) XML, REF-XML, REFABS-XML, VOTables and RSS<br>\n",
    "     - This notebook does not display examples of all of these output format options, if you are interested in any of these choices or extra features please refer to http://adsabs.github.io/help/actions/export <br>\n",
    "  3. The first option is to retrieve a citation where the output is in HTML unique character (JSON) format<br>\n",
    "  4. The second option is to retrieve a citation where the output is in BibTeX format<br>\n",
    "  6. The third option is to retrieve a citation where the output is in HTML converted character format\n",
    "  \n",
    "*Overall you need to make an account on ADS in order to use this method.*\n",
    "\n",
    "*If you do not want to make an account then use the BibTeX citation from step 6 and if you want, use steps 4 & 5 to retrieve html and JSON citation formats, in steps 4 & 5 you only need to enter the DOI to retrieve citations (the DOI is set to populate for you automatically)*\n",
    "\n",
    "*However there are many benefits to using the ADS method, your citation output is completely customizable! So if your willing and you have your Bibcode then its recommended to use this method!*"
   ]
  },
  {
   "cell_type": "markdown",
   "metadata": {},
   "source": [
    "After running the cell below, you will recieve an HTML reference with the characters &, <, >, and “ included"
   ]
  },
  {
   "cell_type": "code",
   "execution_count": 4,
   "metadata": {},
   "outputs": [
    {
     "name": "stdout",
     "output_type": "stream",
     "text": [
      "authors: Conway, E. K., I. E. Gordon, A. A. Kyuberis, O. L. Polyansky, J. Tennyson, and N. F. Zobov\n",
      "title: Calculated line lists for H<SUB>2</SUB><SUP>16</SUP>O and H<SUB>2</SUB><SUP>18</SUP>O with extensive comparisons to theoretical and experimental sources including the HITRAN2016 database\n",
      "journal: Journal of Quantitative Spectroscopy and Radiative Transfer\n",
      "volume: 241\n",
      "start-page: 106711\n",
      "end-page: %P\n",
      "year: 2020\n",
      "doi: 10.1016/j.jqsrt.2019.106711\n",
      "bibcode: https://ui.adsabs.harvard.edu/abs/2020JQSRT.24106711C\n"
     ]
    }
   ],
   "source": [
    "# HTML with the characters &, <, >, and “ included\n",
    "payload = {\"bibcode\": [\"{}\".format(Bibcode)],\n",
    "           \"sort\": \"first_author asc\",\n",
    "           \"format\":\n",
    "           '''{\"ref_json\": {\"authors\": \"%I\",\n",
    "              \"title\": \"%T\",\n",
    "              \"journal\": \"%J\",\n",
    "              \"volume\": \"%V\",\n",
    "              \"start-page\": \"%p\",\n",
    "              \"end-page\": \"%P\",\n",
    "              \"year\": %Y,\n",
    "              \"doi\": \"%d\",\n",
    "              \"bibcode\": \"%u\"}}'''\n",
    "              }\n",
    "r = requests.post(\"https://api.adsabs.harvard.edu/v1/export/custom\", \\\n",
    "                 headers={\"Authorization\": \"Bearer \" + token, \"Content-type\": \"application/json\"}, \\\n",
    "                 data=json.dumps(payload))\n",
    "response_json = r.json()\n",
    "ref_json = json.loads(response_json['export'])['ref_json']\n",
    "print('authors:', ref_json['authors'])\n",
    "print('title:', ref_json['title'])\n",
    "print('journal:', ref_json['journal'])\n",
    "print('volume:', ref_json['volume'])\n",
    "print('start-page:', ref_json['start-page'])\n",
    "print('end-page:', ref_json['end-page'])\n",
    "print('year:', ref_json['year'])\n",
    "print('doi:', ref_json['doi'])\n",
    "print('bibcode:', ref_json['bibcode'])"
   ]
  },
  {
   "cell_type": "markdown",
   "metadata": {},
   "source": [
    "After running the cell, you will recieve a BibTeX reference"
   ]
  },
  {
   "cell_type": "code",
   "execution_count": 5,
   "metadata": {},
   "outputs": [
    {
     "name": "stdout",
     "output_type": "stream",
     "text": [
      "authors: Conway, E.~K., I.~E. Gordon, A.~A. Kyuberis, O.~L. Polyansky, J. Tennyson, and N.~F. Zobov\n",
      "title: Calculated line lists for H$_{2}$$^{16}$O and H$_{2}$$^{18}$O with extensive comparisons to theoretical and experimental sources including the HITRAN2016 database\n",
      "journal: Journal of Quantitative Spectroscopy and Radiative Transfer\n",
      "volume: 241\n",
      "start-page: 106711\n",
      "end-page: %P\n",
      "year: 2020\n",
      "doi: 10.1016/j.jqsrt.2019.106711\n",
      "bibcode: https://ui.adsabs.harvard.edu/abs/2020JQSRT.24106711C\n"
     ]
    }
   ],
   "source": [
    "# BibTeX Reference\n",
    "payload = {\"bibcode\": [\"{}\".format(Bibcode)],\n",
    "           \"sort\": \"first_author asc\",\n",
    "           \"format\": \n",
    "           '''{\"ref_json\": {\"encoder\": \"%ZEncoding:latex\\\\bibitem\",\n",
    "              \"journal\": \"%J\",\n",
    "              \"title\": \"%T\",\n",
    "              \"volume\": \"%V\",\n",
    "              \"start-page\": \"%p\",\n",
    "              \"end-page\": \"%P\",\n",
    "              \"year\": %Y,\n",
    "              \"authors\": \"%I\",\n",
    "              \"doi\": \"%d\",\n",
    "              \"bibcode\": \"%u\"}}'''\n",
    "              }\n",
    "r = requests.post(\"https://api.adsabs.harvard.edu/v1/export/custom\", \\\n",
    "                 headers={\"Authorization\": \"Bearer \" + token, \"Content-type\": \"application/json\"}, \\\n",
    "                 data=json.dumps(payload))\n",
    "response_json = r.json() \n",
    "ref_json = json.loads(response_json['export'])['ref_json']\n",
    "print('authors:', ref_json['authors'])\n",
    "print('title:', ref_json['title'])\n",
    "print('journal:', ref_json['journal'])\n",
    "print('volume:', ref_json['volume'])\n",
    "print('start-page:', ref_json['start-page'])\n",
    "print('end-page:', ref_json['end-page'])\n",
    "print('year:', ref_json['year'])\n",
    "print('doi:', ref_json['doi'])\n",
    "print('bibcode:', ref_json['bibcode'])\n",
    "# Note if this gives you an error then please remove \"encoder\": \"%ZEncoding:latex\\\\bibitem\", and enter a \\ before each J, T, V,\n",
    "# etc. therefore \"journal\": \"%J\", would be changed to \"journal\": \"%\\J\", thereby encoding the journal name into BibTeX format\n",
    "# this error occurs when the bibtex encoder cannot encode a section of the citation."
   ]
  },
  {
   "cell_type": "markdown",
   "metadata": {},
   "source": [
    "After running the cell below, you will recieve an HTML reference with the characters &, <, >, and “ converted to & amp; & lt; & gt; and & quot; respectively."
   ]
  },
  {
   "cell_type": "code",
   "execution_count": 6,
   "metadata": {},
   "outputs": [
    {
     "name": "stdout",
     "output_type": "stream",
     "text": [
      "authors: Conway, E. K., I. E. Gordon, A. A. Kyuberis, O. L. Polyansky, J. Tennyson, and N. F. Zobov\n",
      "title: Calculated line lists for H&lt;SUB&gt;2&lt;/SUB&gt;&lt;SUP&gt;16&lt;/SUP&gt;O and H&lt;SUB&gt;2&lt;/SUB&gt;&lt;SUP&gt;18&lt;/SUP&gt;O with extensive comparisons to theoretical and experimental sources including the HITRAN2016 database\n",
      "journal: Journal of Quantitative Spectroscopy and Radiative Transfer\n",
      "volume: 241\n",
      "start-page: 106711\n",
      "end-page: %P\n",
      "year: 2020\n",
      "doi: 10.1016/j.jqsrt.2019.106711\n",
      "bibcode: https://ui.adsabs.harvard.edu/abs/2020JQSRT.24106711C\n"
     ]
    }
   ],
   "source": [
    "# HTML with the characters &, <, >, and “ are converted to &amp;, &lt;, &gt;, and &quot;, respectively.\n",
    "payload = {\"bibcode\": [\"{}\".format(Bibcode)],\n",
    "           \"sort\": \"first_author asc\",\n",
    "           \"format\": \n",
    "           '''{\"ref_json\": {\"encoder\": \"%ZEncoding:html<P>\",\n",
    "              \"authors\": \"%I\",\n",
    "              \"title\": \"%T\",\n",
    "              \"journal\": \"%J\",\n",
    "              \"volume\": \"%V\",\n",
    "              \"start-page\": \"%p\",\n",
    "              \"end-page\": \"%P\",\n",
    "              \"year\": %Y,\n",
    "              \"doi\": \"%d\",\n",
    "              \"bibcode\": \"%u\"}}'''\n",
    "              }\n",
    "r = requests.post(\"https://api.adsabs.harvard.edu/v1/export/custom\", \\\n",
    "                 headers={\"Authorization\": \"Bearer \" + token, \"Content-type\": \"application/json\"}, \\\n",
    "                 data=json.dumps(payload))\n",
    "response_json = r.json()\n",
    "ref_json = json.loads(response_json['export'])['ref_json']\n",
    "print('authors:', ref_json['authors'])\n",
    "print('title:', ref_json['title'])\n",
    "print('journal:', ref_json['journal'])\n",
    "print('volume:', ref_json['volume'])\n",
    "print('start-page:', ref_json['start-page'])\n",
    "print('end-page:', ref_json['end-page'])\n",
    "print('year:', ref_json['year'])\n",
    "print('doi:', ref_json['doi'])\n",
    "print('bibcode:', ref_json['bibcode'])"
   ]
  },
  {
   "cell_type": "markdown",
   "metadata": {},
   "source": [
    "## Step 4. Urllib method\n",
    "If you did not have a bibcode or you want a plain text reference then use this method "
   ]
  },
  {
   "cell_type": "code",
   "execution_count": 7,
   "metadata": {},
   "outputs": [
    {
     "name": "stdout",
     "output_type": "stream",
     "text": [
      "Authors: E. K. Conway, I. E. Gordon, A. A. Kyuberis, O. L. Polyansky, J. Tennyson, N. F. Zobov \n",
      "Title: Calculated line lists for H216O and H218O with extensive comparisons to theoretical and experimental sources including the HITRAN2016 database \n",
      "Journal: Journal of Quantitative Spectroscopy and Radiative Transfer \n",
      "Volume: 241 \n",
      "Year: 2020 \n",
      "Page Start: 106711 \n",
      "Page End:  \n",
      "Article Number: 106711 \n",
      "DOI: 10.1016/j.jqsrt.2019.106711 \n",
      "URL: http://dx.doi.org/10.1016/j.jqsrt.2019.106711 \n"
     ]
    }
   ],
   "source": [
    "#doi = input(\"Enter doi Here: \")\n",
    "doi_fetched = get_source_from_doi('{}'.format(doi))\n",
    "\n",
    "# Below are the parameters for searching your citation\n",
    "# if you would like to add or change anything then refer to the initial code in step 2 above to make your changes\n",
    "reference = (doi_fetched[0],doi_fetched[1],doi_fetched[2],doi_fetched[3],doi_fetched[4],doi_fetched[5],doi_fetched[6],doi_fetched[7],doi_fetched[8],doi_fetched[9])\n",
    "\n",
    "print ('Authors:', doi_fetched[0], '')\n",
    "print ('Title:', doi_fetched[1], '')\n",
    "print ('Journal:', doi_fetched[2], '')\n",
    "print ('Volume:', doi_fetched[3], '')\n",
    "print ('Year:', doi_fetched[4], '')\n",
    "print ('Page Start:', doi_fetched[5], '')\n",
    "print ('Page End:', doi_fetched[6], '')\n",
    "print ('Article Number:', doi_fetched[9],'')\n",
    "print ('DOI:', doi_fetched[7], '')\n",
    "print ('URL:', doi_fetched[8], '')"
   ]
  },
  {
   "cell_type": "markdown",
   "metadata": {},
   "source": [
    "## Step 5. Encoding JSON in HTML <br>\n",
    "Reference is populated from the Urllib Method"
   ]
  },
  {
   "cell_type": "code",
   "execution_count": 8,
   "metadata": {},
   "outputs": [
    {
     "data": {
      "text/plain": [
       "'(&#x27;E. K. Conway, I. E. Gordon, A. A. Kyuberis, O. L. Polyansky, J. Tennyson, N. F. Zobov&#x27;, &#x27;Calculated line lists for H216O and H218O with extensive comparisons to theoretical and experimental sources including the HITRAN2016 database&#x27;, &#x27;Journal of Quantitative Spectroscopy and Radiative Transfer&#x27;, &#x27;241&#x27;, 2020, &#x27;106711&#x27;, &#x27;&#x27;, &#x27;10.1016/j.jqsrt.2019.106711&#x27;, &#x27;http://dx.doi.org/10.1016/j.jqsrt.2019.106711&#x27;, &#x27;106711&#x27;)'"
      ]
     },
     "execution_count": 8,
     "metadata": {},
     "output_type": "execute_result"
    }
   ],
   "source": [
    "# Here is the populated output from the urllib method\n",
    "# This will replace (\"\"\"& < \" '> \"\"\" ) with (&amp; &lt; &quot; &#x27; &gt;)\n",
    "s = html.escape( \"\"\"& < \" '> \"\"\" ) \n",
    "html.escape(s)\n",
    "html.escape(\"{}\".format(reference))"
   ]
  },
  {
   "cell_type": "markdown",
   "metadata": {},
   "source": [
    "## Step 6. BibTeX citation"
   ]
  },
  {
   "cell_type": "code",
   "execution_count": 9,
   "metadata": {},
   "outputs": [
    {
     "name": "stdout",
     "output_type": "stream",
     "text": [
      "@article{conway2020calculated,\n",
      "  title={Calculated line lists for H216O and H218O with extensive comparisons to theoretical and experimental sources including the HITRAN2016 database},\n",
      "  author={Conway, Eamon K and Gordon, Iouli E and Kyuberis, Aleksandra A and Polyansky, Oleg L and Tennyson, Jonathan and Zobov, Nikolai F},\n",
      "  journal={Journal of Quantitative Spectroscopy and Radiative Transfer},\n",
      "  volume={241},\n",
      "  pages={106711},\n",
      "  year={2020},\n",
      "  publisher={Elsevier}\n",
      "}\n"
     ]
    }
   ],
   "source": [
    "\"\"\"Library to query Google Scholar.\n",
    "Call the method query with a string which contains the full search\n",
    "string. Query will return a list of citations.\n",
    "\"\"\"\n",
    "GOOGLE_SCHOLAR_URL = \"https://scholar.google.com\"\n",
    "HEADERS = {'User-Agent': 'Mozilla/5.0'}\n",
    "FORMAT_BIBTEX = 4\n",
    "FORMAT_ENDNOTE = 3\n",
    "FORMAT_REFMAN = 2\n",
    "FORMAT_WENXIANWANG = 5\n",
    "logger = logging.getLogger(__name__)\n",
    "# we are using query in our code\n",
    "def query(searchstr, outformat=FORMAT_BIBTEX, allresults=False):\n",
    "    \"\"\"Query google scholar.\n",
    "    This method queries google scholar and returns a list of citations.\n",
    "    Parameters\n",
    "    ----------\n",
    "    searchstr : str\n",
    "        the query\n",
    "    outformat : int, optional\n",
    "        the output format of the citations. Default is bibtex.\n",
    "    allresults : bool, optional\n",
    "        return all results or only the first (i.e. best one)\n",
    "    Returns\n",
    "    -------\n",
    "    result : list of strings\n",
    "        the list with citations\n",
    "    \"\"\"\n",
    "    logger.debug(\"Query: {sstring}\".format(sstring=searchstr))\n",
    "    searchstr = '/scholar?q='+quote(searchstr)\n",
    "    url = GOOGLE_SCHOLAR_URL + searchstr\n",
    "    header = HEADERS\n",
    "    header['Cookie'] = \"GSP=CF=%d\" % outformat\n",
    "    request = Request(url, headers=header)\n",
    "    response = urlopen(request)\n",
    "    html = response.read()\n",
    "    html = html.decode('utf8')\n",
    "    # grab the links\n",
    "    tmp = get_links(html, outformat)\n",
    "    # follow the bibtex links to get the bibtex entries\n",
    "    result = list()\n",
    "    if not allresults:\n",
    "        tmp = tmp[:1]\n",
    "    for link in tmp:\n",
    "        url = GOOGLE_SCHOLAR_URL+link\n",
    "        request = Request(url, headers=header)\n",
    "        response = urlopen(request)\n",
    "        bib = response.read()\n",
    "        bib = bib.decode('utf8')\n",
    "        result.append(bib)\n",
    "    return result\n",
    "def get_links(html, outformat):\n",
    "    \"\"\"Return a list of reference links from the html.\n",
    "    Parameters\n",
    "    ----------\n",
    "    html : str\n",
    "    outformat : int\n",
    "        the output format of the citations\n",
    "    Returns\n",
    "    -------\n",
    "    List[str]\n",
    "        the links to the references\n",
    "    \"\"\"\n",
    "    if outformat == FORMAT_BIBTEX:\n",
    "        refre = re.compile(r'<a href=\"https://scholar.googleusercontent.com(/scholar\\.bib\\?[^\"]*)')\n",
    "    elif outformat == FORMAT_ENDNOTE:\n",
    "        refre = re.compile(r'<a href=\"https://scholar.googleusercontent.com(/scholar\\.enw\\?[^\"]*)\"')\n",
    "    elif outformat == FORMAT_REFMAN:\n",
    "        refre = re.compile(r'<a href=\"https://scholar.googleusercontent.com(/scholar\\.ris\\?[^\"]*)\"')\n",
    "    elif outformat == FORMAT_WENXIANWANG:\n",
    "        refre = re.compile(r'<a href=\"https://scholar.googleusercontent.com(/scholar\\.ral\\?[^\"]*)\"')\n",
    "    reflist = refre.findall(html)\n",
    "    # escape html entities\n",
    "    reflist = [re.sub('&(%s);' % '|'.join(name2codepoint), lambda m:\n",
    "                      chr(name2codepoint[m.group(1)]), s) for s in reflist]\n",
    "    return reflist\n",
    "class Bibtex(object):\n",
    "    \"\"\" Convert doi number to bibtex entries.\"\"\"\n",
    "    def __init__(self, doi=None, title=None):\n",
    "        \"\"\"\n",
    "        Input doi number ou title (actually any text/keyword.)\n",
    "        Returns doi, encoded doi, and doi url or just the title.\n",
    "        \"\"\"\n",
    "        _base_url = \"http://dx.doi.org/\"\n",
    "        self.doi = doi\n",
    "        self.title = title\n",
    "        self.bibtex = None\n",
    "# Beautiful Soup is a Python library for pulling data out of HTML and XML files\n",
    "    def _soupfy(self, url):\n",
    "        \"\"\"Returns a soup object.\"\"\"\n",
    "        html = request.urlopen(url).read()\n",
    "        self.soup = BeautifulSoup(html, 'html.parser')\n",
    "        return self.soup   \n",
    "    def getGScholar(self):\n",
    "        \"\"\"Get bibtex entry from doi using Google database.\"\"\"\n",
    "        bib = query(self.doi, 4)[0]\n",
    "        bib = bib.split('\\n') \n",
    "        self.bibtex = '\\n'.join(bib[0:-1]) #-9\n",
    "        return self.bibtex\n",
    "def main(argv=None):\n",
    "    if argv is None:\n",
    "        argv = sys.argv\n",
    "    doi = args.positional\n",
    "    method = args.method\n",
    "    def allfailed():\n",
    "        \"\"\"All failed message+google try.\"\"\"\n",
    "        bold, reset = \"\\033[1m\", \"\\033[0;0m\"\n",
    "        bib.getGScholar()\n",
    "        url = bold + bib.url + reset\n",
    "        msg = \"\"\"Unable to resolve this DOI using database\n",
    "        \\nTry opening, \\n\\t{0}\\nand download it manually.\n",
    "        \\n...or if you are lucky check the Google Scholar search below:\n",
    "        \\n{1}\n",
    "        \"\"\".format(url, bib.bibtex)\n",
    "        return msg\n",
    "    bib = Bibtex(doi=doi)\n",
    "doi = '{}'.format(doi)       \n",
    "bib = Bibtex(doi)\n",
    "bib = bib.getGScholar()\n",
    "print(bib)"
   ]
  }
 ],
 "metadata": {
  "kernelspec": {
   "display_name": "Python 3",
   "language": "python",
   "name": "python3"
  },
  "language_info": {
   "codemirror_mode": {
    "name": "ipython",
    "version": 3
   },
   "file_extension": ".py",
   "mimetype": "text/x-python",
   "name": "python",
   "nbconvert_exporter": "python",
   "pygments_lexer": "ipython3",
   "version": "3.7.3"
  }
 },
 "nbformat": 4,
 "nbformat_minor": 2
}
